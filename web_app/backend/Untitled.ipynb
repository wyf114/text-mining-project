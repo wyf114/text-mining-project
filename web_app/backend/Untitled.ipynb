{
 "cells": [
  {
   "cell_type": "code",
   "execution_count": 3,
   "id": "63a2e3a2",
   "metadata": {},
   "outputs": [],
   "source": [
    "import os"
   ]
  },
  {
   "cell_type": "code",
   "execution_count": 4,
   "id": "7b1e168b",
   "metadata": {},
   "outputs": [],
   "source": [
    "def saveChapters(dir, split_text, id):\n",
    "    dir = directory(dir)\n",
    "    folder = os.path.join(dir,id)\n",
    "    os.mkdir(folder)\n",
    "    chapter_list = []\n",
    "    for i in split_text:\n",
    "        if i != '':\n",
    "            name = i.split(\"\\n\")\n",
    "            name = [x for x in name if x != '']\n",
    "            form_name = name[0].replace(\".\", \"_\").replace(\" \", \"_\").replace(\":\", \"\").replace(\"?\", \"\").replace('\"', \"\").replace('\\x00', \"\")\n",
    "            \n",
    "            if(form_name not in remove_list):\n",
    "                with open (f'./{folder}/{form_name}.txt', \"w\", encoding='utf-8') as f:\n",
    "                    f.write(i)\n",
    "                    f.close()\n",
    "                    chapter_list.append(form_name)\n",
    "    return chapter_list"
   ]
  },
  {
   "cell_type": "code",
   "execution_count": 6,
   "id": "27966d88",
   "metadata": {},
   "outputs": [],
   "source": [
    "folder = os.path.join('/test_data','4339')"
   ]
  },
  {
   "cell_type": "code",
   "execution_count": 10,
   "id": "28c57939",
   "metadata": {},
   "outputs": [
    {
     "data": {
      "text/plain": [
       "'/test_data\\\\4339'"
      ]
     },
     "execution_count": 10,
     "metadata": {},
     "output_type": "execute_result"
    }
   ],
   "source": [
    "folder"
   ]
  },
  {
   "cell_type": "code",
   "execution_count": 11,
   "id": "1cdd4395",
   "metadata": {},
   "outputs": [],
   "source": [
    "def directory(input_name):\n",
    "    dir = input_name #+ ' ' + datetime.now().strftime(\"Day-%d %m %y_Time-%H %M %S\")\n",
    "    if os.path.exists(dir):\n",
    "        shutil.rmtree(dir)\n",
    "    os.makedirs(dir)\n",
    "    return dir"
   ]
  },
  {
   "cell_type": "code",
   "execution_count": 12,
   "id": "84220769",
   "metadata": {},
   "outputs": [
    {
     "data": {
      "text/plain": [
       "'test_data/Chapters3'"
      ]
     },
     "execution_count": 12,
     "metadata": {},
     "output_type": "execute_result"
    }
   ],
   "source": [
    "directory(\"test_data/Chapters3\")"
   ]
  },
  {
   "cell_type": "code",
   "execution_count": null,
   "id": "23bc6f3f",
   "metadata": {},
   "outputs": [],
   "source": []
  }
 ],
 "metadata": {
  "kernelspec": {
   "display_name": "Python 3 (ipykernel)",
   "language": "python",
   "name": "python3"
  },
  "language_info": {
   "codemirror_mode": {
    "name": "ipython",
    "version": 3
   },
   "file_extension": ".py",
   "mimetype": "text/x-python",
   "name": "python",
   "nbconvert_exporter": "python",
   "pygments_lexer": "ipython3",
   "version": "3.9.13"
  }
 },
 "nbformat": 4,
 "nbformat_minor": 5
}
