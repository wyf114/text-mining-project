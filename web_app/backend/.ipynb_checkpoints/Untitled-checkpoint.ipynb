{
 "cells": [
  {
   "cell_type": "code",
   "execution_count": null,
   "id": "0ef914ed",
   "metadata": {},
   "outputs": [],
   "source": [
    "import os"
   ]
  },
  {
   "cell_type": "code",
   "execution_count": 1,
   "id": "6eaeacca",
   "metadata": {},
   "outputs": [],
   "source": [
    "def saveChapters(dir, split_text, id):\n",
    "    dir = directory(dir)\n",
    "    folder = os.path.join(dir,id)\n",
    "    os.mkdir(folder)\n",
    "    chapter_list = []\n",
    "    for i in split_text:\n",
    "        if i != '':\n",
    "            name = i.split(\"\\n\")\n",
    "            name = [x for x in name if x != '']\n",
    "            form_name = name[0].replace(\".\", \"_\").replace(\" \", \"_\").replace(\":\", \"\").replace(\"?\", \"\").replace('\"', \"\").replace('\\x00', \"\")\n",
    "            \n",
    "            if(form_name not in remove_list):\n",
    "                with open (f'./{folder}/{form_name}.txt', \"w\", encoding='utf-8') as f:\n",
    "                    f.write(i)\n",
    "                    f.close()\n",
    "                    chapter_list.append(form_name)\n",
    "    return chapter_list"
   ]
  },
  {
   "cell_type": "code",
   "execution_count": 2,
   "id": "f5fd4869",
   "metadata": {},
   "outputs": [
    {
     "ename": "NameError",
     "evalue": "name 'os' is not defined",
     "output_type": "error",
     "traceback": [
      "\u001b[1;31m---------------------------------------------------------------------------\u001b[0m",
      "\u001b[1;31mNameError\u001b[0m                                 Traceback (most recent call last)",
      "\u001b[1;32m~\\AppData\\Local\\Temp\\ipykernel_26580\\1582018360.py\u001b[0m in \u001b[0;36m<module>\u001b[1;34m\u001b[0m\n\u001b[1;32m----> 1\u001b[1;33m \u001b[0mfolder\u001b[0m \u001b[1;33m=\u001b[0m \u001b[0mos\u001b[0m\u001b[1;33m.\u001b[0m\u001b[0mpath\u001b[0m\u001b[1;33m.\u001b[0m\u001b[0mjoin\u001b[0m\u001b[1;33m(\u001b[0m\u001b[0mdir\u001b[0m\u001b[1;33m,\u001b[0m\u001b[0mid\u001b[0m\u001b[1;33m)\u001b[0m\u001b[1;33m\u001b[0m\u001b[1;33m\u001b[0m\u001b[0m\n\u001b[0m",
      "\u001b[1;31mNameError\u001b[0m: name 'os' is not defined"
     ]
    }
   ],
   "source": [
    "folder = os.path.join(dir,id)"
   ]
  },
  {
   "cell_type": "code",
   "execution_count": null,
   "id": "65c3b2cb",
   "metadata": {},
   "outputs": [],
   "source": []
  }
 ],
 "metadata": {
  "kernelspec": {
   "display_name": "Python 3 (ipykernel)",
   "language": "python",
   "name": "python3"
  },
  "language_info": {
   "codemirror_mode": {
    "name": "ipython",
    "version": 3
   },
   "file_extension": ".py",
   "mimetype": "text/x-python",
   "name": "python",
   "nbconvert_exporter": "python",
   "pygments_lexer": "ipython3",
   "version": "3.9.13"
  }
 },
 "nbformat": 4,
 "nbformat_minor": 5
}
