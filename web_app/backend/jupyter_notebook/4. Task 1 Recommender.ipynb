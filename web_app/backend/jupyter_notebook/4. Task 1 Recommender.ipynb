{
 "cells": [
  {
   "cell_type": "code",
   "execution_count": 1,
   "id": "2223cb35",
   "metadata": {},
   "outputs": [],
   "source": [
    "import gensim\n",
    "from gensim import corpora\n",
    "from gensim import similarities\n",
    "from gensim import models\n",
    "from gensim.models import CoherenceModel\n",
    "\n",
    "import preprocess"
   ]
  },
  {
   "cell_type": "markdown",
   "id": "64ad05ff",
   "metadata": {},
   "source": [
    "# Load LDA Model"
   ]
  },
  {
   "cell_type": "code",
   "execution_count": 2,
   "id": "045515f3",
   "metadata": {},
   "outputs": [],
   "source": [
    "lda_disk=gensim.models.ldamodel.LdaModel.load(\"Model/finalmodel_5Topics\")"
   ]
  },
  {
   "cell_type": "code",
   "execution_count": 3,
   "id": "4e7a2f58",
   "metadata": {},
   "outputs": [],
   "source": [
    "id2word = corpora.Dictionary.load('Model/finalmodel_Dictionary')"
   ]
  },
  {
   "cell_type": "markdown",
   "id": "35663574",
   "metadata": {},
   "source": [
    "# Extract & Preprocess Test Data"
   ]
  },
  {
   "cell_type": "code",
   "execution_count": 4,
   "id": "b4ef0083",
   "metadata": {},
   "outputs": [],
   "source": [
    "test_corpus = preprocess.load_corpus('Data/Test/Chapters/5827')\n",
    "\n",
    "test_ids = test_corpus.fileids()\n",
    "chapters_name = [id.replace('.txt','') for id in test_ids]\n",
    "\n",
    "test_docs = preprocess.corpus2docs(test_corpus)"
   ]
  },
  {
   "cell_type": "code",
   "execution_count": 5,
   "id": "0e8a6ff0",
   "metadata": {},
   "outputs": [],
   "source": [
    "bigram = gensim.models.Phrases(test_docs, min_count=5, threshold=50) # higher threshold fewer phrases.\n",
    "trigram = gensim.models.Phrases(bigram[test_docs], threshold=50)  \n",
    "\n",
    "bigram_mod = gensim.models.phrases.Phraser(bigram)\n",
    "trigram_mod = gensim.models.phrases.Phraser(trigram)\n",
    "\n",
    "docs_bigrams = preprocess.make_bigrams(bigram_mod, test_docs)\n",
    "data_bigrams_trigrams = preprocess.make_trigrams(bigram_mod, trigram_mod, docs_bigrams)"
   ]
  },
  {
   "cell_type": "code",
   "execution_count": 6,
   "id": "3e15ef27",
   "metadata": {},
   "outputs": [],
   "source": [
    "test_vecs = preprocess.docs2vecs(data_bigrams_trigrams, id2word)\n"
   ]
  },
  {
   "cell_type": "code",
   "execution_count": 7,
   "id": "6cb05d15",
   "metadata": {},
   "outputs": [
    {
     "name": "stdout",
     "output_type": "stream",
     "text": [
      "test doc0: [(0, 0.8512395), (1, 0.031325232), (2, 0.042352553), (3, 0.02898035), (4, 0.04610237)]\n",
      "Closest Topic: Topic 0\n",
      "test doc1: [(0, 0.71457255), (1, 0.0607099), (2, 0.050569046), (3, 0.03013943), (4, 0.14400911)]\n",
      "Closest Topic: Topic 0\n",
      "test doc2: [(0, 0.79104424), (2, 0.1284489), (3, 0.017346406), (4, 0.05698666)]\n",
      "Closest Topic: Topic 0\n",
      "test doc3: [(0, 0.82206583), (1, 0.019720402), (2, 0.023332983), (3, 0.10450603), (4, 0.030374799)]\n",
      "Closest Topic: Topic 0\n",
      "test doc4: [(0, 0.78624094), (1, 0.023834568), (2, 0.07907826), (3, 0.061529584), (4, 0.04931661)]\n",
      "Closest Topic: Topic 0\n",
      "test doc5: [(0, 0.8121431), (1, 0.013335185), (2, 0.093561254), (3, 0.04968349), (4, 0.031277)]\n",
      "Closest Topic: Topic 0\n",
      "test doc6: [(0, 0.7700966), (1, 0.017697612), (2, 0.07986363), (3, 0.08581666), (4, 0.046525497)]\n",
      "Closest Topic: Topic 0\n",
      "test doc7: [(0, 0.7267715), (1, 0.035118613), (2, 0.07545919), (3, 0.1138732), (4, 0.04877754)]\n",
      "Closest Topic: Topic 0\n",
      "test doc8: [(0, 0.92338794), (1, 0.012864977), (2, 0.013098274), (3, 0.016143648), (4, 0.034505136)]\n",
      "Closest Topic: Topic 0\n",
      "test doc9: [(0, 0.8023188), (1, 0.011076362), (2, 0.029025482), (3, 0.039207093), (4, 0.118372224)]\n",
      "Closest Topic: Topic 0\n",
      "test doc10: [(0, 0.958261), (4, 0.024440233)]\n",
      "Closest Topic: Topic 0\n",
      "test doc11: [(0, 0.78283864), (2, 0.05338971), (3, 0.07304264), (4, 0.08124855)]\n",
      "Closest Topic: Topic 0\n",
      "test doc12: [(0, 0.87691134), (1, 0.023536615), (2, 0.032289132), (3, 0.020586), (4, 0.046676937)]\n",
      "Closest Topic: Topic 0\n",
      "test doc13: [(0, 0.86617714), (1, 0.010736276), (2, 0.033774793), (3, 0.021067312), (4, 0.06824446)]\n",
      "Closest Topic: Topic 0\n"
     ]
    }
   ],
   "source": [
    "for i in range(0,len(test_vecs)):\n",
    "    vector = lda_disk[test_vecs[i]]\n",
    "    sim_topic = max(vector,key=lambda item:item[1])\n",
    "    print(\"test doc\" + str(i) + \": \" + str(vector))\n",
    "    print(\"Closest Topic: Topic \" + str(sim_topic[0]))"
   ]
  },
  {
   "cell_type": "code",
   "execution_count": 8,
   "id": "9310912b",
   "metadata": {},
   "outputs": [
    {
     "data": {
      "text/plain": [
       "[('conception', 0.027145082),\n",
       " ('government', 0.022720162),\n",
       " ('sensation', 0.018105727),\n",
       " ('image', 0.01726499),\n",
       " ('phenomenon', 0.015763616),\n",
       " ('pure', 0.01214446),\n",
       " ('belief', 0.011896276),\n",
       " ('proposition', 0.011019741),\n",
       " ('cognition', 0.010935685),\n",
       " ('city', 0.009880032),\n",
       " ('property', 0.009632613),\n",
       " ('intuition', 0.009512458),\n",
       " ('perception', 0.009453786),\n",
       " ('consciousness', 0.009450355),\n",
       " ('physical', 0.009419074),\n",
       " ('object', 0.008926799),\n",
       " ('empirical', 0.008017107),\n",
       " ('emotion', 0.007886184),\n",
       " ('representation', 0.007865984),\n",
       " ('space', 0.007719732)]"
      ]
     },
     "execution_count": 8,
     "metadata": {},
     "output_type": "execute_result"
    }
   ],
   "source": [
    "topic_word = lda_disk.show_topic(0, topn=len(id2word))\n",
    "topic_word[0:20]"
   ]
  },
  {
   "cell_type": "markdown",
   "id": "0947467b",
   "metadata": {},
   "source": [
    "## Model 1 - Using Similarity Score"
   ]
  },
  {
   "cell_type": "markdown",
   "id": "2a94e79d",
   "metadata": {},
   "source": [
    "### Top Keywords"
   ]
  },
  {
   "cell_type": "code",
   "execution_count": 9,
   "id": "95598703",
   "metadata": {},
   "outputs": [],
   "source": [
    "chap_num = 4\n",
    "vector = lda_disk[test_vecs[chap_num]]\n",
    "sim_topic = max(vector,key=lambda item:item[1])\n",
    "top_topic = sim_topic[0]\n",
    "top_topic\n",
    "topic_word = lda_disk.show_topic(top_topic, topn=len(id2word))\n",
    "# topic_word"
   ]
  },
  {
   "cell_type": "code",
   "execution_count": 10,
   "id": "11185c5d",
   "metadata": {},
   "outputs": [
    {
     "data": {
      "text/plain": [
       "['absurdity',\n",
       " 'accept',\n",
       " 'actually',\n",
       " 'acute',\n",
       " 'admit',\n",
       " 'advance',\n",
       " 'agree',\n",
       " 'almost',\n",
       " 'already',\n",
       " 'also']"
      ]
     },
     "execution_count": 10,
     "metadata": {},
     "output_type": "execute_result"
    }
   ],
   "source": [
    "selected_words = [id2word[i[0]] for i in test_vecs[chap_num]]\n",
    "selected_words[0:10]"
   ]
  },
  {
   "cell_type": "code",
   "execution_count": 11,
   "id": "86ebd317",
   "metadata": {},
   "outputs": [
    {
     "data": {
      "text/plain": [
       "[]"
      ]
     },
     "execution_count": 11,
     "metadata": {},
     "output_type": "execute_result"
    }
   ],
   "source": [
    "key_words = []\n",
    "\n",
    "keyword_type = 'bigrams'\n",
    "for word in topic_word:\n",
    "    if(keyword_type == 'unigrams'):\n",
    "        if (len(key_words) < 5) & (word [0] in selected_words):\n",
    "            key_words.append(word)\n",
    "    else:\n",
    "        if ('_' in word[0]) & (len(key_words) < 5) & (word [0] in selected_words):\n",
    "            key_words.append(word)\n",
    "\n",
    "key_words"
   ]
  },
  {
   "cell_type": "markdown",
   "id": "536eb153",
   "metadata": {},
   "source": [
    "### Recommender"
   ]
  },
  {
   "cell_type": "code",
   "execution_count": 12,
   "id": "e184651a",
   "metadata": {},
   "outputs": [
    {
     "data": {
      "text/plain": [
       "['CHAPTER_III__THE_NATURE_OF_MATTER',\n",
       " 'CHAPTER_II__THE_EXISTENCE_OF_MATTER',\n",
       " 'CHAPTER_IV__IDEALISM',\n",
       " 'CHAPTER_IX__THE_WORLD_OF_UNIVERSALS',\n",
       " 'CHAPTER_I__APPEARANCE_AND_REALITY',\n",
       " 'CHAPTER_VIII__HOW__A_PRIORI__KNOWLEDGE_IS_POSSIBLE',\n",
       " 'CHAPTER_VII__ON_OUR_KNOWLEDGE_OF_GENERAL_PRINCIPLES',\n",
       " 'CHAPTER_VI__ON_INDUCTION',\n",
       " 'CHAPTER_V__KNOWLEDGE_BY_ACQUAINTANCE_AND_KNOWLEDGE_BY_DESCRIPTION',\n",
       " 'CHAPTER_XIII__KNOWLEDGE,_ERROR,_AND_PROBABLE_OPINION',\n",
       " 'CHAPTER_XII__TRUTH_AND_FALSEHOOD',\n",
       " 'CHAPTER_XIV__THE_LIMITS_OF_PHILOSOPHICAL_KNOWLEDGE',\n",
       " 'CHAPTER_XI__ON_INTUITIVE_KNOWLEDGE',\n",
       " 'CHAPTER_X__ON_OUR_KNOWLEDGE_OF_UNIVERSALS']"
      ]
     },
     "execution_count": 12,
     "metadata": {},
     "output_type": "execute_result"
    }
   ],
   "source": [
    "chapters_name"
   ]
  },
  {
   "cell_type": "code",
   "execution_count": 13,
   "id": "2ad13461",
   "metadata": {},
   "outputs": [
    {
     "name": "stdout",
     "output_type": "stream",
     "text": [
      "Top 3 Recommended Chapters:\n",
      "1. CHAPTER_VII__ON_OUR_KNOWLEDGE_OF_GENERAL_PRINCIPLES(0.9994335)\n",
      "2. CHAPTER_VIII__HOW__A_PRIORI__KNOWLEDGE_IS_POSSIBLE(0.9993707)\n",
      "3. CHAPTER_XIV__THE_LIMITS_OF_PHILOSOPHICAL_KNOWLEDGE(0.99810404)\n"
     ]
    }
   ],
   "source": [
    "chap_num = 4\n",
    "\n",
    "chosen_chapter = chapters_name[chap_num]\n",
    "recommendation_scores = []\n",
    "similarity = similarities.MatrixSimilarity(lda_disk[test_vecs])\n",
    "\n",
    "for i in range(0,len(test_vecs)):\n",
    "    vector = lda_disk[test_vecs[i]]\n",
    "    sim_topic = max(vector,key=lambda item:item[1])\n",
    "    \n",
    "    if(i == chap_num):\n",
    "        sims = similarity[vector]\n",
    "        sims = list(enumerate(sims))\n",
    "        for sim in sims:\n",
    "            chapter_num = sim[0]\n",
    "            recommendation_score = [chapters_name[chapter_num], sim[1]]\n",
    "            recommendation_scores.append(recommendation_score)\n",
    "        \n",
    "recommendation_scores = sorted(recommendation_scores, key=lambda x: x[1], reverse=True)     \n",
    "recommendation = []\n",
    "\n",
    "\n",
    "print('Top 3 Recommended Chapters:')\n",
    "for i in range(1,4):\n",
    "    recommendation.append((recommendation_scores[i][0], recommendation_scores[i][1]))\n",
    "    print(f'{i}. {str(recommendation_scores[i][0])}({str(recommendation_scores[i][1])})')"
   ]
  },
  {
   "cell_type": "markdown",
   "id": "4ce8924f",
   "metadata": {},
   "source": [
    "## Model 2 - Using Distribution of Topics"
   ]
  },
  {
   "cell_type": "code",
   "execution_count": 14,
   "id": "be943b70",
   "metadata": {},
   "outputs": [
    {
     "data": {
      "text/plain": [
       "['CHAPTER_III__THE_NATURE_OF_MATTER',\n",
       " 'CHAPTER_II__THE_EXISTENCE_OF_MATTER',\n",
       " 'CHAPTER_IV__IDEALISM',\n",
       " 'CHAPTER_IX__THE_WORLD_OF_UNIVERSALS',\n",
       " 'CHAPTER_I__APPEARANCE_AND_REALITY',\n",
       " 'CHAPTER_VIII__HOW__A_PRIORI__KNOWLEDGE_IS_POSSIBLE',\n",
       " 'CHAPTER_VII__ON_OUR_KNOWLEDGE_OF_GENERAL_PRINCIPLES',\n",
       " 'CHAPTER_VI__ON_INDUCTION',\n",
       " 'CHAPTER_V__KNOWLEDGE_BY_ACQUAINTANCE_AND_KNOWLEDGE_BY_DESCRIPTION',\n",
       " 'CHAPTER_XIII__KNOWLEDGE,_ERROR,_AND_PROBABLE_OPINION',\n",
       " 'CHAPTER_XII__TRUTH_AND_FALSEHOOD',\n",
       " 'CHAPTER_XIV__THE_LIMITS_OF_PHILOSOPHICAL_KNOWLEDGE',\n",
       " 'CHAPTER_XI__ON_INTUITIVE_KNOWLEDGE',\n",
       " 'CHAPTER_X__ON_OUR_KNOWLEDGE_OF_UNIVERSALS']"
      ]
     },
     "execution_count": 14,
     "metadata": {},
     "output_type": "execute_result"
    }
   ],
   "source": [
    "chapters_name"
   ]
  },
  {
   "cell_type": "code",
   "execution_count": 15,
   "id": "a99f8813",
   "metadata": {},
   "outputs": [
    {
     "name": "stdout",
     "output_type": "stream",
     "text": [
      "Top 3 Recommended Chapters:\n",
      "1. CHAPTER_XIV__THE_LIMITS_OF_PHILOSOPHICAL_KNOWLEDGE\n",
      "2. CHAPTER_IV__IDEALISM\n",
      "3. CHAPTER_XIII__KNOWLEDGE,_ERROR,_AND_PROBABLE_OPINION\n"
     ]
    }
   ],
   "source": [
    "# if first digit in tuple matches, store doc\n",
    "# reco_docs -- dont remove user input\n",
    "# - get index of user input within reco_docs\n",
    "# - compare difference between first topic probability and store as list; e.g. {4: 0.002,...}\n",
    "# - take top 5 minimum difference\n",
    "\n",
    "# chap_num = 0\n",
    "vector_selected = lda_disk[test_vecs[chap_num]]\n",
    "vector_selected.sort(key=lambda x: x[1], reverse=True)\n",
    "vector_selected\n",
    "\n",
    "reco_docs = {}\n",
    "\n",
    "for i in range(0,len(test_vecs)):\n",
    "    vector = lda_disk[test_vecs[i]]\n",
    "    vector.sort(key=lambda x: x[1], reverse=True)\n",
    "    \n",
    "    if (vector[0][0]==vector_selected[0][0]) & (vector[1][0] == vector_selected[1][0]):\n",
    "        reco_docs[i] = vector\n",
    "        # print(vector[0][1])\n",
    "\n",
    "# print(reco_docs)\n",
    "input_topic = reco_docs[chap_num]\n",
    "\n",
    "# Remove user input\n",
    "if chap_num in reco_docs.keys():\n",
    "    reco_docs.pop(chap_num)\n",
    "\n",
    "# if there's no 2 same topics\n",
    "if len(reco_docs) < 3:\n",
    "    for i in range(0,len(test_vecs)):\n",
    "        vector = lda_disk[test_vecs[i]]\n",
    "        vector.sort(key=lambda x: x[1], reverse=True)\n",
    "        \n",
    "        if (vector[0][0]==vector_selected[0][0]):\n",
    "            reco_docs[i] = vector\n",
    "\n",
    "    # Remove user input\n",
    "    if chap_num in reco_docs.keys():\n",
    "        reco_docs.pop(chap_num)\n",
    "\n",
    "diff = \"\"\n",
    "diff_dict = {}\n",
    "for x, y in reco_docs.items():\n",
    "    diff = abs(input_topic[0][1] - reco_docs[x][0][1])\n",
    "    diff_dict[x] = diff\n",
    "\n",
    "diff_dict = sorted(diff_dict.items(), key=lambda x:x[1], reverse=False)\n",
    "diff_dict = dict(diff_dict)\n",
    "# print(diff_dict)\n",
    "\n",
    "lst = list(diff_dict.keys())\n",
    "# print(lst[0:5])\n",
    "\n",
    "print('Top 3 Recommended Chapters:')\n",
    "for i in range(0,len(lst)):\n",
    "    if i < 3:\n",
    "        print(f'{i+1}. {chapters_name[lst[i]]}')"
   ]
  }
 ],
 "metadata": {
  "kernelspec": {
   "display_name": "Python 3",
   "language": "python",
   "name": "python3"
  },
  "language_info": {
   "codemirror_mode": {
    "name": "ipython",
    "version": 3
   },
   "file_extension": ".py",
   "mimetype": "text/x-python",
   "name": "python",
   "nbconvert_exporter": "python",
   "pygments_lexer": "ipython3",
   "version": "3.7.6"
  }
 },
 "nbformat": 4,
 "nbformat_minor": 5
}
