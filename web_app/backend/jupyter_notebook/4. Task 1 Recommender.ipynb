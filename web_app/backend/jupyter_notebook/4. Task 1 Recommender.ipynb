{
 "cells": [
  {
   "cell_type": "code",
   "execution_count": 26,
   "id": "11177695",
   "metadata": {},
   "outputs": [],
   "source": [
    "import gensim\n",
    "from gensim import corpora\n",
    "from gensim import similarities\n",
    "from gensim import models\n",
    "from gensim.models import CoherenceModel\n",
    "\n",
    "import preprocess"
   ]
  },
  {
   "cell_type": "markdown",
   "id": "c134cde5",
   "metadata": {},
   "source": [
    "# Load LDA Model"
   ]
  },
  {
   "cell_type": "code",
   "execution_count": 27,
   "id": "f305db90",
   "metadata": {},
   "outputs": [],
   "source": [
    "lda_disk=gensim.models.ldamodel.LdaModel.load(\"Model/finalmodel_5Topics\")"
   ]
  },
  {
   "cell_type": "code",
   "execution_count": 28,
   "id": "94991445",
   "metadata": {},
   "outputs": [],
   "source": [
    "id2word = corpora.Dictionary.load('Model/finalmodel_Dictionary')"
   ]
  },
  {
   "cell_type": "markdown",
   "id": "cdf8a9f5",
   "metadata": {},
   "source": [
    "# Extract & Preprocess Test Data"
   ]
  },
  {
   "cell_type": "code",
   "execution_count": 29,
   "id": "1ea8e06f",
   "metadata": {},
   "outputs": [],
   "source": [
    "test_corpus_1974 = preprocess.load_corpus('Data/Test/Chapters/5827')\n",
    "\n",
    "test_ids = test_corpus_1974.fileids()\n",
    "chapters_name = [id.replace('.txt','') for id in test_ids]\n",
    "\n",
    "test_docs_1974 = preprocess.corpus2docs(test_corpus_1974)"
   ]
  },
  {
   "cell_type": "code",
   "execution_count": 31,
   "id": "c00ca8b8",
   "metadata": {},
   "outputs": [],
   "source": [
    "bigram = gensim.models.Phrases(test_docs_1974, min_count=5, threshold=50) # higher threshold fewer phrases.\n",
    "trigram = gensim.models.Phrases(bigram[test_docs_1974], threshold=50)  \n",
    "\n",
    "bigram_mod = gensim.models.phrases.Phraser(bigram)\n",
    "trigram_mod = gensim.models.phrases.Phraser(trigram)\n",
    "\n",
    "docs_bigrams = preprocess.make_bigrams(bigram_mod, test_docs_1974)\n",
    "data_bigrams_trigrams = preprocess.make_trigrams(bigram_mod, trigram_mod, docs_bigrams)"
   ]
  },
  {
   "cell_type": "code",
   "execution_count": 32,
   "id": "6b13caa5",
   "metadata": {},
   "outputs": [],
   "source": [
    "test_vecs_1974 = preprocess.docs2vecs(data_bigrams_trigrams, id2word)\n"
   ]
  },
  {
   "cell_type": "code",
   "execution_count": 33,
   "id": "0b129b1a",
   "metadata": {},
   "outputs": [
    {
     "name": "stdout",
     "output_type": "stream",
     "text": [
      "test doc0: [(0, 0.109553985), (1, 0.040380456), (2, 0.7793988), (3, 0.015262106), (4, 0.055404693)]\n",
      "Closest Topic: Topic 2\n",
      "test doc1: [(0, 0.03692635), (1, 0.04586395), (2, 0.78906095), (3, 0.016777), (4, 0.11137178)]\n",
      "Closest Topic: Topic 2\n",
      "test doc2: [(1, 0.11863371), (2, 0.77049226), (4, 0.09362885)]\n",
      "Closest Topic: Topic 2\n",
      "test doc3: [(0, 0.05057396), (1, 0.06623251), (2, 0.6249936), (3, 0.010321293), (4, 0.24787857)]\n",
      "Closest Topic: Topic 2\n",
      "test doc4: [(0, 0.012054646), (1, 0.06215301), (2, 0.73367506), (3, 0.022892969), (4, 0.16922428)]\n",
      "Closest Topic: Topic 2\n",
      "test doc5: [(0, 0.058278143), (1, 0.0829374), (2, 0.66234493), (3, 0.017452115), (4, 0.17898737)]\n",
      "Closest Topic: Topic 2\n",
      "test doc6: [(0, 0.05036419), (1, 0.08894618), (2, 0.6027736), (3, 0.036499497), (4, 0.22141652)]\n",
      "Closest Topic: Topic 2\n",
      "test doc7: [(0, 0.027282754), (1, 0.05854047), (2, 0.81275874), (4, 0.09830662)]\n",
      "Closest Topic: Topic 2\n",
      "test doc8: [(0, 0.03441285), (1, 0.018538527), (2, 0.5569199), (3, 0.013476093), (4, 0.37665266)]\n",
      "Closest Topic: Topic 2\n",
      "test doc9: [(0, 0.06784928), (1, 0.07457151), (2, 0.6000685), (3, 0.01383046), (4, 0.24368027)]\n",
      "Closest Topic: Topic 2\n",
      "test doc10: [(0, 0.019543717), (1, 0.029645495), (2, 0.7240638), (4, 0.22199403)]\n",
      "Closest Topic: Topic 2\n",
      "test doc11: [(0, 0.1066576), (1, 0.068814725), (2, 0.66977656), (3, 0.023016924), (4, 0.13173418)]\n",
      "Closest Topic: Topic 2\n",
      "test doc12: [(0, 0.046054132), (1, 0.07489621), (2, 0.71878314), (3, 0.020073406), (4, 0.14019312)]\n",
      "Closest Topic: Topic 2\n",
      "test doc13: [(0, 0.05859615), (1, 0.0591205), (2, 0.60087377), (4, 0.27806792)]\n",
      "Closest Topic: Topic 2\n"
     ]
    }
   ],
   "source": [
    "for i in range(0,len(test_vecs_1974)):\n",
    "    vector = lda_disk[test_vecs_1974[i]]\n",
    "    sim_topic = max(vector,key=lambda item:item[1])\n",
    "    print(\"test doc\" + str(i) + \": \" + str(vector))\n",
    "    print(\"Closest Topic: Topic \" + str(sim_topic[0]))"
   ]
  },
  {
   "cell_type": "code",
   "execution_count": 34,
   "id": "2a747bde",
   "metadata": {},
   "outputs": [
    {
     "data": {
      "text/plain": [
       "[('conception', 0.032495115),\n",
       " ('zarathustra', 0.024165511),\n",
       " ('thou', 0.021026777),\n",
       " ('hath', 0.015878359),\n",
       " ('pure', 0.014599969),\n",
       " ('phenomenon', 0.013353135),\n",
       " ('thee', 0.013118728),\n",
       " ('unto', 0.012600138),\n",
       " ('cognition', 0.011412212),\n",
       " ('intuition', 0.011389661),\n",
       " ('empirical', 0.00927787),\n",
       " ('social', 0.009052046),\n",
       " ('education', 0.009046041),\n",
       " ('activity', 0.009034674),\n",
       " ('representation', 0.008575148),\n",
       " ('priori', 0.0080437185),\n",
       " ('verily', 0.007781609),\n",
       " ('doth', 0.00770331),\n",
       " ('space', 0.007673117),\n",
       " ('transcendental', 0.0074760346)]"
      ]
     },
     "execution_count": 34,
     "metadata": {},
     "output_type": "execute_result"
    }
   ],
   "source": [
    "topic_word = lda_disk.show_topic(0, topn=len(id2word))\n",
    "topic_word[0:20]"
   ]
  },
  {
   "cell_type": "markdown",
   "id": "5ff71d74",
   "metadata": {},
   "source": [
    "## Model 1 - Using Similarity Score"
   ]
  },
  {
   "cell_type": "markdown",
   "id": "349859aa",
   "metadata": {},
   "source": [
    "### Top Keywords"
   ]
  },
  {
   "cell_type": "code",
   "execution_count": 35,
   "id": "25d0cc96",
   "metadata": {},
   "outputs": [],
   "source": [
    "chap_num = 0\n",
    "vector = lda_disk[test_vecs_1974[chap_num]]\n",
    "sim_topic = max(vector,key=lambda item:item[1])\n",
    "top_topic = sim_topic[0]\n",
    "top_topic\n",
    "topic_word = lda_disk.show_topic(top_topic, topn=len(id2word))\n",
    "# topic_word"
   ]
  },
  {
   "cell_type": "code",
   "execution_count": 36,
   "id": "2affc403",
   "metadata": {},
   "outputs": [
    {
     "data": {
      "text/plain": [
       "['able',\n",
       " 'accord',\n",
       " 'acquaint',\n",
       " 'acquire',\n",
       " 'action',\n",
       " 'adopt',\n",
       " 'advance',\n",
       " 'afford',\n",
       " 'agree',\n",
       " 'almost']"
      ]
     },
     "execution_count": 36,
     "metadata": {},
     "output_type": "execute_result"
    }
   ],
   "source": [
    "selected_words = [id2word[i[0]] for i in test_vecs_1974[chap_num]]\n",
    "selected_words[0:10]"
   ]
  },
  {
   "cell_type": "code",
   "execution_count": 37,
   "id": "0b1fa1d8",
   "metadata": {},
   "outputs": [
    {
     "data": {
      "text/plain": [
       "[('precede_chapter', 7.0653455e-06)]"
      ]
     },
     "execution_count": 37,
     "metadata": {},
     "output_type": "execute_result"
    }
   ],
   "source": [
    "key_words = []\n",
    "\n",
    "keyword_type = 'bigrams'\n",
    "for word in topic_word:\n",
    "    if(keyword_type == 'unigrams'):\n",
    "        if (len(key_words) < 5) & (word [0] in selected_words):\n",
    "            key_words.append(word)\n",
    "    else:\n",
    "        if ('_' in word[0]) & (len(key_words) < 5) & (word [0] in selected_words):\n",
    "            key_words.append(word)\n",
    "\n",
    "key_words"
   ]
  },
  {
   "cell_type": "markdown",
   "id": "a6972a60",
   "metadata": {},
   "source": [
    "### Recommender"
   ]
  },
  {
   "cell_type": "code",
   "execution_count": 46,
   "id": "457c4bd2",
   "metadata": {},
   "outputs": [
    {
     "data": {
      "text/plain": [
       "['CHAPTER_III__THE_NATURE_OF_MATTER',\n",
       " 'CHAPTER_II__THE_EXISTENCE_OF_MATTER',\n",
       " 'CHAPTER_IV__IDEALISM',\n",
       " 'CHAPTER_IX__THE_WORLD_OF_UNIVERSALS',\n",
       " 'CHAPTER_I__APPEARANCE_AND_REALITY',\n",
       " 'CHAPTER_VIII__HOW__A_PRIORI__KNOWLEDGE_IS_POSSIBLE',\n",
       " 'CHAPTER_VII__ON_OUR_KNOWLEDGE_OF_GENERAL_PRINCIPLES',\n",
       " 'CHAPTER_VI__ON_INDUCTION',\n",
       " 'CHAPTER_V__KNOWLEDGE_BY_ACQUAINTANCE_AND_KNOWLEDGE_BY_DESCRIPTION',\n",
       " 'CHAPTER_XIII__KNOWLEDGE,_ERROR,_AND_PROBABLE_OPINION',\n",
       " 'CHAPTER_XII__TRUTH_AND_FALSEHOOD',\n",
       " 'CHAPTER_XIV__THE_LIMITS_OF_PHILOSOPHICAL_KNOWLEDGE',\n",
       " 'CHAPTER_XI__ON_INTUITIVE_KNOWLEDGE',\n",
       " 'CHAPTER_X__ON_OUR_KNOWLEDGE_OF_UNIVERSALS']"
      ]
     },
     "execution_count": 46,
     "metadata": {},
     "output_type": "execute_result"
    }
   ],
   "source": [
    "chapters_name"
   ]
  },
  {
   "cell_type": "code",
   "execution_count": 47,
   "id": "ab7f8298",
   "metadata": {},
   "outputs": [
    {
     "name": "stdout",
     "output_type": "stream",
     "text": [
      "Top 3 Recommended Chapters:\n",
      "1. CHAPTER_II__THE_EXISTENCE_OF_MATTER(0.99330914)\n",
      "2. CHAPTER_VI__ON_INDUCTION(0.9928178)\n",
      "3. CHAPTER_XIV__THE_LIMITS_OF_PHILOSOPHICAL_KNOWLEDGE(0.99125516)\n"
     ]
    }
   ],
   "source": [
    "chap_num = 0\n",
    "\n",
    "chosen_chapter = chapters_name[chap_num]\n",
    "recommendation_scores = []\n",
    "similarity = similarities.MatrixSimilarity(lda_disk[test_vecs_1974])\n",
    "\n",
    "for i in range(0,len(test_vecs_1974)):\n",
    "    vector = lda_disk[test_vecs_1974[i]]\n",
    "    sim_topic = max(vector,key=lambda item:item[1])\n",
    "    \n",
    "    if(i == chap_num):\n",
    "        sims = similarity[vector]\n",
    "        sims = list(enumerate(sims))\n",
    "        for sim in sims:\n",
    "            chapter_num = sim[0]\n",
    "            recommendation_score = [chapters_name[chapter_num], sim[1]]\n",
    "            recommendation_scores.append(recommendation_score)\n",
    "        \n",
    "recommendation_scores = sorted(recommendation_scores, key=lambda x: x[1], reverse=True)     \n",
    "recommendation = []\n",
    "\n",
    "\n",
    "print('Top 3 Recommended Chapters:')\n",
    "for i in range(1,4):\n",
    "    recommendation.append((recommendation_scores[i][0], recommendation_scores[i][1]))\n",
    "    print(f'{i}. {str(recommendation_scores[i][0])}({str(recommendation_scores[i][1])})')"
   ]
  },
  {
   "cell_type": "code",
   "execution_count": 48,
   "id": "4846affc",
   "metadata": {},
   "outputs": [
    {
     "data": {
      "text/plain": [
       "array([1.        , 0.99330914, 0.983984  , 0.951087  , 0.9799852 ,\n",
       "       0.97799855, 0.9555314 , 0.99281776, 0.86357546, 0.94942135,\n",
       "       0.9680863 , 0.99125516, 0.9885328 , 0.9340683 ], dtype=float32)"
      ]
     },
     "execution_count": 48,
     "metadata": {},
     "output_type": "execute_result"
    }
   ],
   "source": [
    "similarity[lda_disk[test_vecs_1974[0]]]"
   ]
  },
  {
   "cell_type": "code",
   "execution_count": 49,
   "id": "80a2143b",
   "metadata": {},
   "outputs": [
    {
     "data": {
      "text/plain": [
       "[(0, 0.10955375),\n",
       " (1, 0.04038038),\n",
       " (2, 0.7793999),\n",
       " (3, 0.015261371),\n",
       " (4, 0.055404633)]"
      ]
     },
     "execution_count": 49,
     "metadata": {},
     "output_type": "execute_result"
    }
   ],
   "source": [
    "lda_disk[test_vecs_1974[0]]"
   ]
  },
  {
   "cell_type": "markdown",
   "id": "e9ee2d23",
   "metadata": {},
   "source": [
    "## Model 2 - Using Distribution of Topics"
   ]
  },
  {
   "cell_type": "code",
   "execution_count": 50,
   "id": "fd7f4403",
   "metadata": {},
   "outputs": [
    {
     "data": {
      "text/plain": [
       "['CHAPTER_III__THE_NATURE_OF_MATTER',\n",
       " 'CHAPTER_II__THE_EXISTENCE_OF_MATTER',\n",
       " 'CHAPTER_IV__IDEALISM',\n",
       " 'CHAPTER_IX__THE_WORLD_OF_UNIVERSALS',\n",
       " 'CHAPTER_I__APPEARANCE_AND_REALITY',\n",
       " 'CHAPTER_VIII__HOW__A_PRIORI__KNOWLEDGE_IS_POSSIBLE',\n",
       " 'CHAPTER_VII__ON_OUR_KNOWLEDGE_OF_GENERAL_PRINCIPLES',\n",
       " 'CHAPTER_VI__ON_INDUCTION',\n",
       " 'CHAPTER_V__KNOWLEDGE_BY_ACQUAINTANCE_AND_KNOWLEDGE_BY_DESCRIPTION',\n",
       " 'CHAPTER_XIII__KNOWLEDGE,_ERROR,_AND_PROBABLE_OPINION',\n",
       " 'CHAPTER_XII__TRUTH_AND_FALSEHOOD',\n",
       " 'CHAPTER_XIV__THE_LIMITS_OF_PHILOSOPHICAL_KNOWLEDGE',\n",
       " 'CHAPTER_XI__ON_INTUITIVE_KNOWLEDGE',\n",
       " 'CHAPTER_X__ON_OUR_KNOWLEDGE_OF_UNIVERSALS']"
      ]
     },
     "execution_count": 50,
     "metadata": {},
     "output_type": "execute_result"
    }
   ],
   "source": [
    "chapters_name"
   ]
  },
  {
   "cell_type": "code",
   "execution_count": 51,
   "id": "90b154f8",
   "metadata": {},
   "outputs": [
    {
     "name": "stdout",
     "output_type": "stream",
     "text": [
      "Top 3 Recommended Chapters:\n",
      "1. CHAPTER_IV__IDEALISM\n",
      "2. CHAPTER_II__THE_EXISTENCE_OF_MATTER\n",
      "3. CHAPTER_VI__ON_INDUCTION\n"
     ]
    }
   ],
   "source": [
    "# if first digit in tuple matches, store doc\n",
    "# reco_docs -- dont remove user input\n",
    "# - get index of user input within reco_docs\n",
    "# - compare difference between first topic probability and store as list; e.g. {4: 0.002,...}\n",
    "# - take top 5 minimum difference\n",
    "\n",
    "j = 0\n",
    "vector_selected = lda_disk[test_vecs_1974[j]]\n",
    "vector_selected.sort(key=lambda x: x[1], reverse=True)\n",
    "vector_selected\n",
    "\n",
    "reco_docs = {}\n",
    "\n",
    "for i in range(0,len(test_vecs_1974)):\n",
    "    vector = lda_disk[test_vecs_1974[i]]\n",
    "    vector.sort(key=lambda x: x[1], reverse=True)\n",
    "    \n",
    "    if (vector[0][0]==vector_selected[0][0]) & (vector[1][0] == vector_selected[1][0]):\n",
    "        reco_docs[i] = vector\n",
    "        # print(vector[0][1])\n",
    "\n",
    "# print(reco_docs)\n",
    "input_topic = reco_docs[j]\n",
    "\n",
    "# Remove user input\n",
    "if j in reco_docs.keys():\n",
    "    reco_docs.pop(j)\n",
    "\n",
    "# if there's no 2 same topics\n",
    "if reco_docs == {}:\n",
    "    for i in range(0,len(test_vecs_1974)):\n",
    "        vector = lda_disk[test_vecs_1974[i]]\n",
    "        vector.sort(key=lambda x: x[1], reverse=True)\n",
    "        \n",
    "        if (vector[0][0]==vector_selected[0][0]):\n",
    "            reco_docs[i] = vector\n",
    "\n",
    "    # Remove user input\n",
    "    if j in reco_docs.keys():\n",
    "        reco_docs.pop(j)\n",
    "\n",
    "diff = \"\"\n",
    "diff_dict = {}\n",
    "for x, y in reco_docs.items():\n",
    "    diff = abs(input_topic[0][1] - reco_docs[x][0][1])\n",
    "    diff_dict[x] = diff\n",
    "\n",
    "diff_dict = sorted(diff_dict.items(), key=lambda x:x[1], reverse=False)\n",
    "diff_dict = dict(diff_dict)\n",
    "# print(diff_dict)\n",
    "\n",
    "lst = list(diff_dict.keys())\n",
    "# print(lst[0:5])\n",
    "\n",
    "print('Top 3 Recommended Chapters:')\n",
    "for i in range(0,len(lst)):\n",
    "    if i < 3:\n",
    "        print(f'{i+1}. {chapters_name[lst[i]]}')"
   ]
  }
 ],
 "metadata": {
  "kernelspec": {
   "display_name": "Python 3",
   "language": "python",
   "name": "python3"
  },
  "language_info": {
   "codemirror_mode": {
    "name": "ipython",
    "version": 3
   },
   "file_extension": ".py",
   "mimetype": "text/x-python",
   "name": "python",
   "nbconvert_exporter": "python",
   "pygments_lexer": "ipython3",
   "version": "3.7.6"
  }
 },
 "nbformat": 4,
 "nbformat_minor": 5
}
