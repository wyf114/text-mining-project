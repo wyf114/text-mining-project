{
 "cells": [
  {
   "cell_type": "markdown",
   "id": "6272dfad",
   "metadata": {},
   "source": [
    "# EDA"
   ]
  },
  {
   "cell_type": "code",
   "execution_count": 2,
   "id": "cd61d32d",
   "metadata": {},
   "outputs": [],
   "source": [
    "import nltk\n",
    "from nltk.corpus import PlaintextCorpusReader\n",
    "from nltk.corpus import stopwords\n",
    "from nltk.stem.porter import *\n",
    "from nltk import pos_tag, word_tokenize\n",
    "from nltk.stem import WordNetLemmatizer\n",
    "from nltk.probability import FreqDist\n",
    "from nltk.tokenize import sent_tokenize\n",
    "from nltk.tokenize import word_tokenize\n",
    "\n",
    "import gensim\n",
    "from gensim import corpora\n",
    "from gensim import similarities\n",
    "from gensim import models\n",
    "from gensim.models import CoherenceModel\n",
    "\n",
    "import pyLDAvis\n",
    "import pyLDAvis.gensim_models as gensimvis\n",
    "\n",
    "from wordcloud import WordCloud, ImageColorGenerator\n",
    "import matplotlib.pyplot as plt\n",
    "import seaborn as sns\n",
    "import pandas as pd\n",
    "import re\n",
    "import os\n",
    "import preprocess\n",
    "\n",
    "import warnings\n",
    "warnings.filterwarnings(\"ignore\", category=DeprecationWarning)"
   ]
  },
  {
   "cell_type": "markdown",
   "id": "d81e54b5",
   "metadata": {},
   "source": [
    "## EDA at words level"
   ]
  },
  {
   "cell_type": "code",
   "execution_count": 3,
   "id": "95bc4b8c",
   "metadata": {},
   "outputs": [
    {
     "name": "stdout",
     "output_type": "stream",
     "text": [
      "['11224.txt', '13614.txt', '13722.txt', '13791.txt', '14969.txt', '1497.txt', '15489.txt', '16287.txt', '1656.txt', '17829.txt', '19322.txt', '19560.txt', '1998.txt', '20842.txt', '21077.txt', '22108.txt', '23609.txt', '23680.txt', '23860.txt', '24001.txt', '24518.txt', '2529.txt', '28402.txt', '28458.txt', '31529.txt', '31732.txt', '34901.txt', '35534.txt', '3800.txt', '4280.txt', '4363.txt', '448.txt', '61.txt', '6762.txt', '7370.txt', '852.txt', '926.txt', 'analmd10.txt', 'poetc10.txt', 'prphi10.txt', 'repub11.txt', 'spzar10.txt', 'tgovt10.txt', 'trgov10.txt', 'umem10.txt', 'wltnt10.txt']\n",
      "\n",
      "Number of documents in the collection:  46\n",
      "\n",
      "Number of words in each of the books:  [30899, 140779, 32889, 15024, 40464, 248312, 60984, 72349, 18561, 10111, 40926, 168857, 137026, 11373, 69854, 17570, 159627, 15868, 101121, 122194, 312911, 103248, 136948, 63363, 50277, 6808, 59378, 88114, 106728, 238610, 76410, 90775, 13467, 112132, 65925, 153082, 167982, 105552, 20330, 49272, 250350, 139258, 112311, 66056, 83864, 438901]\n"
     ]
    }
   ],
   "source": [
    "file_directory = 'Data/Train'\n",
    "\n",
    "filename_pattern = '.+\\.txt'\n",
    "\n",
    "corpus = PlaintextCorpusReader(file_directory, filename_pattern, encoding='latin-1')\n",
    "fids = corpus.fileids()\n",
    "print(fids)\n",
    "print(\"\\nNumber of documents in the collection: \", len(fids))\n",
    "\n",
    "docs_len = [len(corpus.words(f)) for f in fids]\n",
    "print(\"\\nNumber of words in each of the books: \", docs_len)"
   ]
  },
  {
   "cell_type": "code",
   "execution_count": 4,
   "id": "3ec47b06",
   "metadata": {},
   "outputs": [
    {
     "name": "stdout",
     "output_type": "stream",
     "text": [
      "[3603, 11982, 4730, 2895, 4783, 10970, 6320, 8202, 2432, 2420, 6095, 10523, 10866, 2300, 5500, 2840, 14449, 3170, 8920, 10469, 19287, 6110, 8941, 6845, 6623, 1523, 6107, 9378, 4210, 7251, 8899, 8330, 2443, 5812, 4792, 8890, 13794, 6449, 3088, 3529, 11243, 11193, 5884, 4812, 7840, 11022]\n"
     ]
    }
   ],
   "source": [
    "# number of unique words for each of the books (before data pre-processing)\n",
    "docs = [corpus.words(f) for f in fids]\n",
    "\n",
    "# Number of *unique* words in the books\n",
    "unique_words = list()\n",
    "for book in docs:\n",
    "    fdist_doc = nltk.FreqDist(book)\n",
    "    filtered_word_freq = dict((word, freq) for word, freq in fdist_doc.items() if not word.isdigit())\n",
    "    unique_words.append(len(filtered_word_freq))\n",
    "print(unique_words)"
   ]
  },
  {
   "cell_type": "code",
   "execution_count": 5,
   "id": "e91a122f",
   "metadata": {},
   "outputs": [
    {
     "data": {
      "image/png": "[encoded data removed]",
      "text/plain": [
       "<Figure size 864x360 with 1 Axes>"
      ]
     },
     "metadata": {
      "needs_background": "light"
     },
     "output_type": "display_data"
    }
   ],
   "source": [
    "fdist_doc = nltk.FreqDist(docs[5]).most_common(25)\n",
    "\n",
    "x, y = zip(*fdist_doc)\n",
    "plt.figure(figsize=(12,5))\n",
    "plt.margins(0.02)\n",
    "plt.bar(x, y)\n",
    "plt.xlabel('Words', fontsize=15)\n",
    "plt.ylabel('Frequency of Words', fontsize=15)\n",
    "plt.yticks(fontsize=15)\n",
    "plt.xticks(rotation=60)\n",
    "plt.title('Frequency of 25 Most Common Words', fontsize=20)\n",
    "plt.show()"
   ]
  },
  {
   "cell_type": "code",
   "execution_count": 6,
   "id": "c8e8e9eb",
   "metadata": {},
   "outputs": [
    {
     "data": {
      "text/html": [
       "<div>\n",
       "<style scoped>\n",
       "    .dataframe tbody tr th:only-of-type {\n",
       "        vertical-align: middle;\n",
       "    }\n",
       "\n",
       "    .dataframe tbody tr th {\n",
       "        vertical-align: top;\n",
       "    }\n",
       "\n",
       "    .dataframe thead th {\n",
       "        text-align: right;\n",
       "    }\n",
       "</style>\n",
       "<table border=\"1\" class=\"dataframe\">\n",
       "  <thead>\n",
       "    <tr style=\"text-align: right;\">\n",
       "      <th></th>\n",
       "      <th>Book</th>\n",
       "      <th>TotalWordCount</th>\n",
       "      <th>UniqueWordCount</th>\n",
       "    </tr>\n",
       "  </thead>\n",
       "  <tbody>\n",
       "    <tr>\n",
       "      <th>0</th>\n",
       "      <td>11224.txt</td>\n",
       "      <td>30899</td>\n",
       "      <td>3603</td>\n",
       "    </tr>\n",
       "    <tr>\n",
       "      <th>1</th>\n",
       "      <td>13614.txt</td>\n",
       "      <td>140779</td>\n",
       "      <td>11982</td>\n",
       "    </tr>\n",
       "    <tr>\n",
       "      <th>2</th>\n",
       "      <td>13722.txt</td>\n",
       "      <td>32889</td>\n",
       "      <td>4730</td>\n",
       "    </tr>\n",
       "    <tr>\n",
       "      <th>3</th>\n",
       "      <td>13791.txt</td>\n",
       "      <td>15024</td>\n",
       "      <td>2895</td>\n",
       "    </tr>\n",
       "    <tr>\n",
       "      <th>4</th>\n",
       "      <td>14969.txt</td>\n",
       "      <td>40464</td>\n",
       "      <td>4783</td>\n",
       "    </tr>\n",
       "  </tbody>\n",
       "</table>\n",
       "</div>"
      ],
      "text/plain": [
       "        Book TotalWordCount UniqueWordCount\n",
       "0  11224.txt          30899            3603\n",
       "1  13614.txt         140779           11982\n",
       "2  13722.txt          32889            4730\n",
       "3  13791.txt          15024            2895\n",
       "4  14969.txt          40464            4783"
      ]
     },
     "execution_count": 6,
     "metadata": {},
     "output_type": "execute_result"
    }
   ],
   "source": [
    "list_before = list()\n",
    "list_before.append(fids)\n",
    "list_before.append(docs_len)\n",
    "list_before.append(unique_words)\n",
    "\n",
    "df = pd.DataFrame(list_before).transpose()\n",
    "df.columns = ['Book', 'TotalWordCount', 'UniqueWordCount']\n",
    "df.head()"
   ]
  },
  {
   "cell_type": "code",
   "execution_count": 7,
   "id": "e797fd7c",
   "metadata": {},
   "outputs": [
    {
     "name": "stdout",
     "output_type": "stream",
     "text": [
      "<class 'pandas.core.frame.DataFrame'>\n",
      "RangeIndex: 46 entries, 0 to 45\n",
      "Data columns (total 3 columns):\n",
      " #   Column           Non-Null Count  Dtype \n",
      "---  ------           --------------  ----- \n",
      " 0   Book             46 non-null     object\n",
      " 1   TotalWordCount   46 non-null     int32 \n",
      " 2   UniqueWordCount  46 non-null     int32 \n",
      "dtypes: int32(2), object(1)\n",
      "memory usage: 864.0+ bytes\n"
     ]
    }
   ],
   "source": [
    "df = df.astype({'TotalWordCount':int, 'UniqueWordCount':int},errors='raise')\n",
    "df.info()"
   ]
  },
  {
   "cell_type": "code",
   "execution_count": 8,
   "id": "40baa266",
   "metadata": {},
   "outputs": [
    {
     "data": {
      "text/html": [
       "<div>\n",
       "<style scoped>\n",
       "    .dataframe tbody tr th:only-of-type {\n",
       "        vertical-align: middle;\n",
       "    }\n",
       "\n",
       "    .dataframe tbody tr th {\n",
       "        vertical-align: top;\n",
       "    }\n",
       "\n",
       "    .dataframe thead th {\n",
       "        text-align: right;\n",
       "    }\n",
       "</style>\n",
       "<table border=\"1\" class=\"dataframe\">\n",
       "  <thead>\n",
       "    <tr style=\"text-align: right;\">\n",
       "      <th></th>\n",
       "      <th>TotalWordCount</th>\n",
       "      <th>UniqueWordCount</th>\n",
       "    </tr>\n",
       "  </thead>\n",
       "  <tbody>\n",
       "    <tr>\n",
       "      <th>count</th>\n",
       "      <td>46.0</td>\n",
       "      <td>46.0</td>\n",
       "    </tr>\n",
       "    <tr>\n",
       "      <th>mean</th>\n",
       "      <td>100583.0</td>\n",
       "      <td>7125.0</td>\n",
       "    </tr>\n",
       "    <tr>\n",
       "      <th>std</th>\n",
       "      <td>87385.0</td>\n",
       "      <td>3789.0</td>\n",
       "    </tr>\n",
       "    <tr>\n",
       "      <th>min</th>\n",
       "      <td>6808.0</td>\n",
       "      <td>1523.0</td>\n",
       "    </tr>\n",
       "    <tr>\n",
       "      <th>25%</th>\n",
       "      <td>40580.0</td>\n",
       "      <td>4340.0</td>\n",
       "    </tr>\n",
       "    <tr>\n",
       "      <th>50%</th>\n",
       "      <td>80137.0</td>\n",
       "      <td>6384.0</td>\n",
       "    </tr>\n",
       "    <tr>\n",
       "      <th>75%</th>\n",
       "      <td>137006.0</td>\n",
       "      <td>9269.0</td>\n",
       "    </tr>\n",
       "    <tr>\n",
       "      <th>max</th>\n",
       "      <td>438901.0</td>\n",
       "      <td>19287.0</td>\n",
       "    </tr>\n",
       "  </tbody>\n",
       "</table>\n",
       "</div>"
      ],
      "text/plain": [
       "       TotalWordCount  UniqueWordCount\n",
       "count            46.0             46.0\n",
       "mean         100583.0           7125.0\n",
       "std           87385.0           3789.0\n",
       "min            6808.0           1523.0\n",
       "25%           40580.0           4340.0\n",
       "50%           80137.0           6384.0\n",
       "75%          137006.0           9269.0\n",
       "max          438901.0          19287.0"
      ]
     },
     "execution_count": 8,
     "metadata": {},
     "output_type": "execute_result"
    }
   ],
   "source": [
    "df.describe().round()"
   ]
  },
  {
   "cell_type": "code",
   "execution_count": 9,
   "id": "52be82dd",
   "metadata": {},
   "outputs": [
    {
     "data": {
      "text/plain": [
       "array([[<matplotlib.axes._subplots.AxesSubplot object at 0x0000021CBD921D48>,\n",
       "        <matplotlib.axes._subplots.AxesSubplot object at 0x0000021CBDDAF608>]],\n",
       "      dtype=object)"
      ]
     },
     "execution_count": 9,
     "metadata": {},
     "output_type": "execute_result"
    },
    {
     "data": {
      "image/png": "[encoded data removed]",
      "text/plain": [
       "<Figure size 432x288 with 2 Axes>"
      ]
     },
     "metadata": {
      "needs_background": "light"
     },
     "output_type": "display_data"
    }
   ],
   "source": [
    "df.hist()"
   ]
  },
  {
   "cell_type": "markdown",
   "id": "73396414",
   "metadata": {},
   "source": [
    "## EDA at Sentence Level "
   ]
  },
  {
   "cell_type": "code",
   "execution_count": 10,
   "id": "021acb04",
   "metadata": {},
   "outputs": [
    {
     "data": {
      "text/plain": [
       "'The Project Gutenberg EBook of Utilitarianism, by '"
      ]
     },
     "execution_count": 10,
     "metadata": {},
     "output_type": "execute_result"
    }
   ],
   "source": [
    "# Define the directory where the books are located\n",
    "books_directory = \"Data/Train\"\n",
    "\n",
    "# Create a list to store the text data of each book\n",
    "book_texts = []\n",
    "\n",
    "# Loop through each file in the directory\n",
    "for filename in os.listdir(books_directory):\n",
    "    if filename.endswith('.txt'):\n",
    "        with open(os.path.join(books_directory, filename), \"r\", encoding=\"utf8\", errors='ignore') as file:\n",
    "            book_text = file.read()\n",
    "            book_texts.append(book_text)\n",
    "book_texts[0][0:50]      "
   ]
  },
  {
   "cell_type": "code",
   "execution_count": 11,
   "id": "b497332f",
   "metadata": {},
   "outputs": [
    {
     "name": "stdout",
     "output_type": "stream",
     "text": [
      "The Project Gutenberg eBook, Studies in the Psychology of Sex, Volume 5\n",
      "(of 6), by Havelock Ellis\n",
      "\n",
      "\n",
      "This eBook is for the use of anyone anywhere at no cost and with\n",
      "almost no restrictions whatsoever.  You may copy it, give it away or\n",
      "re-use it under the terms of the Project Gutenberg License include\n"
     ]
    }
   ],
   "source": [
    "start = \"*** START OF THIS PROJECT GUTENBERG EBOOK\"\n",
    "start2 = \"***START OF THE PROJECT GUTENBERG EBOOK\"\n",
    "\n",
    "end = \"*** END OF THIS PROJECT GUTENBERG EBOOK\"\n",
    "end2 = \"***END OF THE PROJECT GUTENBERG EBOOK\"\n",
    "\n",
    "clean_book_text = []\n",
    "for book in book_texts:\n",
    "    start_index = book.find(start)\n",
    "    if (start_index < 0):\n",
    "        start_index = book.find(start2)\n",
    "    \n",
    "    end_index = book.find(end)\n",
    "    if (end_index < 0):\n",
    "        end_index = book.find(end2)\n",
    "    \n",
    "    if (start_index >= 0) & (end_index > 0):\n",
    "        new_text = book[start_index+ len(start)-1:end_index]\n",
    "        clean_book_text.append(new_text)\n",
    "    else:\n",
    "        clean_book_text.append(book)\n",
    "\n",
    "print(clean_book_text[1][:300])"
   ]
  },
  {
   "cell_type": "code",
   "execution_count": 12,
   "id": "6a5c79fc",
   "metadata": {},
   "outputs": [
    {
     "name": "stdout",
     "output_type": "stream",
     "text": [
      "8888\n",
      "['The Project Gutenberg EBook of The Republic, by Plato\\n\\nThis eBook is for the use of anyone anywhere at no cost and with\\nalmost no restrictions whatsoever.', 'You may copy it, give it away or\\nre-use it under the terms of the Project Gutenberg License included\\nwith this eBook or online at www.gutenberg.org\\n\\n\\nTitle: The Republic\\n\\nAuthor: Plato\\n\\nTranslator: B. Jowett\\n\\nPosting Date: August 27, 2008 [EBook #1497]\\nRelease Date: October, 1998\\nLast Updated: June 22, 2016\\n\\nLanguage: English\\n\\nCharacter set encoding: ASCII\\n\\n*** START OF THIS PROJECT GUTENBERG EBOOK THE REPUBLIC ***\\n\\n\\n\\n\\nProduced by Sue Asscher\\n\\n\\n\\n\\n\\nTHE REPUBLIC\\n\\nBy Plato\\n\\n\\nTranslated by Benjamin Jowett\\n\\n\\nNote: The Republic by Plato, Jowett, etext #150\\n\\n\\n\\n\\nINTRODUCTION AND ANALYSIS.', 'The Republic of Plato is the longest of his works with the exception\\nof the Laws, and is certainly the greatest of them.', 'There are nearer\\napproaches to modern metaphysics in the Philebus and in the Sophist; the\\nPoliticus or Statesman is more ideal; the form and institutions of\\nthe State are more clearly drawn out in the Laws; as works of art, the\\nSymposium and the Protagoras are of higher excellence.', 'But no other\\nDialogue of Plato has the same largeness of view and the same perfection\\nof style; no other shows an equal knowledge of the world, or contains\\nmore of those thoughts which are new as well as old, and not of one age\\nonly but of all.']\n"
     ]
    }
   ],
   "source": [
    "# Split the text into sentences using the nltk sentence tokenizer\n",
    "book_sentences = list()\n",
    "for book in clean_book_text:\n",
    "    sentences = nltk.sent_tokenize(book)\n",
    "#     print(len(sentences))\n",
    "    book_sentences.append(sentences)\n",
    "    \n",
    "print(len(book_sentences[5]))\n",
    "print(book_sentences[5][:5])"
   ]
  },
  {
   "cell_type": "code",
   "execution_count": 13,
   "id": "2aacf984",
   "metadata": {},
   "outputs": [
    {
     "name": "stdout",
     "output_type": "stream",
     "text": [
      "Average sentence length: 27.868924392439244\n",
      "Minimum sentence length: 2\n",
      "Tim.\n",
      "Maximum sentence length: 252\n",
      "The allusion to Theages' bridle, and to the internal oracle, or demonic\n",
      "sign, of Socrates, which here, as always in Plato, is only prohibitory;\n",
      "the remark that the salvation of any remnant of good in the present evil\n",
      "state of the world is due to God only; the reference to a future state\n",
      "of existence, which is unknown to Glaucon in the tenth book, and in\n",
      "which the discussions of Socrates and his disciples would be resumed;\n",
      "the surprise in the answers; the fanciful irony of Socrates, where\n",
      "he pretends that he can only describe the strange position of the\n",
      "philosopher in a figure of speech; the original observation that the\n",
      "Sophists, after all, are only the representatives and not the leaders\n",
      "of public opinion; the picture of the philosopher standing aside in the\n",
      "shower of sleet under a wall; the figure of 'the great beast' followed\n",
      "by the expression of good-will towards the common people who would not\n",
      "have rejected the philosopher if they had known him; the 'right noble\n",
      "thought' that the highest truths demand the greatest exactness; the\n",
      "hesitation of Socrates in returning once more to his well-worn theme of\n",
      "the idea of good; the ludicrous earnestness of Glaucon; the comparison\n",
      "of philosophy to a deserted maiden who marries beneath her--are some of\n",
      "the most interesting characteristics of the sixth book.\n"
     ]
    }
   ],
   "source": [
    "# Initialize variables to store the average sentence length, minimum and maximum sentence lengths\n",
    "average_sentence_length = 0\n",
    "min_sentence_length = float(\"inf\")\n",
    "max_sentence_length = float(\"-inf\")\n",
    "min_sen = \"\"\n",
    "max_sen = \"\"\n",
    "\n",
    "# Loop through each sentence\n",
    "for sentence in book_sentences[5]:\n",
    "    # Tokenize the sentence into words\n",
    "    words = nltk.word_tokenize(sentence)\n",
    "    # Calculate the length of the sentence\n",
    "    sentence_length = len(words)\n",
    "    # Update the average sentence length\n",
    "    average_sentence_length += sentence_length\n",
    "    # Update the minimum sentence length if necessary\n",
    "    # min_sentence_length = min(min_sentence_length, sentence_length)\n",
    "    if sentence_length < min_sentence_length:\n",
    "        min_sentence_length = sentence_length\n",
    "        min_sen = sentence\n",
    "    # Update the maximum sentence length if necessary\n",
    "    #max_sentence_length = max(max_sentence_length, sentence_length)\n",
    "    if sentence_length > max_sentence_length:\n",
    "        max_sentence_length = sentence_length\n",
    "        max_sen = sentence\n",
    "\n",
    "\n",
    "# Calculate the average sentence length\n",
    "average_sentence_length = average_sentence_length / len(book_sentences[5])\n",
    "\n",
    "# Print the results\n",
    "print(\"Average sentence length:\", average_sentence_length)\n",
    "print(\"Minimum sentence length:\", min_sentence_length)\n",
    "print(min_sen)\n",
    "print(\"Maximum sentence length:\", max_sentence_length)\n",
    "print(max_sen)"
   ]
  },
  {
   "cell_type": "code",
   "execution_count": 14,
   "id": "75be749d",
   "metadata": {},
   "outputs": [
    {
     "name": "stdout",
     "output_type": "stream",
     "text": [
      "46\n"
     ]
    }
   ],
   "source": [
    "lemmatizer = WordNetLemmatizer()\n",
    "\n",
    "doc_cleaned = list()\n",
    "for book in book_sentences:    \n",
    "    lower = [[w.lower() for w in nltk.word_tokenize(sen)] for sen in book]\n",
    "    punc = [[w for w in sen if re.search('^[a-z]+$', w)] for sen in lower]\n",
    "    doc_lemmed = [lemmatizer.lemmatize(word, tag[0].lower()) for sen in punc for word, tag in pos_tag(sen, tagset='universal') if tag[0].lower() in ['a', 'r', 'n', 'v']]\n",
    "  \n",
    "    doc_cleaned.append(doc_lemmed)\n",
    "\n",
    "print(len(doc_cleaned))"
   ]
  },
  {
   "cell_type": "markdown",
   "id": "36fdfeec",
   "metadata": {},
   "source": [
    "## N-grams"
   ]
  },
  {
   "cell_type": "code",
   "execution_count": 15,
   "id": "d55dac0a",
   "metadata": {},
   "outputs": [],
   "source": [
    "# Build the bigram and trigram models\n",
    "bigram = gensim.models.Phrases(doc_cleaned, min_count=5, threshold=100) # higher threshold fewer phrases.\n",
    "trigram = gensim.models.Phrases(bigram[doc_cleaned], threshold=100)  \n",
    "\n",
    "# Faster way to get a sentence clubbed as a trigram/bigram\n",
    "bigram_mod = gensim.models.phrases.Phraser(bigram)\n",
    "trigram_mod = gensim.models.phrases.Phraser(trigram)"
   ]
  },
  {
   "cell_type": "code",
   "execution_count": 16,
   "id": "fb7925ee",
   "metadata": {},
   "outputs": [],
   "source": [
    "stop_list = stopwords.words('english')\n",
    "self_stop_list = ['project', 'gutenberg', 'ebook', 'www.gutenberg.org', 'quot', 'net', 'end', 'one', 'say', 'from', 'subject', 'would', 'etext', 're', 'edu', 'use', 'http', 'www']\n",
    "stop_list.extend(self_stop_list)\n",
    "\n",
    "def make_bigrams(texts):\n",
    "    bigram = [bigram_mod[doc] for doc in texts]\n",
    "    # remove stop words\n",
    "    sen1 = [[w for w in sen if w not in stop_list] for sen in bigram] \n",
    "    # remove words with length < 3\n",
    "    bigram_cleaned = [[w for w in sen if len(w)>2] for sen in sen1]\n",
    "    return bigram_cleaned\n",
    "\n",
    "def make_trigrams(texts):\n",
    "    trigram = [trigram_mod[bigram_mod[doc]] for doc in texts]\n",
    "    # remove stop words\n",
    "    sen1 = [[w for w in sen if w not in stop_list] for sen in trigram] \n",
    "    # remove words with length < 3\n",
    "    trigram_cleaned = [[w for w in sen if len(w)>2] for sen in sen1]\n",
    "    return trigram_cleaned"
   ]
  },
  {
   "cell_type": "code",
   "execution_count": 17,
   "id": "f0e0c3bb",
   "metadata": {},
   "outputs": [
    {
     "data": {
      "text/plain": [
       "['project_gutenberg',\n",
       " 'three',\n",
       " 'contribution',\n",
       " 'theory',\n",
       " 'sex',\n",
       " 'sigmund_freud',\n",
       " 'anyone_anywhere',\n",
       " 'cost',\n",
       " 'almost_restriction',\n",
       " 'whatsoever',\n",
       " 'may',\n",
       " 'copy',\n",
       " 'give',\n",
       " 'away',\n",
       " 'term',\n",
       " 'project_gutenberg',\n",
       " 'license_include',\n",
       " 'ebook_online',\n",
       " 'title',\n",
       " 'three']"
      ]
     },
     "execution_count": 17,
     "metadata": {},
     "output_type": "execute_result"
    }
   ],
   "source": [
    "docs_bigrams = make_bigrams(doc_cleaned)\n",
    "docs_bigrams[4][:20]"
   ]
  },
  {
   "cell_type": "code",
   "execution_count": 18,
   "id": "063696ec",
   "metadata": {},
   "outputs": [
    {
     "data": {
      "text/plain": [
       "['project_gutenberg',\n",
       " 'three',\n",
       " 'contribution',\n",
       " 'theory',\n",
       " 'sex',\n",
       " 'sigmund_freud',\n",
       " 'anyone_anywhere',\n",
       " 'cost',\n",
       " 'almost_restriction',\n",
       " 'whatsoever',\n",
       " 'may',\n",
       " 'copy',\n",
       " 'give',\n",
       " 'away',\n",
       " 'term',\n",
       " 'project_gutenberg_license_include',\n",
       " 'ebook_online',\n",
       " 'title',\n",
       " 'three',\n",
       " 'contribution']"
      ]
     },
     "execution_count": 18,
     "metadata": {},
     "output_type": "execute_result"
    }
   ],
   "source": [
    "docs_trigrams = make_trigrams(docs_bigrams)\n",
    "docs_trigrams[4][:20]"
   ]
  },
  {
   "cell_type": "code",
   "execution_count": 19,
   "id": "39a0faca",
   "metadata": {},
   "outputs": [
    {
     "data": {
      "image/png": "[encoded data removed]",
      "text/plain": [
       "<Figure size 864x360 with 1 Axes>"
      ]
     },
     "metadata": {
      "needs_background": "light"
     },
     "output_type": "display_data"
    }
   ],
   "source": [
    "fdist_doc = nltk.FreqDist(docs_trigrams[5]).most_common(25)\n",
    "\n",
    "x, y = zip(*fdist_doc)\n",
    "plt.figure(figsize=(12,5))\n",
    "plt.margins(0.02)\n",
    "plt.bar(x, y)\n",
    "plt.xlabel('Words', fontsize=15)\n",
    "plt.ylabel('Frequency of Words', fontsize=15)\n",
    "plt.yticks(fontsize=15)\n",
    "plt.xticks(rotation=60)\n",
    "plt.title('Frequency of 25 Most Common Words', fontsize=20)\n",
    "plt.show()"
   ]
  },
  {
   "cell_type": "code",
   "execution_count": 20,
   "id": "372d747e",
   "metadata": {},
   "outputs": [
    {
     "name": "stdout",
     "output_type": "stream",
     "text": [
      "[('good', 863), ('may', 819), ('state', 801), ('man', 629), ('true', 591)]\n"
     ]
    }
   ],
   "source": [
    "fdist_doc = nltk.FreqDist(docs_trigrams[5])\n",
    "print(fdist_doc.most_common(5))"
   ]
  },
  {
   "cell_type": "code",
   "execution_count": 21,
   "id": "b2d47eb6",
   "metadata": {},
   "outputs": [
    {
     "data": {
      "text/plain": [
       "[('no_long', 501),\n",
       " ('gold_silver', 355),\n",
       " ('per_cent', 324),\n",
       " ('thus_spake', 257),\n",
       " ('project_gutenberg', 240),\n",
       " ('nervous_system', 193),\n",
       " ('genital_organ', 178),\n",
       " ('human_being', 175),\n",
       " ('annual_produce', 168),\n",
       " ('o_zarathustra', 160),\n",
       " ('year_ago', 148),\n",
       " ('natural_selection', 122),\n",
       " ('causal_law', 122),\n",
       " ('new_york', 111),\n",
       " ('thou_hast', 111),\n",
       " ('guard_against', 109),\n",
       " ('philosopher_stone', 109),\n",
       " ('five_hundred', 104),\n",
       " ('erotic_symbolism', 101),\n",
       " ('male_female', 96),\n",
       " ('hundred_thousand', 95),\n",
       " ('set_forth', 92),\n",
       " ('cold_water', 91),\n",
       " ('rude_produce', 87),\n",
       " ('wilt_thou', 84),\n",
       " ('sexual_enlightenment', 82),\n",
       " ('get_rid', 79),\n",
       " ('systematic_unity', 77),\n",
       " ('brother_sister', 75),\n",
       " ('executive_power', 74)]"
      ]
     },
     "execution_count": 21,
     "metadata": {},
     "output_type": "execute_result"
    }
   ],
   "source": [
    "bi = [item for sublist in docs_bigrams for item in sublist if \"_\" in item]\n",
    "bigram_hist = nltk.FreqDist(bi).most_common()\n",
    "bigram_hist[:30]"
   ]
  },
  {
   "cell_type": "code",
   "execution_count": 22,
   "id": "ea78e21d",
   "metadata": {},
   "outputs": [
    {
     "data": {
      "text/plain": [
       "[('no_long', 501),\n",
       " ('gold_silver', 362),\n",
       " ('thus_spake', 251),\n",
       " ('per_cent', 206),\n",
       " ('nervous_system', 193),\n",
       " ('genital_organ', 178),\n",
       " ('human_being', 175),\n",
       " ('sexual_excitement', 175),\n",
       " ('annual_produce', 168),\n",
       " ('o_zarathustra', 160),\n",
       " ('project_gutenberg', 155),\n",
       " ('year_ago', 137),\n",
       " ('natural_selection', 122),\n",
       " ('causal_law', 122),\n",
       " ('foreign_trade', 115),\n",
       " ('thou_hast', 111),\n",
       " ('guard_against', 109),\n",
       " ('philosopher_stone', 109),\n",
       " ('new_york', 105),\n",
       " ('five_hundred', 104)]"
      ]
     },
     "execution_count": 22,
     "metadata": {},
     "output_type": "execute_result"
    }
   ],
   "source": [
    "tri = [item for sublist in docs_trigrams for item in sublist if \"_\" in item]\n",
    "trigram_hist = nltk.FreqDist(tri).most_common()\n",
    "trigram_hist[:20]"
   ]
  },
  {
   "cell_type": "code",
   "execution_count": 23,
   "id": "e1a8d8b7",
   "metadata": {},
   "outputs": [
    {
     "name": "stdout",
     "output_type": "stream",
     "text": [
      "[2468, 8220, 3364, 1790, 3171, 7536, 4222, 5521, 1671, 1428, 3805, 6845, 7156, 1630, 3611, 2069, 8452, 2195, 5326, 6757, 12619, 4095, 5964, 4633, 4448, 1004, 4213, 6319, 2848, 4977, 6004, 5455, 1756, 3982, 3390, 6077, 7932, 4284, 2073, 2255, 7693, 7332, 4007, 3406, 5454, 7614]\n"
     ]
    }
   ],
   "source": [
    "# Number of *unique* words in the books after data pre-processing\n",
    "unique_words_after = list()\n",
    "for book in docs_trigrams:\n",
    "    fdist_doc = nltk.FreqDist(book)\n",
    "    filtered_word_freq = dict((word, freq) for word, freq in fdist_doc.items() if not word.isdigit())\n",
    "    unique_words_after.append(len(filtered_word_freq))\n",
    "print(unique_words_after)"
   ]
  },
  {
   "cell_type": "code",
   "execution_count": 24,
   "id": "0ee17cde",
   "metadata": {},
   "outputs": [
    {
     "data": {
      "text/html": [
       "<div>\n",
       "<style scoped>\n",
       "    .dataframe tbody tr th:only-of-type {\n",
       "        vertical-align: middle;\n",
       "    }\n",
       "\n",
       "    .dataframe tbody tr th {\n",
       "        vertical-align: top;\n",
       "    }\n",
       "\n",
       "    .dataframe thead th {\n",
       "        text-align: right;\n",
       "    }\n",
       "</style>\n",
       "<table border=\"1\" class=\"dataframe\">\n",
       "  <thead>\n",
       "    <tr style=\"text-align: right;\">\n",
       "      <th></th>\n",
       "      <th>Book_after</th>\n",
       "      <th>TotalWordCount_after</th>\n",
       "      <th>UniqueWordCount_after</th>\n",
       "    </tr>\n",
       "  </thead>\n",
       "  <tbody>\n",
       "    <tr>\n",
       "      <th>0</th>\n",
       "      <td>11224.txt</td>\n",
       "      <td>11363</td>\n",
       "      <td>2468</td>\n",
       "    </tr>\n",
       "    <tr>\n",
       "      <th>1</th>\n",
       "      <td>13614.txt</td>\n",
       "      <td>55338</td>\n",
       "      <td>8220</td>\n",
       "    </tr>\n",
       "    <tr>\n",
       "      <th>2</th>\n",
       "      <td>13722.txt</td>\n",
       "      <td>13171</td>\n",
       "      <td>3364</td>\n",
       "    </tr>\n",
       "    <tr>\n",
       "      <th>3</th>\n",
       "      <td>13791.txt</td>\n",
       "      <td>6058</td>\n",
       "      <td>1790</td>\n",
       "    </tr>\n",
       "    <tr>\n",
       "      <th>4</th>\n",
       "      <td>14969.txt</td>\n",
       "      <td>16809</td>\n",
       "      <td>3171</td>\n",
       "    </tr>\n",
       "  </tbody>\n",
       "</table>\n",
       "</div>"
      ],
      "text/plain": [
       "  Book_after  TotalWordCount_after  UniqueWordCount_after\n",
       "0  11224.txt                 11363                   2468\n",
       "1  13614.txt                 55338                   8220\n",
       "2  13722.txt                 13171                   3364\n",
       "3  13791.txt                  6058                   1790\n",
       "4  14969.txt                 16809                   3171"
      ]
     },
     "execution_count": 24,
     "metadata": {},
     "output_type": "execute_result"
    }
   ],
   "source": [
    "list_after = list()\n",
    "list_after.append(fids)\n",
    "list_after.append([len(f) for f in docs_trigrams])\n",
    "list_after.append(unique_words_after)\n",
    "\n",
    "df_after = pd.DataFrame(list_after).transpose()\n",
    "df_after.columns = ['Book_after', 'TotalWordCount_after', 'UniqueWordCount_after']\n",
    "df_after = df_after.astype({'TotalWordCount_after':int, 'UniqueWordCount_after':int},errors='raise')\n",
    "df_after.head()"
   ]
  },
  {
   "cell_type": "code",
   "execution_count": 25,
   "id": "29989f88",
   "metadata": {},
   "outputs": [
    {
     "data": {
      "text/plain": [
       "array([[<matplotlib.axes._subplots.AxesSubplot object at 0x0000021CBB80D348>,\n",
       "        <matplotlib.axes._subplots.AxesSubplot object at 0x0000021CBB811748>]],\n",
       "      dtype=object)"
      ]
     },
     "execution_count": 25,
     "metadata": {},
     "output_type": "execute_result"
    },
    {
     "data": {
      "image/png": "[encoded data removed]",
      "text/plain": [
       "<Figure size 432x288 with 2 Axes>"
      ]
     },
     "metadata": {
      "needs_background": "light"
     },
     "output_type": "display_data"
    }
   ],
   "source": [
    "df_after.hist()"
   ]
  },
  {
   "cell_type": "markdown",
   "id": "a4d221ff",
   "metadata": {},
   "source": [
    "## Vectorisation"
   ]
  },
  {
   "cell_type": "code",
   "execution_count": 26,
   "id": "932d7164",
   "metadata": {},
   "outputs": [
    {
     "name": "stdout",
     "output_type": "stream",
     "text": [
      "Number of unique tokens: 4045\n",
      "Number of articles: 2\n"
     ]
    }
   ],
   "source": [
    "test = docs_trigrams[3:5]\n",
    "# vectorise the words\n",
    "doc_dict = gensim.corpora.Dictionary(test)\n",
    "docs_vecs = [doc_dict.doc2bow(doc) for doc in test]\n",
    "print('Number of unique tokens: %d' % len(doc_dict)) \n",
    "print('Number of articles: %d' % len(docs_vecs)) "
   ]
  },
  {
   "cell_type": "code",
   "execution_count": 27,
   "id": "b9cdfef9",
   "metadata": {},
   "outputs": [
    {
     "name": "stdout",
     "output_type": "stream",
     "text": [
      "Word 1006 (\"mind\") appears 96 time(s).\n",
      "Word 231 (\"cell\") appears 93 time(s).\n",
      "Word 186 (\"body\") appears 92 time(s).\n",
      "Word 1450 (\"sidenote\") appears 88 time(s).\n",
      "Word 185 (\"bodily\") appears 75 time(s).\n",
      "Word 990 (\"mental\") appears 72 time(s).\n",
      "Word 194 (\"brain\") appears 49 time(s).\n",
      "Word 597 (\"fact\") appears 48 time(s).\n",
      "Word 974 (\"may\") appears 48 time(s).\n",
      "Word 920 (\"life\") appears 47 time(s).\n",
      "Word 1135 (\"part\") appears 38 time(s).\n",
      "Word 628 (\"first\") appears 37 time(s).\n",
      "Word 1213 (\"practical\") appears 37 time(s).\n",
      "Word 229 (\"cause\") appears 36 time(s).\n",
      "Word 32 (\"activity\") appears 34 time(s).\n",
      "Word 766 (\"human\") appears 33 time(s).\n",
      "Word 330 (\"consciousness\") appears 32 time(s).\n",
      "Word 510 (\"effect\") appears 32 time(s).\n",
      "Word 1697 (\"upon\") appears 31 time(s).\n",
      "Word 1054 (\"nerve\") appears 30 time(s).\n"
     ]
    }
   ],
   "source": [
    "# print top 100 most frequent unique words\n",
    "def tokenization_report(bow, article_number):\n",
    "    article_tokens = bow[article_number]\n",
    "    sorted_tokens = sorted(article_tokens, key=lambda x: x[1], reverse=True)\n",
    "    for i in range(20):\n",
    "        print(\"Word {} (\\\"{}\\\") appears {} time(s).\".format(sorted_tokens[i][0], \n",
    "                                                         doc_dict[sorted_tokens[i][0]], \n",
    "                                                         sorted_tokens[i][1]))\n",
    "tokenization_report(docs_vecs, 0)"
   ]
  }
 ],
 "metadata": {
  "kernelspec": {
   "display_name": "Python 3",
   "language": "python",
   "name": "python3"
  },
  "language_info": {
   "codemirror_mode": {
    "name": "ipython",
    "version": 3
   },
   "file_extension": ".py",
   "mimetype": "text/x-python",
   "name": "python",
   "nbconvert_exporter": "python",
   "pygments_lexer": "ipython3",
   "version": "3.7.6"
  }
 },
 "nbformat": 4,
 "nbformat_minor": 5
}
