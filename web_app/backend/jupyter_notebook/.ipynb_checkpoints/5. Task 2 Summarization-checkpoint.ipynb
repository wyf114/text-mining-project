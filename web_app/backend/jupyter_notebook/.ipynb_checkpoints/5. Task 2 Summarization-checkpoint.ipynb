{
 "cells": [
  {
   "cell_type": "markdown",
   "id": "9a151316",
   "metadata": {},
   "source": [
    "# Extractive Summarization\n",
    "\n",
    "Attempt to summarize articles by selecting a subset of words that retain the most important points. Weights the important part of sentences and uses the same to form the summary."
   ]
  },
  {
   "cell_type": "code",
   "execution_count": 1,
   "id": "8504256d",
   "metadata": {
    "scrolled": true
   },
   "outputs": [],
   "source": [
    "import gensim\n",
    "from gensim import corpora\n",
    "from gensim import similarities\n",
    "from gensim import models\n",
    "from gensim.models import CoherenceModel\n",
    "\n",
    "import preprocess\n",
    "import os\n",
    "import re\n",
    "\n",
    "import nltk\n",
    "from nltk.corpus import stopwords\n",
    "from nltk.tokenize import sent_tokenize\n",
    "from nltk.tokenize import word_tokenize\n",
    "from nltk import pos_tag\n",
    "from nltk.stem import WordNetLemmatizer\n",
    "from nltk.cluster.util import cosine_distance\n",
    "\n",
    "import numpy as np\n",
    "import networkx as nx"
   ]
  },
  {
   "cell_type": "markdown",
   "id": "8a76a1ef",
   "metadata": {},
   "source": [
    "##  Extract Data"
   ]
  },
  {
   "cell_type": "code",
   "execution_count": 2,
   "id": "a87fff60",
   "metadata": {
    "scrolled": true
   },
   "outputs": [],
   "source": [
    "# Define the directory where the books are located\n",
    "# 5827, 31671\n",
    "books_directory = \"Data/Test/Test_Chapters/31671\"\n",
    "\n",
    "# Create a list to store the text data of each book\n",
    "book_texts = []\n",
    "chapters_name = []\n",
    "\n",
    "# Loop through each file in the directory\n",
    "for filename in os.listdir(books_directory):\n",
    "    if filename.endswith('.txt'):\n",
    "        with open(os.path.join(books_directory, filename), \"r\", encoding=\"utf8\", errors='ignore') as file:\n",
    "            book_text = file.read()\n",
    "            book_texts.append(book_text)\n",
    "            chapters_name.append(filename.replace('.txt',''))"
   ]
  },
  {
   "cell_type": "code",
   "execution_count": 3,
   "id": "4380f69d",
   "metadata": {},
   "outputs": [
    {
     "data": {
      "text/plain": [
       "['CHAPTER_III_',\n",
       " 'CHAPTER_II_',\n",
       " 'CHAPTER_IV_',\n",
       " 'CHAPTER_IX_',\n",
       " 'CHAPTER_I_',\n",
       " 'CHAPTER_VIII_',\n",
       " 'CHAPTER_VII_',\n",
       " 'CHAPTER_VI_',\n",
       " 'CHAPTER_V_']"
      ]
     },
     "execution_count": 3,
     "metadata": {},
     "output_type": "execute_result"
    }
   ],
   "source": [
    "chapters_name"
   ]
  },
  {
   "cell_type": "code",
   "execution_count": 4,
   "id": "25a18651",
   "metadata": {},
   "outputs": [],
   "source": [
    "selected_chap = 4\n",
    "sentences = nltk.sent_tokenize(book_texts[selected_chap])"
   ]
  },
  {
   "cell_type": "markdown",
   "id": "4606b7c5",
   "metadata": {},
   "source": [
    "## Model 1 - Using LDA Model Topic Distribution"
   ]
  },
  {
   "cell_type": "code",
   "execution_count": 5,
   "id": "184f6b14",
   "metadata": {
    "scrolled": true
   },
   "outputs": [],
   "source": [
    "wnl = WordNetLemmatizer()\n",
    "lower = [[w.lower() for w in nltk.word_tokenize(sen)] for sen in sentences]\n",
    "punc = [[w for w in sen if re.search('^[a-z]+$', w)] for sen in lower]\n",
    "doc_lemmed = [[wnl.lemmatize(word, tag[0].lower()) for word, tag in pos_tag(sen, tagset='universal') if tag[0].lower() in ['a', 'r', 'n', 'v']] for sen in punc]"
   ]
  },
  {
   "cell_type": "code",
   "execution_count": 6,
   "id": "1efe887c",
   "metadata": {},
   "outputs": [
    {
     "name": "stdout",
     "output_type": "stream",
     "text": [
      "Number of sentences:  88\n"
     ]
    }
   ],
   "source": [
    "id2word = corpora.Dictionary.load('Model/finalmodel_Dictionary')\n",
    "# vectorise the words \n",
    "chapter = doc_lemmed\n",
    "# new_dict = gensim.corpora.Dictionary(chapter)\n",
    "new_vecs = [id2word.doc2bow(sen) for sen in chapter]\n",
    "print(\"Number of sentences: \",len(new_vecs))"
   ]
  },
  {
   "cell_type": "code",
   "execution_count": 7,
   "id": "12f38c55",
   "metadata": {},
   "outputs": [],
   "source": [
    "#Find most dominant topic for each of the sentences\n",
    "\n",
    "import numpy as np\n",
    "import pandas as pd\n",
    "import warnings\n",
    "warnings.filterwarnings('ignore')\n",
    "\n",
    "lda_disk = gensim.models.ldamodel.LdaModel.load(\"Model/finalmodel_5Topics\")\n",
    "\n",
    "def format_topics_sentences(ldamodel, corpus, data):\n",
    "    # Init output\n",
    "    sent_topics_df = pd.DataFrame()\n",
    "\n",
    "    # Get main topic in each document\n",
    "    for i, row in enumerate(ldamodel[corpus]):\n",
    "        row = sorted(row, key=lambda x: (x[1]), reverse=True)\n",
    "        # Get the Dominant topic, Perc Contribution and Keywords for each document\n",
    "        for j, (topic_num, prop_topic) in enumerate(row):\n",
    "            if j == 0:  # => dominant topic\n",
    "                wp = ldamodel.show_topic(topic_num)\n",
    "                topic_keywords = \", \".join([word for word, prop in wp])\n",
    "                sent_topics_df = sent_topics_df.append(pd.Series([int(topic_num), round(prop_topic,4), topic_keywords]), ignore_index=True)\n",
    "            else:\n",
    "                break\n",
    "    sent_topics_df.columns = ['Dominant_Topic', 'Perc_Contribution', 'Topic_Keywords']\n",
    "\n",
    "    # Add original text to the end of the output\n",
    "    contents = pd.Series(data)\n",
    "    sent_topics_df = pd.concat([sent_topics_df, contents], axis=1)\n",
    "    return(sent_topics_df)\n",
    "\n",
    "#I choose model_list[2] where the number of topics is 6\n",
    "\n",
    "df_topic_sents_keywords = format_topics_sentences(ldamodel=lda_disk, corpus=new_vecs, data=chapter)\n",
    "\n",
    "# Format\n",
    "df_dominant_topic = df_topic_sents_keywords.reset_index()\n",
    "df_dominant_topic.columns = ['Sentence_No', 'Dominant_Topic', 'Topic_Perc_Contrib', 'Keywords', 'Text']\n",
    "sorted_df = df_dominant_topic.sort_values(by=\"Topic_Perc_Contrib\", ascending = False)"
   ]
  },
  {
   "cell_type": "code",
   "execution_count": 8,
   "id": "54db7122",
   "metadata": {},
   "outputs": [
    {
     "data": {
      "text/html": [
       "<div>\n",
       "<style scoped>\n",
       "    .dataframe tbody tr th:only-of-type {\n",
       "        vertical-align: middle;\n",
       "    }\n",
       "\n",
       "    .dataframe tbody tr th {\n",
       "        vertical-align: top;\n",
       "    }\n",
       "\n",
       "    .dataframe thead th {\n",
       "        text-align: right;\n",
       "    }\n",
       "</style>\n",
       "<table border=\"1\" class=\"dataframe\">\n",
       "  <thead>\n",
       "    <tr style=\"text-align: right;\">\n",
       "      <th></th>\n",
       "      <th>Sentence_No</th>\n",
       "      <th>Dominant_Topic</th>\n",
       "      <th>Topic_Perc_Contrib</th>\n",
       "      <th>Keywords</th>\n",
       "      <th>Text</th>\n",
       "    </tr>\n",
       "  </thead>\n",
       "  <tbody>\n",
       "    <tr>\n",
       "      <th>80</th>\n",
       "      <td>80</td>\n",
       "      <td>4.0</td>\n",
       "      <td>0.6968</td>\n",
       "      <td>sexual, dream, child, girl, activity, young, s...</td>\n",
       "      <td>[first, vestige, of, head, body, little, late,...</td>\n",
       "    </tr>\n",
       "    <tr>\n",
       "      <th>70</th>\n",
       "      <td>70</td>\n",
       "      <td>3.0</td>\n",
       "      <td>0.5302</td>\n",
       "      <td>child, soul, plato, justice, reply, evil, woma...</td>\n",
       "      <td>[skin, be, red, characterize, at, period, by, ...</td>\n",
       "    </tr>\n",
       "    <tr>\n",
       "      <th>14</th>\n",
       "      <td>14</td>\n",
       "      <td>2.0</td>\n",
       "      <td>0.5124</td>\n",
       "      <td>country, price, labour, trade, quantity, land,...</td>\n",
       "      <td>[at, very, early, age, of, reproduction, embry...</td>\n",
       "    </tr>\n",
       "    <tr>\n",
       "      <th>56</th>\n",
       "      <td>56</td>\n",
       "      <td>3.0</td>\n",
       "      <td>0.5056</td>\n",
       "      <td>child, soul, plato, justice, reply, evil, woma...</td>\n",
       "      <td>[movement, of, foetus, be, by, time, plainly, ...</td>\n",
       "    </tr>\n",
       "    <tr>\n",
       "      <th>31</th>\n",
       "      <td>31</td>\n",
       "      <td>4.0</td>\n",
       "      <td>0.4954</td>\n",
       "      <td>sexual, dream, child, girl, activity, young, s...</td>\n",
       "      <td>[kidney, now, begin, be, form, little, late, g...</td>\n",
       "    </tr>\n",
       "    <tr>\n",
       "      <th>...</th>\n",
       "      <td>...</td>\n",
       "      <td>...</td>\n",
       "      <td>...</td>\n",
       "      <td>...</td>\n",
       "      <td>...</td>\n",
       "    </tr>\n",
       "    <tr>\n",
       "      <th>73</th>\n",
       "      <td>73</td>\n",
       "      <td>0.0</td>\n",
       "      <td>0.2000</td>\n",
       "      <td>conception, government, sensation, image, phen...</td>\n",
       "      <td>[at, anxious, time, of, parturition, have, arr...</td>\n",
       "    </tr>\n",
       "    <tr>\n",
       "      <th>54</th>\n",
       "      <td>54</td>\n",
       "      <td>0.0</td>\n",
       "      <td>0.2000</td>\n",
       "      <td>conception, government, sensation, image, phen...</td>\n",
       "      <td>[eye, be, now, close, by, lid, nostril, be, mo...</td>\n",
       "    </tr>\n",
       "    <tr>\n",
       "      <th>21</th>\n",
       "      <td>21</td>\n",
       "      <td>0.0</td>\n",
       "      <td>0.2000</td>\n",
       "      <td>conception, government, sensation, image, phen...</td>\n",
       "      <td>[slight, depression, represent, neck, enable, ...</td>\n",
       "    </tr>\n",
       "    <tr>\n",
       "      <th>30</th>\n",
       "      <td>30</td>\n",
       "      <td>0.0</td>\n",
       "      <td>0.2000</td>\n",
       "      <td>conception, government, sensation, image, phen...</td>\n",
       "      <td>[at, about, little, bony, deposit, be, find, i...</td>\n",
       "    </tr>\n",
       "    <tr>\n",
       "      <th>0</th>\n",
       "      <td>0</td>\n",
       "      <td>0.0</td>\n",
       "      <td>0.2000</td>\n",
       "      <td>conception, government, sensation, image, phen...</td>\n",
       "      <td>[chapter, i]</td>\n",
       "    </tr>\n",
       "  </tbody>\n",
       "</table>\n",
       "<p>88 rows × 5 columns</p>\n",
       "</div>"
      ],
      "text/plain": [
       "    Sentence_No  Dominant_Topic  Topic_Perc_Contrib  \\\n",
       "80           80             4.0              0.6968   \n",
       "70           70             3.0              0.5302   \n",
       "14           14             2.0              0.5124   \n",
       "56           56             3.0              0.5056   \n",
       "31           31             4.0              0.4954   \n",
       "..          ...             ...                 ...   \n",
       "73           73             0.0              0.2000   \n",
       "54           54             0.0              0.2000   \n",
       "21           21             0.0              0.2000   \n",
       "30           30             0.0              0.2000   \n",
       "0             0             0.0              0.2000   \n",
       "\n",
       "                                             Keywords  \\\n",
       "80  sexual, dream, child, girl, activity, young, s...   \n",
       "70  child, soul, plato, justice, reply, evil, woma...   \n",
       "14  country, price, labour, trade, quantity, land,...   \n",
       "56  child, soul, plato, justice, reply, evil, woma...   \n",
       "31  sexual, dream, child, girl, activity, young, s...   \n",
       "..                                                ...   \n",
       "73  conception, government, sensation, image, phen...   \n",
       "54  conception, government, sensation, image, phen...   \n",
       "21  conception, government, sensation, image, phen...   \n",
       "30  conception, government, sensation, image, phen...   \n",
       "0   conception, government, sensation, image, phen...   \n",
       "\n",
       "                                                 Text  \n",
       "80  [first, vestige, of, head, body, little, late,...  \n",
       "70  [skin, be, red, characterize, at, period, by, ...  \n",
       "14  [at, very, early, age, of, reproduction, embry...  \n",
       "56  [movement, of, foetus, be, by, time, plainly, ...  \n",
       "31  [kidney, now, begin, be, form, little, late, g...  \n",
       "..                                                ...  \n",
       "73  [at, anxious, time, of, parturition, have, arr...  \n",
       "54  [eye, be, now, close, by, lid, nostril, be, mo...  \n",
       "21  [slight, depression, represent, neck, enable, ...  \n",
       "30  [at, about, little, bony, deposit, be, find, i...  \n",
       "0                                        [chapter, i]  \n",
       "\n",
       "[88 rows x 5 columns]"
      ]
     },
     "execution_count": 8,
     "metadata": {},
     "output_type": "execute_result"
    }
   ],
   "source": [
    "sorted_df"
   ]
  },
  {
   "cell_type": "code",
   "execution_count": 9,
   "id": "2da99774",
   "metadata": {},
   "outputs": [
    {
     "name": "stdout",
     "output_type": "stream",
     "text": [
      "Summarize Text: \n",
      "First the vestige of a head and body, a little later the heart and lungs appear lying in the open chest; then the hands are protruded from the sides of the trunk, afterwards the forearms, then the arms, all pushed out from the body; the feet and legs gradually protrude from the lower end of the trunk, and the chest closes up so that the heart and lungs can no longer be seen; the face, mouth and eyes take form, the external genital organs make their appearance in conjunction with other developments, and in due course of time the boy or girl is born ready for further developments in childhood, and adolescence. The skin is red, and characterized at this period by a fine downy covering, over which is spread a quantity of thick viscous matter, called the sebaceous coat, which has been forming since the latter part of the fifth month. At this very early age of reproduction the embryo has all the elements of the future man or woman, mentally and physically, even before any form becomes apparent; and so small is the human being at the earliest stage of its existence that no material change is observable between the ovule that contains the product of conception and a fully developed ovule unimpregnated. The movements of the foetus are by this time plainly felt by the mother, and if born at this time it may live several months.\n"
     ]
    }
   ],
   "source": [
    "sen_list = sorted_df['Sentence_No'].to_list()\n",
    "result_list = []\n",
    "for i in sen_list[0:4]:\n",
    "    sentence = sentences[i].replace('\\n', ' ')\n",
    "    result_list.append(sentence)\n",
    "\n",
    "summary = ' '\n",
    "summary.join(result_list)\n",
    "print(\"Summarize Text: \\n\" + summary.join(result_list))"
   ]
  },
  {
   "cell_type": "markdown",
   "id": "2da436a0",
   "metadata": {},
   "source": [
    "## Model 2 - Using Sentence Similarity"
   ]
  },
  {
   "cell_type": "code",
   "execution_count": 10,
   "id": "16c7ab54",
   "metadata": {},
   "outputs": [],
   "source": [
    "book_sentences = []\n",
    "for sen in sentences:\n",
    "    cleaned_sen = sen.replace(\"\\n\", \" \")\n",
    "    book_sentences.append(cleaned_sen.split(\" \"))"
   ]
  },
  {
   "cell_type": "code",
   "execution_count": 11,
   "id": "93f353e4",
   "metadata": {
    "scrolled": true
   },
   "outputs": [
    {
     "name": "stdout",
     "output_type": "stream",
     "text": [
      "[['CHAPTER', 'I.'], ['Introductory.'], ['In', 'the', 'creation', 'of', 'the', 'world', 'and', 'all', 'that', 'therein', 'is,', 'we', 'should', 'consider', 'it', 'an', 'axiom', 'that', '\"Everything', 'was', 'created', 'for', 'use.\"'], ['All', 'individual', 'substances,', 'or', 'beings,', 'that', 'come', 'to', 'our', 'notice', 'bear', 'certain', 'relations', 'to', 'one', 'another,', 'have', 'connection', 'one', 'with', 'another,', 'and', 'are', 'dependent', 'upon', 'and', 'useful', 'to', 'each', 'other;', 'and', 'nothing', 'could', 'possibly', 'exist', 'or', 'subsist', 'without', 'this', 'co-relation:', 'connection', 'with', 'and', 'use', 'to', 'each', 'other.'], ['This', 'is', 'a', 'law', 'which', 'needs', 'only', 'a', 'little', 'reflection', 'to', 'be', 'accepted', 'as', 'a', 'truth', 'in', 'every', 'particular--in', 'the', 'greatest', 'as', 'well', 'as', 'in', 'the', 'least', 'created', 'form.'], ['This', 'is', 'more', 'plainly', 'seen', 'in', 'the', 'animal', 'kingdom', 'than', 'in', 'the', 'mineral', 'or', 'vegetable,', 'because', 'its', 'members', 'associate', 'and', 'finally', 'become', 'conjoined', 'in', 'pairs.'], ['Man', 'and', 'woman,', 'who', 'represent', 'the', 'crown', 'and', 'glory', 'of', 'all', 'created', 'beings,', 'in', 'whom', 'are', 'embodied', 'all', 'the', 'lower', 'orders,', 'were', 'and', 'are', 'still', 'created', 'to', 'associate', 'in', 'pairs--each', 'created', 'for', 'the', 'other,', 'the', 'one', 'to', 'help', 'the', 'other;', 'the', 'two', 'to', 'love', 'and', 'to', 'belong', 'to', 'one', 'another.'], ['This', 'principle,', 'fully', 'carried', 'out,', 'justifies', 'and', 'shows', 'the', 'necessity', 'for', 'the', 'creation', 'of', 'man', 'and', 'woman', 'precisely', 'as', 'they', 'are,', 'having', 'bodies,', 'parts', 'and', 'passions,', 'will', 'and', 'understanding.'], ['It', 'is', 'my', 'intention', 'in', 'the', 'following', 'pages', 'to', 'explain', 'the', 'relations', 'existing', 'between', 'the', 'sexes,', 'for', 'the', 'purpose', 'of', 'showing', 'that', 'the', 'greatest', 'happiness', 'to', 'the', 'human', 'race', 'will', 'be', 'found', 'in', 'living', 'a', 'life', 'in', 'full', 'accord', 'with', 'these', 'relations.'], ['In', 'order', 'that', 'the', 'subject', 'may', 'be', 'fully', 'understood,', 'let', 'us', 'examine', 'the', 'physical', 'development', 'of', 'man', 'and', 'woman', 'in', 'detail,', 'particularizing', 'the', 'different', 'organs', 'of', 'the', 'body', 'as', 'they', 'appear', 'in', 'their', 'order', 'of', 'formation,', 'from', 'the', 'very', 'inmost', 'or', 'beginning,', 'to', 'the', 'ultimate', 'or', 'end,', 'in', 'their', 'respective', 'natures.'], ['Ever', 'since', 'the', 'primal', 'creation', 'of', 'man', 'and', 'woman,', 'the', 'human', 'race', 'has', 'been', 'perpetuated', 'by', 'a', 'series', 'of', 'births.'], ['Children', 'have', 'been', 'conceived', 'in', 'harmony', 'with', 'the', 'natural', 'order', 'of', 'events,', 'in', 'such', 'matters,', 'and', 'have', 'been', 'born', 'boys', 'and', 'girls.'], ['A', 'boy', 'is', 'a', 'boy', 'to', 'all', 'intents', 'and', 'purposes', 'from', 'his', 'very', 'conception,', 'from', 'the', 'very', 'earliest', 'moment', 'of', 'his', 'being;', 'begotten', 'by', 'his', 'father', 'he', 'is', 'a', 'boy', 'in', 'embryo', 'within', 'the', 'ovule', 'of', 'his', 'mother.'], ['The', 'converse', 'is', 'true', 'of', 'the', 'opposite', 'sex.'], ['At', 'this', 'very', 'early', 'age', 'of', 'reproduction', 'the', 'embryo', 'has', 'all', 'the', 'elements', 'of', 'the', 'future', 'man', 'or', 'woman,', 'mentally', 'and', 'physically,', 'even', 'before', 'any', 'form', 'becomes', 'apparent;', 'and', 'so', 'small', 'is', 'the', 'human', 'being', 'at', 'the', 'earliest', 'stage', 'of', 'its', 'existence', 'that', 'no', 'material', 'change', 'is', 'observable', 'between', 'the', 'ovule', 'that', 'contains', 'the', 'product', 'of', 'conception', 'and', 'a', 'fully', 'developed', 'ovule', 'unimpregnated.'], ['[A]', '[A]', 'For', 'fuller', 'particulars', 'see', \"Guernsey's\", 'Obstetrics,', '3d', 'edition,', 'pages', '79-89,', 'inclusive.'], ['It', 'is', 'about', 'twelve', 'days', 'after', 'conception', 'before', 'the', 'impregnated', 'ovule,', 'which', 'undergoes', 'many', 'changes', 'during', 'this', 'time,', 'makes', 'its', 'escape', 'from', 'the', 'ovary', 'where', 'it', 'became', 'impregnated', 'and', 'enters', 'one', 'of', 'the', 'Fallopian', 'tubes,', 'thence', 'gradually', 'descending', 'into', 'the', 'cavity', 'of', 'the', 'womb.'], ['Here', 'it', 'begins', 'to', 'mature', 'and', 'become', 'fitted', 'for', 'its', 'birth', 'into', 'the', 'outer', 'world.'], ['Soon', 'now', 'the', 'embryo', '(for', 'such', 'it', 'is', 'called', 'at', 'this', 'early', 'stage)', 'begins', 'to', 'assume', 'form.'], ['The', 'first', 'indication', 'of', 'formation', 'that', 'it', 'is', 'possible', 'to', 'discover,', 'even', 'by', 'the', 'help', 'of', 'the', 'microscope,', 'consists', 'of', 'an', 'oblong', 'figure,', 'obtuse', 'at', 'one', 'extremity,', 'swollen', 'in', 'the', 'middle,', 'blunt-pointed', 'at', 'the', 'other', 'extremity.'], ['The', 'rudimentary', 'embryo', 'is', 'slightly', 'curved', 'forward,', 'is', 'of', 'a', 'grayish', 'white', 'color,', 'of', 'a', 'gelatinous', 'consistence,', 'from', 'two', 'to', 'four', 'lines', 'long', 'and', 'weighs', 'one', 'or', 'two', 'grains.'], ['A', 'slight', 'depression', 'representing', 'the', 'neck,', 'enables', 'us', 'to', 'distinguish', 'the', 'head;', 'the', 'body', 'is', 'marked', 'by', 'a', 'swollen', 'centre,', 'but', 'there', 'are', 'as', 'yet', 'no', 'traces', 'of', 'the', 'extremities.'], ['So', 'much', 'can', 'be', 'observed', 'about', 'the', 'end', 'of', 'the', 'third', 'week', 'after', 'conception.'], ['At', 'about', 'the', '_fifth', 'week_', 'the', 'embryo', 'presents', 'more', 'distinctions.'], ['The', 'head', 'is', 'very', 'large', 'in', 'proportion', 'to', 'the', 'rest', 'of', 'the', 'body,', 'the', 'eyes', 'are', 'represented', 'by', 'two', 'black', 'spots,', 'and', 'the', 'upper', 'extremities', 'by', 'small', 'protuberances', 'on', 'the', 'sides', 'of', 'the', 'trunk.'], ['The', 'embryo', 'at', 'this', 'stage', 'is', 'nearly', 'two-thirds', 'of', 'an', 'inch', 'in', 'length', 'and', 'weighs', 'about', 'fifteen', 'grains.'], ['The', 'lower', 'extremities', 'now', 'begin', 'to', 'appear', 'in', 'the', 'shape', 'of', 'two', 'minute', 'rounded', 'tubercles.'], ['Till', 'about', 'this', 'time', 'a', 'straight', 'artery', 'has', 'been', 'observed', 'to', 'beat', 'with', 'the', 'regularity', 'of', 'the', 'pulse;', 'but', 'now', 'it', 'appears', 'doubled', 'somewhat', 'into', 'the', 'shape', 'of', 'an', 'adult', 'heart,', 'although', 'as', 'yet', 'it', 'has', 'but', 'one', 'auricle', 'and', 'one', 'ventricle.'], ['As', 'time', 'advances', 'we', 'find', 'the', 'perfect', 'heart', 'with', 'its', 'two', 'ventricles', 'and', 'two', 'auricles,', 'all', 'developed', 'from', 'the', 'original', 'straight', 'artery.'], ['At', 'this', 'period', 'the', 'lungs', 'appear', 'to', 'exist', 'in', 'five', 'or', 'six', 'different', 'lobes', 'and', 'we', 'can', 'barely', 'distinguish', 'the', 'bronchial', 'tubes;', 'about', 'the', 'same', 'time', 'the', 'ears', 'and', 'face', 'are', 'distinctly', 'outlined,', 'and', 'after', 'awhile', 'the', 'nose', 'is', 'also', 'faintly', 'and', 'imperfectly', 'perceived.'], ['At', 'about', 'the', '_seventh', 'week_', 'a', 'little', 'bony', 'deposit', 'is', 'found', 'in', 'the', 'lower', 'jaw.'], ['The', 'kidneys', 'now', 'begin', 'to', 'be', 'formed,', 'and', 'a', 'little', 'later', 'the', 'genital', 'organs.'], ['The', 'embryo', 'averages', 'one', 'inch', 'in', 'length.'], ['At', '_two', 'months_', 'the', 'rudiments', 'of', 'the', 'extremities', 'become', 'more', 'prominent.'], ['The', 'forearm', 'and', 'hand', 'can', 'be', 'distinguished', 'but', 'not', 'the', 'arm', 'above', 'the', 'elbow;', 'the', 'hand', 'is', 'larger', 'than', 'the', 'forearm,', 'but', 'is', 'not', 'supplied', 'with', 'fingers.'], ['The', 'sex', 'cannot', 'yet', 'be', 'determined.'], ['The', 'length', 'of', 'the', 'embryo', 'is', 'from', 'one', 'inch', 'and', 'a', 'half', 'to', 'two', 'inches,', 'and', 'it', 'weighs', 'from', 'three', 'to', 'five', 'drachms.'], ['The', 'eyes', 'are', 'discernible,', 'but', 'still', 'uncovered', 'by', 'the', 'rudimentary', 'lids.'], ['The', 'nose', 'forms', 'an', 'obtuse', 'eminence,', 'the', 'nostrils', 'are', 'rounded', 'and', 'separated,', 'the', 'mouth', 'is', 'gaping', 'and', 'the', 'epidermis', 'can', 'be', 'distinguished', 'from', 'the', 'true', 'skin.'], ['At', '_ten', 'weeks_', 'the', 'embryo', 'is', 'from', 'one', 'and', 'a', 'half', 'to', 'two', 'and', 'a', 'half', 'inches', 'long,', 'and', 'its', 'weight', 'is', 'from', 'one', 'ounce', 'to', 'an', 'ounce', 'and', 'a', 'half,', 'the', 'eyelids', 'are', 'more', 'developed', 'and', 'descend', 'in', 'front', 'of', 'the', 'eyes;', 'the', 'mouth', 'begins', 'to', 'be', 'closed', 'by', 'the', 'development', 'of', 'the', 'lips.'], ['The', 'walls', 'of', 'the', 'chest', 'are', 'more', 'completely', 'formed,', 'so', 'that', 'it', 'is', 'no', 'longer', 'possible', 'to', 'see', 'the', 'movements', 'of', 'the', 'heart.'], ['The', 'fingers', 'become', 'distinct', 'and', 'the', 'toes', 'appear', 'as', 'small', 'projections', 'webbed', 'together', 'like', 'a', \"frog's\", 'foot.'], ['At', 'about', 'this', 'period', 'the', 'sexual', 'organs', 'show', 'their', 'development', 'as', 'follows:', 'On', 'each', 'side', 'of', 'the', 'urinary', 'locality', 'an', 'oblong', 'fold', 'becomes', 'distinguishable;', 'in', 'course', 'of', 'progress', 'if', 'these', 'folds', 'remain', 'separate,', 'a', 'little', 'tubercle', 'forms', 'in', 'the', 'anterior', 'commissure', 'which', 'becomes', 'the', 'clitoris;', 'the', 'nymphae', 'develop,', 'the', 'urethra', 'forms', 'between', 'them,', 'and', 'the', 'female', 'sex', 'is', 'determined.'], ['If,', 'on', 'the', 'other', 'hand,', 'these', 'folds', 'unite', 'into', 'a', 'rounded', 'projection', 'the', 'scrotum', 'is', 'formed,', 'the', 'little', 'tubercle', 'above', 'becomes', 'the', 'penis', 'and', 'hence', 'the', 'male', 'sex.'], ['The', 'testicles', 'forming', 'within', 'the', 'body,', 'descend', 'later', 'into', 'the', 'scrotum,', 'and', 'organs', 'similar', 'to', 'them,', 'their', 'counterparts,', 'form', 'in', 'the', 'female', 'and', 'are', 'called', 'ovaries.'], ['These', 'ovaries', 'are', 'found', 'attached', 'to', 'an', 'organ', 'called', 'the', 'womb,', 'and', 'this', 'again', 'is', 'united', 'with', 'the', 'vagina,', 'which', 'leads', 'downwards', 'and', 'outwards', 'between', 'the', 'labia', 'majora.'], ['[B]', '[B]', 'For', 'fuller', 'particulars', 'see', \"Guernsey's\", 'Obstetrics.'], ['At', 'the', 'end', 'of', 'the', '_third', 'month_', 'the', 'weight', 'of', 'the', 'embryo', 'is', 'from', 'three', 'to', 'four', 'ounces', 'and', 'its', 'length', 'from', 'four', 'to', 'five', 'inches,', 'the', 'eyeballs', 'are', 'seen', 'through', 'the', 'lids,', 'the', 'pupils', 'of', 'the', 'eyes', 'are', 'discernible,', 'the', 'forehead,', 'nose', 'and', 'lips', 'can', 'be', 'clearly', 'distinguished.'], ['The', 'finger', 'nails', 'resemble', 'thin', 'membranous', 'plates,', 'the', 'skin', 'shows', 'more', 'firmness,', 'but', 'is', 'still', 'rosy-hued,', 'thin', 'and', 'transparent.'], ['The', 'sex', 'can', 'now', 'be', 'fully', 'determined.'], ['At', 'the', 'end', 'of', 'the', '_fourth', 'month_', 'the', 'product', 'of', 'conception', 'is', 'no', 'longer', 'called', 'an', 'embryo,', 'but', 'a', 'foetus.'], ['The', 'body', 'is', 'from', 'six', 'to', 'eight', 'inches', 'in', 'length', 'and', 'weighs', 'six', 'or', 'seven', 'ounces.'], ['A', 'few', 'little', 'white', 'hairs', 'are', 'seen', 'scattered', 'over', 'the', 'scalp.'], ['The', 'development', 'of', 'the', 'face', 'is', 'still', 'imperfect.'], ['The', 'eyes', 'are', 'now', 'closed', 'by', 'their', 'lids,', 'the', 'nostrils', 'are', 'well-formed,', 'the', 'mouth', 'is', 'shut', 'in', 'by', 'the', 'lips', 'and', 'the', 'sex', 'is', 'still', 'more', 'sharply', 'defined.'], ['The', 'tongue', 'may', 'be', 'observed', 'far', 'back', 'in', 'the', 'mouth,', 'and', 'the', 'lower', 'part', 'of', 'the', 'face', 'is', 'rounded', 'off', 'by', 'what', 'a', 'little', 'later', 'will', 'be', 'a', 'well-formed', 'chin.'], ['The', 'movements', 'of', 'the', 'foetus', 'are', 'by', 'this', 'time', 'plainly', 'felt', 'by', 'the', 'mother,', 'and', 'if', 'born', 'at', 'this', 'time', 'it', 'may', 'live', 'several', 'months.'], ['At', 'the', 'end', 'of', 'the', '_fifth', 'month_', 'the', 'body', 'of', 'the', 'foetus', 'is', 'from', 'seven', 'to', 'nine', 'inches', 'long', 'and', 'weighs', 'from', 'eight', 'to', 'eleven', 'ounces.'], ['The', 'skin', 'has', 'a', 'fairer', 'appearance', 'and', 'more', 'consistence;', 'the', 'eyes', 'can', 'no', 'longer', 'be', 'distinguished', 'through', 'the', 'lids,', 'owing', 'to', 'the', 'increased', 'thickness', 'of', 'the', 'latter.'], ['The', 'head,', 'heart', 'and', 'kidneys', 'are', 'large', 'and', 'well', 'developed.'], ['At', 'the', 'end', 'of', 'the', '_sixth', 'month_', 'the', 'foetus', 'is', 'from', 'eleven', 'to', 'twelve', 'and', 'a', 'half', 'inches', 'in', 'length,', 'and', 'weighs', 'about', 'sixteen', 'ounces,', 'more', 'or', 'less.'], ['The', 'hair', 'upon', 'the', 'scalp', 'is', 'thicker', 'and', 'longer,', 'the', 'eyes', 'remain', 'closed,', 'and', 'very', 'delicate', 'hairs', 'may', 'be', 'seen', 'upon', 'the', 'margins', 'of', 'the', 'eye-lids', 'and', 'upon', 'the', 'eye-brows.'], ['The', 'nails', 'are', 'solid,', 'the', 'scrotum', 'small', 'and', 'empty,', 'the', 'surface', 'of', 'the', 'skin', 'appears', 'wrinkled', 'but', 'the', 'dermis', 'may', 'be', 'distinguished', 'from', 'the', 'epidermis.'], ['The', 'liver', 'is', 'large', 'and', 'red,', 'and', 'the', 'gall-bladder', 'contains', 'fluid.'], ['At', 'the', 'end', 'of', 'the', '_seventh', 'month_', 'the', 'length', 'of', 'the', 'foetus', 'is', 'from', 'twelve', 'and', 'a', 'half', 'to', 'fourteen', 'inches,', 'its', 'weight', 'is', 'about', 'fifty-five', 'ounces,', 'and', 'it', 'is', 'both', 'well', 'defined', 'and', 'well', 'proportioned', 'in', 'all', 'its', 'parts.'], ['The', 'bones', 'of', 'the', 'cranium,', 'hitherto', 'quite', 'flat,', 'now', 'appear', 'a', 'little', 'arched,', 'and', 'as', 'the', 'process', 'of', 'ossification', 'goes', 'on,', 'the', 'arching', 'increases', 'till', 'the', 'vault', 'is', 'quite', 'complete.'], ['The', 'brain', 'presents', 'greater', 'firmness,', 'and', 'the', 'eye-lids', 'are', 'opened.'], ['The', 'skin', 'is', 'much', 'firmer', 'and', 'red.'], ['The', 'gall-bladder', 'contains', 'bile.'], ['At', 'the', 'end', 'of', 'the', '_eighth', 'month_', 'the', 'foetus', 'seems', 'to', 'thicken', 'up', 'rather', 'than', 'to', 'increase', 'in', 'length,', 'since', 'it', 'is', 'only', 'from', 'sixteen', 'to', 'eighteen', 'inches', 'long', 'while', 'its', 'weight', 'increases', 'from', 'four', 'to', 'five', 'pounds.'], ['The', 'skin', 'is', 'red,', 'and', 'characterized', 'at', 'this', 'period', 'by', 'a', 'fine', 'downy', 'covering,', 'over', 'which', 'is', 'spread', 'a', 'quantity', 'of', 'thick', 'viscous', 'matter,', 'called', 'the', 'sebaceous', 'coat,', 'which', 'has', 'been', 'forming', 'since', 'the', 'latter', 'part', 'of', 'the', 'fifth', 'month.'], ['The', 'lower', 'jaw', 'has', 'now', 'become', 'as', 'long', 'as', 'the', 'upper', 'one,', 'and', 'in', 'the', 'male', 'the', 'left', 'testicle', 'may', 'be', 'found', 'in', 'the', 'scrotum.'], ['Convolutions', 'appear', 'in', 'the', 'brain', 'structure.'], ['At', '_nine', 'months_', 'the', 'anxious', 'time', 'of', 'parturition', 'has', 'arrived.'], ['The', 'foetus', 'is', 'from', 'nineteen', 'to', 'twenty-three', 'inches', 'in', 'length', 'and', 'weighs', 'on', 'an', 'average', 'from', 'six', 'to', 'eight', 'pounds.'], ['Children', 'at', 'birth', 'sometimes', 'weigh', 'as', 'much', 'as', 'fourteen', 'pounds;', 'but', 'such', 'extremes', 'are', 'very', 'rare.'], ['At', 'this', 'period', 'the', 'white', 'and', 'grey', 'matter', 'of', 'the', 'brain', 'are', 'distinct,', 'and', 'the', 'convolutions', 'are', 'well', 'marked;', 'the', 'nails', 'assume', 'a', 'horny', 'consistence,', 'hair', 'upon', 'the', 'head', 'is', 'more', 'or', 'less', 'abundant,', 'the', 'testes', 'are', 'in', 'the', 'scrotum,', 'and', 'the', 'entire', 'external', 'genital', 'organs', 'of', 'both', 'male', 'and', 'female', 'are', 'well', 'formed.'], ['The', 'above', 'particulars', 'respecting', 'the', 'development', 'of', 'the', 'human', 'being', 'have', 'been', 'narrated', 'to', 'show', 'that', 'one', 'organ', 'is', 'just', 'as', 'important', 'as', 'another,', 'and', 'that', 'each', 'is', 'really', 'dependent', 'upon', 'the', 'other;', 'no', 'one', 'could', 'exist', 'without', 'the', 'other', 'and', 'all', 'are', 'to', 'subserve', 'a', 'use.'], ['First', 'must', 'be', 'the', '_esse_', '(the', 'inmost)', 'the', 'vital', 'force', 'imparted', 'to', 'the', 'ovule.'], ['A', 'little', 'later', 'certain', 'changes', 'take', 'place', 'in', 'the', 'ovule,', 'later', 'still', 'other', 'changes,', 'and', 'finally', 'about', 'the', 'fifteenth', 'day', 'a', 'slight', 'development', 'of', 'the', 'new', 'human', 'being', 'can', 'just', 'be', 'outlined', 'by', 'the', 'help', 'of', 'the', 'microscope,', 'which,', 'as', 'before', 'stated,', 'has', 'form', 'at', 'about', 'the', 'third', 'week', 'after', 'conception.'], ['First', 'the', 'vestige', 'of', 'a', 'head', 'and', 'body,', 'a', 'little', 'later', 'the', 'heart', 'and', 'lungs', 'appear', 'lying', 'in', 'the', 'open', 'chest;', 'then', 'the', 'hands', 'are', 'protruded', 'from', 'the', 'sides', 'of', 'the', 'trunk,', 'afterwards', 'the', 'forearms,', 'then', 'the', 'arms,', 'all', 'pushed', 'out', 'from', 'the', 'body;', 'the', 'feet', 'and', 'legs', 'gradually', 'protrude', 'from', 'the', 'lower', 'end', 'of', 'the', 'trunk,', 'and', 'the', 'chest', 'closes', 'up', 'so', 'that', 'the', 'heart', 'and', 'lungs', 'can', 'no', 'longer', 'be', 'seen;', 'the', 'face,', 'mouth', 'and', 'eyes', 'take', 'form,', 'the', 'external', 'genital', 'organs', 'make', 'their', 'appearance', 'in', 'conjunction', 'with', 'other', 'developments,', 'and', 'in', 'due', 'course', 'of', 'time', 'the', 'boy', 'or', 'girl', 'is', 'born', 'ready', 'for', 'further', 'developments', 'in', 'childhood,', 'and', 'adolescence.'], ['When', 'the', 'latter', 'development', 'has', 'been', 'attained,', 'if', 'due', 'care', 'has', 'been', 'taken', 'by', 'all', 'interested', 'parties,', 'we', 'have', 'pure', 'men', 'and', 'pure', 'women', 'fitted', 'to', 'enter', 'upon', 'the', 'privileges', 'and', 'the', '_uses_', 'of', 'a', 'wedded', 'life', 'according', 'to', 'the', 'design', 'of', 'our', 'Creator.'], ['How', 'wonderfully', 'and', 'how', 'instructively', 'are', 'all', 'organs', 'in', 'the', 'animal', 'body', 'disposed', 'and', 'arranged!'], ['In', 'the', 'highest', 'place', 'we', 'find', 'the', 'brain', 'to', 'govern', 'and', 'rule', 'over', 'all', 'below.'], ['It', 'is', 'the', 'first', 'organ', 'formed', 'and', 'in', 'an', 'orderly', 'life', 'should', 'control', 'all', 'the', 'others.'], ['Next', 'in', 'order', 'and', 'importance', 'are', 'the', 'heart', 'and', 'lungs,', 'which', 'put', 'into', 'motion', 'all', 'other', 'parts', 'and', 'enable', 'the', 'animal', 'frame', 'to', 'continue', 'in', 'motion.'], ['So', 'each', 'and', 'every', 'organ', 'is', 'developed', 'in', 'its', 'proper', 'order,', 'all', 'to', 'obey', 'the', 'commands', 'of', 'the', 'first', 'and', 'most', 'important--the', 'brain,', 'the', 'seat', 'of', 'the', 'reason', 'and', 'the', 'will.'], ['Happy', 'are', 'they', 'of', 'either', 'sex', 'who', 'will', 'govern', 'themselves', 'by', 'a', 'pure', 'enlightened', 'reason', 'and', 'a', 'pure', 'affectionate', 'will.']]\n"
     ]
    }
   ],
   "source": [
    "new_sentences=[]\n",
    "new_sentences = [[x for x in sentence if x] for sentence in book_sentences]\n",
    "print(new_sentences)"
   ]
  },
  {
   "cell_type": "code",
   "execution_count": 12,
   "id": "4d44ac59",
   "metadata": {
    "scrolled": true
   },
   "outputs": [],
   "source": [
    "def sentence_similarity(sent1, sent2, stopwords=None):\n",
    "    if stopwords is None:\n",
    "        stopwords = []\n",
    " \n",
    "    sent1 = [w.lower() for w in sent1]\n",
    "    sent2 = [w.lower() for w in sent2]\n",
    " \n",
    "    all_words = list(set(sent1 + sent2))\n",
    " \n",
    "    vector1 = [0] * len(all_words)\n",
    "    vector2 = [0] * len(all_words)\n",
    " \n",
    "    # build the vector for the first sentence\n",
    "    for w in sent1:\n",
    "        if w in stopwords:\n",
    "            continue\n",
    "        vector1[all_words.index(w)] += 1\n",
    " \n",
    "    # build the vector for the second sentence\n",
    "    for w in sent2:\n",
    "        if w in stopwords:\n",
    "            continue\n",
    "        vector2[all_words.index(w)] += 1\n",
    "        \n",
    "    if np.isnan(1 - cosine_distance(vector1, vector2)):\n",
    "        return 0\n",
    "    return 1 - cosine_distance(vector1, vector2)"
   ]
  },
  {
   "cell_type": "code",
   "execution_count": 13,
   "id": "8eac489d",
   "metadata": {
    "scrolled": true
   },
   "outputs": [],
   "source": [
    "def build_similarity_matrix(sentences, stop_words):\n",
    "    # Create an empty similarity matrix\n",
    "    similarity_matrix = np.zeros((len(sentences), len(sentences)))\n",
    " \n",
    "    for idx1 in range(len(sentences)):\n",
    "        for idx2 in range(len(sentences)):\n",
    "            if idx1 == idx2: #ignore if both are same sentences\n",
    "                continue \n",
    "            similarity_matrix[idx1][idx2] = sentence_similarity(sentences[idx1], sentences[idx2], stop_words)\n",
    "    return similarity_matrix"
   ]
  },
  {
   "cell_type": "code",
   "execution_count": 14,
   "id": "2d6714a7",
   "metadata": {
    "scrolled": true
   },
   "outputs": [
    {
     "name": "stdout",
     "output_type": "stream",
     "text": [
      "Indexes of top ranked_sentence order are  [(0.025169542311981968, ['The', 'length', 'of', 'the', 'embryo', 'is', 'from', 'one', 'inch', 'and', 'a', 'half', 'to', 'two', 'inches,', 'and', 'it', 'weighs', 'from', 'three', 'to', 'five', 'drachms.']), (0.022000891037960976, ['At', '_ten', 'weeks_', 'the', 'embryo', 'is', 'from', 'one', 'and', 'a', 'half', 'to', 'two', 'and', 'a', 'half', 'inches', 'long,', 'and', 'its', 'weight', 'is', 'from', 'one', 'ounce', 'to', 'an', 'ounce', 'and', 'a', 'half,', 'the', 'eyelids', 'are', 'more', 'developed', 'and', 'descend', 'in', 'front', 'of', 'the', 'eyes;', 'the', 'mouth', 'begins', 'to', 'be', 'closed', 'by', 'the', 'development', 'of', 'the', 'lips.']), (0.02174196368552055, ['First', 'the', 'vestige', 'of', 'a', 'head', 'and', 'body,', 'a', 'little', 'later', 'the', 'heart', 'and', 'lungs', 'appear', 'lying', 'in', 'the', 'open', 'chest;', 'then', 'the', 'hands', 'are', 'protruded', 'from', 'the', 'sides', 'of', 'the', 'trunk,', 'afterwards', 'the', 'forearms,', 'then', 'the', 'arms,', 'all', 'pushed', 'out', 'from', 'the', 'body;', 'the', 'feet', 'and', 'legs', 'gradually', 'protrude', 'from', 'the', 'lower', 'end', 'of', 'the', 'trunk,', 'and', 'the', 'chest', 'closes', 'up', 'so', 'that', 'the', 'heart', 'and', 'lungs', 'can', 'no', 'longer', 'be', 'seen;', 'the', 'face,', 'mouth', 'and', 'eyes', 'take', 'form,', 'the', 'external', 'genital', 'organs', 'make', 'their', 'appearance', 'in', 'conjunction', 'with', 'other', 'developments,', 'and', 'in', 'due', 'course', 'of', 'time', 'the', 'boy', 'or', 'girl', 'is', 'born', 'ready', 'for', 'further', 'developments', 'in', 'childhood,', 'and', 'adolescence.']), (0.020159587215225833, ['The', 'rudimentary', 'embryo', 'is', 'slightly', 'curved', 'forward,', 'is', 'of', 'a', 'grayish', 'white', 'color,', 'of', 'a', 'gelatinous', 'consistence,', 'from', 'two', 'to', 'four', 'lines', 'long', 'and', 'weighs', 'one', 'or', 'two', 'grains.']), (0.019625294254322013, ['At', 'the', 'end', 'of', 'the', '_fifth', 'month_', 'the', 'body', 'of', 'the', 'foetus', 'is', 'from', 'seven', 'to', 'nine', 'inches', 'long', 'and', 'weighs', 'from', 'eight', 'to', 'eleven', 'ounces.']), (0.01944043218252964, ['The', 'above', 'particulars', 'respecting', 'the', 'development', 'of', 'the', 'human', 'being', 'have', 'been', 'narrated', 'to', 'show', 'that', 'one', 'organ', 'is', 'just', 'as', 'important', 'as', 'another,', 'and', 'that', 'each', 'is', 'really', 'dependent', 'upon', 'the', 'other;', 'no', 'one', 'could', 'exist', 'without', 'the', 'other', 'and', 'all', 'are', 'to', 'subserve', 'a', 'use.']), (0.019428754168878657, ['Man', 'and', 'woman,', 'who', 'represent', 'the', 'crown', 'and', 'glory', 'of', 'all', 'created', 'beings,', 'in', 'whom', 'are', 'embodied', 'all', 'the', 'lower', 'orders,', 'were', 'and', 'are', 'still', 'created', 'to', 'associate', 'in', 'pairs--each', 'created', 'for', 'the', 'other,', 'the', 'one', 'to', 'help', 'the', 'other;', 'the', 'two', 'to', 'love', 'and', 'to', 'belong', 'to', 'one', 'another.']), (0.01932297329336054, ['At', 'the', 'end', 'of', 'the', '_third', 'month_', 'the', 'weight', 'of', 'the', 'embryo', 'is', 'from', 'three', 'to', 'four', 'ounces', 'and', 'its', 'length', 'from', 'four', 'to', 'five', 'inches,', 'the', 'eyeballs', 'are', 'seen', 'through', 'the', 'lids,', 'the', 'pupils', 'of', 'the', 'eyes', 'are', 'discernible,', 'the', 'forehead,', 'nose', 'and', 'lips', 'can', 'be', 'clearly', 'distinguished.']), (0.017473572306808828, ['A', 'little', 'later', 'certain', 'changes', 'take', 'place', 'in', 'the', 'ovule,', 'later', 'still', 'other', 'changes,', 'and', 'finally', 'about', 'the', 'fifteenth', 'day', 'a', 'slight', 'development', 'of', 'the', 'new', 'human', 'being', 'can', 'just', 'be', 'outlined', 'by', 'the', 'help', 'of', 'the', 'microscope,', 'which,', 'as', 'before', 'stated,', 'has', 'form', 'at', 'about', 'the', 'third', 'week', 'after', 'conception.']), (0.017459039293043092, ['At', 'the', 'end', 'of', 'the', '_seventh', 'month_', 'the', 'length', 'of', 'the', 'foetus', 'is', 'from', 'twelve', 'and', 'a', 'half', 'to', 'fourteen', 'inches,', 'its', 'weight', 'is', 'about', 'fifty-five', 'ounces,', 'and', 'it', 'is', 'both', 'well', 'defined', 'and', 'well', 'proportioned', 'in', 'all', 'its', 'parts.']), (0.017291175770908204, ['The', 'embryo', 'averages', 'one', 'inch', 'in', 'length.']), (0.016865340732780964, ['At', 'the', 'end', 'of', 'the', '_sixth', 'month_', 'the', 'foetus', 'is', 'from', 'eleven', 'to', 'twelve', 'and', 'a', 'half', 'inches', 'in', 'length,', 'and', 'weighs', 'about', 'sixteen', 'ounces,', 'more', 'or', 'less.']), (0.016626214309018027, ['The', 'tongue', 'may', 'be', 'observed', 'far', 'back', 'in', 'the', 'mouth,', 'and', 'the', 'lower', 'part', 'of', 'the', 'face', 'is', 'rounded', 'off', 'by', 'what', 'a', 'little', 'later', 'will', 'be', 'a', 'well-formed', 'chin.']), (0.016235759312438883, ['The', 'lower', 'extremities', 'now', 'begin', 'to', 'appear', 'in', 'the', 'shape', 'of', 'two', 'minute', 'rounded', 'tubercles.']), (0.016179133445387708, ['At', 'this', 'very', 'early', 'age', 'of', 'reproduction', 'the', 'embryo', 'has', 'all', 'the', 'elements', 'of', 'the', 'future', 'man', 'or', 'woman,', 'mentally', 'and', 'physically,', 'even', 'before', 'any', 'form', 'becomes', 'apparent;', 'and', 'so', 'small', 'is', 'the', 'human', 'being', 'at', 'the', 'earliest', 'stage', 'of', 'its', 'existence', 'that', 'no', 'material', 'change', 'is', 'observable', 'between', 'the', 'ovule', 'that', 'contains', 'the', 'product', 'of', 'conception', 'and', 'a', 'fully', 'developed', 'ovule', 'unimpregnated.']), (0.01590032653066735, ['In', 'order', 'that', 'the', 'subject', 'may', 'be', 'fully', 'understood,', 'let', 'us', 'examine', 'the', 'physical', 'development', 'of', 'man', 'and', 'woman', 'in', 'detail,', 'particularizing', 'the', 'different', 'organs', 'of', 'the', 'body', 'as', 'they', 'appear', 'in', 'their', 'order', 'of', 'formation,', 'from', 'the', 'very', 'inmost', 'or', 'beginning,', 'to', 'the', 'ultimate', 'or', 'end,', 'in', 'their', 'respective', 'natures.']), (0.015431078145540341, ['At', 'this', 'period', 'the', 'white', 'and', 'grey', 'matter', 'of', 'the', 'brain', 'are', 'distinct,', 'and', 'the', 'convolutions', 'are', 'well', 'marked;', 'the', 'nails', 'assume', 'a', 'horny', 'consistence,', 'hair', 'upon', 'the', 'head', 'is', 'more', 'or', 'less', 'abundant,', 'the', 'testes', 'are', 'in', 'the', 'scrotum,', 'and', 'the', 'entire', 'external', 'genital', 'organs', 'of', 'both', 'male', 'and', 'female', 'are', 'well', 'formed.']), (0.015229301520945659, ['At', 'the', 'end', 'of', 'the', '_eighth', 'month_', 'the', 'foetus', 'seems', 'to', 'thicken', 'up', 'rather', 'than', 'to', 'increase', 'in', 'length,', 'since', 'it', 'is', 'only', 'from', 'sixteen', 'to', 'eighteen', 'inches', 'long', 'while', 'its', 'weight', 'increases', 'from', 'four', 'to', 'five', 'pounds.']), (0.014996249304033493, ['At', 'about', 'this', 'period', 'the', 'sexual', 'organs', 'show', 'their', 'development', 'as', 'follows:', 'On', 'each', 'side', 'of', 'the', 'urinary', 'locality', 'an', 'oblong', 'fold', 'becomes', 'distinguishable;', 'in', 'course', 'of', 'progress', 'if', 'these', 'folds', 'remain', 'separate,', 'a', 'little', 'tubercle', 'forms', 'in', 'the', 'anterior', 'commissure', 'which', 'becomes', 'the', 'clitoris;', 'the', 'nymphae', 'develop,', 'the', 'urethra', 'forms', 'between', 'them,', 'and', 'the', 'female', 'sex', 'is', 'determined.']), (0.014917415127321584, ['Till', 'about', 'this', 'time', 'a', 'straight', 'artery', 'has', 'been', 'observed', 'to', 'beat', 'with', 'the', 'regularity', 'of', 'the', 'pulse;', 'but', 'now', 'it', 'appears', 'doubled', 'somewhat', 'into', 'the', 'shape', 'of', 'an', 'adult', 'heart,', 'although', 'as', 'yet', 'it', 'has', 'but', 'one', 'auricle', 'and', 'one', 'ventricle.']), (0.014766734171273893, ['The', 'body', 'is', 'from', 'six', 'to', 'eight', 'inches', 'in', 'length', 'and', 'weighs', 'six', 'or', 'seven', 'ounces.']), (0.014292098916295251, ['The', 'foetus', 'is', 'from', 'nineteen', 'to', 'twenty-three', 'inches', 'in', 'length', 'and', 'weighs', 'on', 'an', 'average', 'from', 'six', 'to', 'eight', 'pounds.']), (0.014283992952835107, ['The', 'embryo', 'at', 'this', 'stage', 'is', 'nearly', 'two-thirds', 'of', 'an', 'inch', 'in', 'length', 'and', 'weighs', 'about', 'fifteen', 'grains.']), (0.01418970360687059, ['The', 'kidneys', 'now', 'begin', 'to', 'be', 'formed,', 'and', 'a', 'little', 'later', 'the', 'genital', 'organs.']), (0.0139324761564296, ['The', 'eyes', 'are', 'now', 'closed', 'by', 'their', 'lids,', 'the', 'nostrils', 'are', 'well-formed,', 'the', 'mouth', 'is', 'shut', 'in', 'by', 'the', 'lips', 'and', 'the', 'sex', 'is', 'still', 'more', 'sharply', 'defined.']), (0.013658403059865425, ['The', 'lower', 'jaw', 'has', 'now', 'become', 'as', 'long', 'as', 'the', 'upper', 'one,', 'and', 'in', 'the', 'male', 'the', 'left', 'testicle', 'may', 'be', 'found', 'in', 'the', 'scrotum.']), (0.013430966605526503, ['As', 'time', 'advances', 'we', 'find', 'the', 'perfect', 'heart', 'with', 'its', 'two', 'ventricles', 'and', 'two', 'auricles,', 'all', 'developed', 'from', 'the', 'original', 'straight', 'artery.']), (0.013250943932344932, ['At', 'about', 'the', '_seventh', 'week_', 'a', 'little', 'bony', 'deposit', 'is', 'found', 'in', 'the', 'lower', 'jaw.']), (0.013114664057757876, ['The', 'head', 'is', 'very', 'large', 'in', 'proportion', 'to', 'the', 'rest', 'of', 'the', 'body,', 'the', 'eyes', 'are', 'represented', 'by', 'two', 'black', 'spots,', 'and', 'the', 'upper', 'extremities', 'by', 'small', 'protuberances', 'on', 'the', 'sides', 'of', 'the', 'trunk.']), (0.012906379860648349, ['At', 'the', 'end', 'of', 'the', '_fourth', 'month_', 'the', 'product', 'of', 'conception', 'is', 'no', 'longer', 'called', 'an', 'embryo,', 'but', 'a', 'foetus.']), (0.012859065140899134, ['If,', 'on', 'the', 'other', 'hand,', 'these', 'folds', 'unite', 'into', 'a', 'rounded', 'projection', 'the', 'scrotum', 'is', 'formed,', 'the', 'little', 'tubercle', 'above', 'becomes', 'the', 'penis', 'and', 'hence', 'the', 'male', 'sex.']), (0.012594128948240758, ['The', 'movements', 'of', 'the', 'foetus', 'are', 'by', 'this', 'time', 'plainly', 'felt', 'by', 'the', 'mother,', 'and', 'if', 'born', 'at', 'this', 'time', 'it', 'may', 'live', 'several', 'months.']), (0.012192489289768044, ['The', 'skin', 'has', 'a', 'fairer', 'appearance', 'and', 'more', 'consistence;', 'the', 'eyes', 'can', 'no', 'longer', 'be', 'distinguished', 'through', 'the', 'lids,', 'owing', 'to', 'the', 'increased', 'thickness', 'of', 'the', 'latter.']), (0.012173278648695742, ['At', 'this', 'period', 'the', 'lungs', 'appear', 'to', 'exist', 'in', 'five', 'or', 'six', 'different', 'lobes', 'and', 'we', 'can', 'barely', 'distinguish', 'the', 'bronchial', 'tubes;', 'about', 'the', 'same', 'time', 'the', 'ears', 'and', 'face', 'are', 'distinctly', 'outlined,', 'and', 'after', 'awhile', 'the', 'nose', 'is', 'also', 'faintly', 'and', 'imperfectly', 'perceived.']), (0.012049900074810507, ['The', 'sex', 'can', 'now', 'be', 'fully', 'determined.']), (0.01200648522552406, ['All', 'individual', 'substances,', 'or', 'beings,', 'that', 'come', 'to', 'our', 'notice', 'bear', 'certain', 'relations', 'to', 'one', 'another,', 'have', 'connection', 'one', 'with', 'another,', 'and', 'are', 'dependent', 'upon', 'and', 'useful', 'to', 'each', 'other;', 'and', 'nothing', 'could', 'possibly', 'exist', 'or', 'subsist', 'without', 'this', 'co-relation:', 'connection', 'with', 'and', 'use', 'to', 'each', 'other.']), (0.011870625265445378, ['The', 'nails', 'are', 'solid,', 'the', 'scrotum', 'small', 'and', 'empty,', 'the', 'surface', 'of', 'the', 'skin', 'appears', 'wrinkled', 'but', 'the', 'dermis', 'may', 'be', 'distinguished', 'from', 'the', 'epidermis.']), (0.011846592195577255, ['Soon', 'now', 'the', 'embryo', '(for', 'such', 'it', 'is', 'called', 'at', 'this', 'early', 'stage)', 'begins', 'to', 'assume', 'form.']), (0.011766071684901598, ['The', 'hair', 'upon', 'the', 'scalp', 'is', 'thicker', 'and', 'longer,', 'the', 'eyes', 'remain', 'closed,', 'and', 'very', 'delicate', 'hairs', 'may', 'be', 'seen', 'upon', 'the', 'margins', 'of', 'the', 'eye-lids', 'and', 'upon', 'the', 'eye-brows.']), (0.011650580745132318, ['This', 'is', 'a', 'law', 'which', 'needs', 'only', 'a', 'little', 'reflection', 'to', 'be', 'accepted', 'as', 'a', 'truth', 'in', 'every', 'particular--in', 'the', 'greatest', 'as', 'well', 'as', 'in', 'the', 'least', 'created', 'form.']), (0.011325613442934802, ['The', 'development', 'of', 'the', 'face', 'is', 'still', 'imperfect.']), (0.011293051503903785, ['The', 'first', 'indication', 'of', 'formation', 'that', 'it', 'is', 'possible', 'to', 'discover,', 'even', 'by', 'the', 'help', 'of', 'the', 'microscope,', 'consists', 'of', 'an', 'oblong', 'figure,', 'obtuse', 'at', 'one', 'extremity,', 'swollen', 'in', 'the', 'middle,', 'blunt-pointed', 'at', 'the', 'other', 'extremity.']), (0.011178171945436511, ['A', 'few', 'little', 'white', 'hairs', 'are', 'seen', 'scattered', 'over', 'the', 'scalp.']), (0.011112111548905502, ['So', 'much', 'can', 'be', 'observed', 'about', 'the', 'end', 'of', 'the', 'third', 'week', 'after', 'conception.']), (0.011080455715372911, ['At', 'about', 'the', '_fifth', 'week_', 'the', 'embryo', 'presents', 'more', 'distinctions.']), (0.010955658813945444, ['The', 'testicles', 'forming', 'within', 'the', 'body,', 'descend', 'later', 'into', 'the', 'scrotum,', 'and', 'organs', 'similar', 'to', 'them,', 'their', 'counterparts,', 'form', 'in', 'the', 'female', 'and', 'are', 'called', 'ovaries.']), (0.010648010414491373, ['Convolutions', 'appear', 'in', 'the', 'brain', 'structure.']), (0.010579975664195473, ['The', 'sex', 'cannot', 'yet', 'be', 'determined.']), (0.010312350728155815, ['The', 'nose', 'forms', 'an', 'obtuse', 'eminence,', 'the', 'nostrils', 'are', 'rounded', 'and', 'separated,', 'the', 'mouth', 'is', 'gaping', 'and', 'the', 'epidermis', 'can', 'be', 'distinguished', 'from', 'the', 'true', 'skin.']), (0.010136629579289545, ['The', 'eyes', 'are', 'discernible,', 'but', 'still', 'uncovered', 'by', 'the', 'rudimentary', 'lids.']), (0.009877600148783514, ['The', 'head,', 'heart', 'and', 'kidneys', 'are', 'large', 'and', 'well', 'developed.']), (0.009254017418388738, ['The', 'liver', 'is', 'large', 'and', 'red,', 'and', 'the', 'gall-bladder', 'contains', 'fluid.']), (0.009173714362787685, ['When', 'the', 'latter', 'development', 'has', 'been', 'attained,', 'if', 'due', 'care', 'has', 'been', 'taken', 'by', 'all', 'interested', 'parties,', 'we', 'have', 'pure', 'men', 'and', 'pure', 'women', 'fitted', 'to', 'enter', 'upon', 'the', 'privileges', 'and', 'the', '_uses_', 'of', 'a', 'wedded', 'life', 'according', 'to', 'the', 'design', 'of', 'our', 'Creator.']), (0.009128568642575078, ['The', 'fingers', 'become', 'distinct', 'and', 'the', 'toes', 'appear', 'as', 'small', 'projections', 'webbed', 'together', 'like', 'a', \"frog's\", 'foot.']), (0.009094864649303753, ['The', 'skin', 'is', 'red,', 'and', 'characterized', 'at', 'this', 'period', 'by', 'a', 'fine', 'downy', 'covering,', 'over', 'which', 'is', 'spread', 'a', 'quantity', 'of', 'thick', 'viscous', 'matter,', 'called', 'the', 'sebaceous', 'coat,', 'which', 'has', 'been', 'forming', 'since', 'the', 'latter', 'part', 'of', 'the', 'fifth', 'month.']), (0.009039565060572642, ['The', 'finger', 'nails', 'resemble', 'thin', 'membranous', 'plates,', 'the', 'skin', 'shows', 'more', 'firmness,', 'but', 'is', 'still', 'rosy-hued,', 'thin', 'and', 'transparent.']), (0.009013628311209271, ['So', 'each', 'and', 'every', 'organ', 'is', 'developed', 'in', 'its', 'proper', 'order,', 'all', 'to', 'obey', 'the', 'commands', 'of', 'the', 'first', 'and', 'most', 'important--the', 'brain,', 'the', 'seat', 'of', 'the', 'reason', 'and', 'the', 'will.']), (0.00878448944337314, ['This', 'is', 'more', 'plainly', 'seen', 'in', 'the', 'animal', 'kingdom', 'than', 'in', 'the', 'mineral', 'or', 'vegetable,', 'because', 'its', 'members', 'associate', 'and', 'finally', 'become', 'conjoined', 'in', 'pairs.']), (0.00874055474829548, ['Happy', 'are', 'they', 'of', 'either', 'sex', 'who', 'will', 'govern', 'themselves', 'by', 'a', 'pure', 'enlightened', 'reason', 'and', 'a', 'pure', 'affectionate', 'will.']), (0.008706400856819715, ['Ever', 'since', 'the', 'primal', 'creation', 'of', 'man', 'and', 'woman,', 'the', 'human', 'race', 'has', 'been', 'perpetuated', 'by', 'a', 'series', 'of', 'births.']), (0.008389328896908157, ['The', 'skin', 'is', 'much', 'firmer', 'and', 'red.']), (0.0083831691068947, ['The', 'walls', 'of', 'the', 'chest', 'are', 'more', 'completely', 'formed,', 'so', 'that', 'it', 'is', 'no', 'longer', 'possible', 'to', 'see', 'the', 'movements', 'of', 'the', 'heart.']), (0.008343678473157153, ['The', 'bones', 'of', 'the', 'cranium,', 'hitherto', 'quite', 'flat,', 'now', 'appear', 'a', 'little', 'arched,', 'and', 'as', 'the', 'process', 'of', 'ossification', 'goes', 'on,', 'the', 'arching', 'increases', 'till', 'the', 'vault', 'is', 'quite', 'complete.']), (0.00832773610626495, ['It', 'is', 'the', 'first', 'organ', 'formed', 'and', 'in', 'an', 'orderly', 'life', 'should', 'control', 'all', 'the', 'others.']), (0.008271340243304616, ['At', '_two', 'months_', 'the', 'rudiments', 'of', 'the', 'extremities', 'become', 'more', 'prominent.']), (0.008134904227708468, ['Here', 'it', 'begins', 'to', 'mature', 'and', 'become', 'fitted', 'for', 'its', 'birth', 'into', 'the', 'outer', 'world.']), (0.008119740481584925, ['How', 'wonderfully', 'and', 'how', 'instructively', 'are', 'all', 'organs', 'in', 'the', 'animal', 'body', 'disposed', 'and', 'arranged!']), (0.007528207704636205, ['This', 'principle,', 'fully', 'carried', 'out,', 'justifies', 'and', 'shows', 'the', 'necessity', 'for', 'the', 'creation', 'of', 'man', 'and', 'woman', 'precisely', 'as', 'they', 'are,', 'having', 'bodies,', 'parts', 'and', 'passions,', 'will', 'and', 'understanding.']), (0.007524140860084401, ['It', 'is', 'my', 'intention', 'in', 'the', 'following', 'pages', 'to', 'explain', 'the', 'relations', 'existing', 'between', 'the', 'sexes,', 'for', 'the', 'purpose', 'of', 'showing', 'that', 'the', 'greatest', 'happiness', 'to', 'the', 'human', 'race', 'will', 'be', 'found', 'in', 'living', 'a', 'life', 'in', 'full', 'accord', 'with', 'these', 'relations.']), (0.007417417617284678, ['The', 'brain', 'presents', 'greater', 'firmness,', 'and', 'the', 'eye-lids', 'are', 'opened.']), (0.007382132151607201, ['These', 'ovaries', 'are', 'found', 'attached', 'to', 'an', 'organ', 'called', 'the', 'womb,', 'and', 'this', 'again', 'is', 'united', 'with', 'the', 'vagina,', 'which', 'leads', 'downwards', 'and', 'outwards', 'between', 'the', 'labia', 'majora.']), (0.007243814733021491, ['[A]', '[A]', 'For', 'fuller', 'particulars', 'see', \"Guernsey's\", 'Obstetrics,', '3d', 'edition,', 'pages', '79-89,', 'inclusive.']), (0.007234539238154099, ['It', 'is', 'about', 'twelve', 'days', 'after', 'conception', 'before', 'the', 'impregnated', 'ovule,', 'which', 'undergoes', 'many', 'changes', 'during', 'this', 'time,', 'makes', 'its', 'escape', 'from', 'the', 'ovary', 'where', 'it', 'became', 'impregnated', 'and', 'enters', 'one', 'of', 'the', 'Fallopian', 'tubes,', 'thence', 'gradually', 'descending', 'into', 'the', 'cavity', 'of', 'the', 'womb.']), (0.0069761520789751105, ['[B]', '[B]', 'For', 'fuller', 'particulars', 'see', \"Guernsey's\", 'Obstetrics.']), (0.006915381797655012, ['Next', 'in', 'order', 'and', 'importance', 'are', 'the', 'heart', 'and', 'lungs,', 'which', 'put', 'into', 'motion', 'all', 'other', 'parts', 'and', 'enable', 'the', 'animal', 'frame', 'to', 'continue', 'in', 'motion.']), (0.00669835398322942, ['A', 'boy', 'is', 'a', 'boy', 'to', 'all', 'intents', 'and', 'purposes', 'from', 'his', 'very', 'conception,', 'from', 'the', 'very', 'earliest', 'moment', 'of', 'his', 'being;', 'begotten', 'by', 'his', 'father', 'he', 'is', 'a', 'boy', 'in', 'embryo', 'within', 'the', 'ovule', 'of', 'his', 'mother.']), (0.006665377190784409, ['In', 'the', 'highest', 'place', 'we', 'find', 'the', 'brain', 'to', 'govern', 'and', 'rule', 'over', 'all', 'below.']), (0.006522859003940004, ['At', '_nine', 'months_', 'the', 'anxious', 'time', 'of', 'parturition', 'has', 'arrived.']), (0.006512678989666963, ['The', 'gall-bladder', 'contains', 'bile.']), (0.006404048717556274, ['Children', 'at', 'birth', 'sometimes', 'weigh', 'as', 'much', 'as', 'fourteen', 'pounds;', 'but', 'such', 'extremes', 'are', 'very', 'rare.']), (0.006226509501452223, ['A', 'slight', 'depression', 'representing', 'the', 'neck,', 'enables', 'us', 'to', 'distinguish', 'the', 'head;', 'the', 'body', 'is', 'marked', 'by', 'a', 'swollen', 'centre,', 'but', 'there', 'are', 'as', 'yet', 'no', 'traces', 'of', 'the', 'extremities.']), (0.005031474246730828, ['Children', 'have', 'been', 'conceived', 'in', 'harmony', 'with', 'the', 'natural', 'order', 'of', 'events,', 'in', 'such', 'matters,', 'and', 'have', 'been', 'born', 'boys', 'and', 'girls.']), (0.004871391725573872, ['In', 'the', 'creation', 'of', 'the', 'world', 'and', 'all', 'that', 'therein', 'is,', 'we', 'should', 'consider', 'it', 'an', 'axiom', 'that', '\"Everything', 'was', 'created', 'for', 'use.\"']), (0.004373007408718038, ['First', 'must', 'be', 'the', '_esse_', '(the', 'inmost)', 'the', 'vital', 'force', 'imparted', 'to', 'the', 'ovule.']), (0.003715943420850985, ['The', 'converse', 'is', 'true', 'of', 'the', 'opposite', 'sex.']), (0.0035453689533062977, ['The', 'forearm', 'and', 'hand', 'can', 'be', 'distinguished', 'but', 'not', 'the', 'arm', 'above', 'the', 'elbow;', 'the', 'hand', 'is', 'larger', 'than', 'the', 'forearm,', 'but', 'is', 'not', 'supplied', 'with', 'fingers.']), (0.0017381228273464662, ['Introductory.']), (0.0017381228273464662, ['CHAPTER', 'I.'])]\n"
     ]
    }
   ],
   "source": [
    "stop_words = stopwords.words('english')\n",
    "# print(stop_words)\n",
    "summarize_text = []\n",
    "# new_sentences = doc_lemmed\n",
    "        \n",
    "# Step 2 - Generate Similarity Matrix across sentences\n",
    "sentence_similarity_matrix = build_similarity_matrix(new_sentences, stop_words)\n",
    "\n",
    "# Step 3 - Rank sentences in similarity matrix\n",
    "sentence_similarity_graph = nx.from_numpy_array(sentence_similarity_matrix)\n",
    "scores = nx.pagerank(sentence_similarity_graph)\n",
    "# print(sentence_similarity_graph)\n",
    "# print(scores)\n",
    "\n",
    "# for i,s in enumerate(sentences):\n",
    "#     print(scores[i],s)\n",
    "\n",
    "# Step 4 - Sort the rank and pick top sentences\n",
    "ranked_sentence = sorted(((scores[i],s) for i,s in enumerate(new_sentences)), reverse=True)    \n",
    "print(\"Indexes of top ranked_sentence order are \", ranked_sentence)\n"
   ]
  },
  {
   "cell_type": "code",
   "execution_count": 15,
   "id": "a1b7d216",
   "metadata": {
    "scrolled": true
   },
   "outputs": [
    {
     "name": "stdout",
     "output_type": "stream",
     "text": [
      "Summarize Text: \n",
      " The length of the embryo is from one inch and a half to two inches, and it weighs from three to five drachms. At _ten weeks_ the embryo is from one and a half to two and a half inches long, and its weight is from one ounce to an ounce and a half, the eyelids are more developed and descend in front of the eyes; the mouth begins to be closed by the development of the lips. First the vestige of a head and body, a little later the heart and lungs appear lying in the open chest; then the hands are protruded from the sides of the trunk, afterwards the forearms, then the arms, all pushed out from the body; the feet and legs gradually protrude from the lower end of the trunk, and the chest closes up so that the heart and lungs can no longer be seen; the face, mouth and eyes take form, the external genital organs make their appearance in conjunction with other developments, and in due course of time the boy or girl is born ready for further developments in childhood, and adolescence.\n"
     ]
    }
   ],
   "source": [
    "# number of sentences to combine\n",
    "summarize_text=[]\n",
    "for i in range(3):\n",
    "    summarize_text.append(\" \".join(ranked_sentence[i][1]))\n",
    "    # Step 5 - Offcourse, output the summarize text\n",
    "print(\"Summarize Text: \\n\", \". \".join(summarize_text).replace('..', '.'))"
   ]
  },
  {
   "cell_type": "markdown",
   "id": "f2994a30",
   "metadata": {},
   "source": [
    "## Model 3 - Google's T5"
   ]
  },
  {
   "cell_type": "code",
   "execution_count": 16,
   "id": "de8e85a7",
   "metadata": {},
   "outputs": [],
   "source": [
    "# conda install -c pytorch pytorch\n",
    "# !pip install transformers datasets"
   ]
  },
  {
   "cell_type": "code",
   "execution_count": 17,
   "id": "17228bd0",
   "metadata": {},
   "outputs": [],
   "source": [
    "import torch\n",
    "import transformers\n",
    "from transformers import AutoTokenizer,AutoModelWithLMHead"
   ]
  },
  {
   "cell_type": "code",
   "execution_count": 18,
   "id": "a43923a4",
   "metadata": {},
   "outputs": [],
   "source": [
    "#Instantiate the tokenizer\n",
    "tokenizer = AutoTokenizer.from_pretrained('t5-base')\n",
    "model = AutoModelWithLMHead.from_pretrained('t5-base', return_dict=True)"
   ]
  },
  {
   "cell_type": "code",
   "execution_count": 19,
   "id": "7f1b35d7",
   "metadata": {},
   "outputs": [
    {
     "name": "stdout",
     "output_type": "stream",
     "text": [
      "<pad> sally kohn: in the creation of the world, we should consider it an axiom that \"Everything was created for use\" kohn: nothing could possibly exist or subsist without this co-relation. kohn: man and woman were and are still created to associate in pairs. kohn: the greatest happiness to the human race will be found in living a life in accordance.</s>\n"
     ]
    }
   ],
   "source": [
    "#there is a need to add a prefix summarize: before the input text so that T5 understands the task \n",
    "inputs = tokenizer.encode(\"summarize: \" + book_texts[selected_chap],\n",
    "                          return_tensors='pt',\n",
    "                          max_length=512,\n",
    "                          truncation=True)\n",
    "#Summarse tokenised data using T5 via model.generate\n",
    "#num_beams : the number of different possible sequences considered at each generation step. the higher the value, the better the quality of generated text, at the expense of computation time\n",
    "summary_ids = model.generate(inputs, max_length=200, min_length=80, length_penalty=5., num_beams=2)\n",
    "#decode summary tokens back into a human-readable language using tokenizer.decode\n",
    "summary = tokenizer.decode(summary_ids[0])\n",
    "# print(f\"{chap}'s summary: \")\n",
    "print(summary)"
   ]
  }
 ],
 "metadata": {
  "kernelspec": {
   "display_name": "Python 3",
   "language": "python",
   "name": "python3"
  },
  "language_info": {
   "codemirror_mode": {
    "name": "ipython",
    "version": 3
   },
   "file_extension": ".py",
   "mimetype": "text/x-python",
   "name": "python",
   "nbconvert_exporter": "python",
   "pygments_lexer": "ipython3",
   "version": "3.7.6"
  }
 },
 "nbformat": 4,
 "nbformat_minor": 5
}
