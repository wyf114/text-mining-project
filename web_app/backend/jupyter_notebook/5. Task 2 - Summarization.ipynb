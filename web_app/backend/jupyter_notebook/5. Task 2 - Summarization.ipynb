{
 "cells": [
  {
   "cell_type": "markdown",
   "id": "a567a1c0",
   "metadata": {},
   "source": [
    "# Extractive Summarization\n",
    "\n",
    "Attempt to summarize articles by selecting a subset of words that retain the most important points. Weights the important part of sentences and uses the same to form the summary."
   ]
  },
  {
   "cell_type": "code",
   "execution_count": 25,
   "id": "dbb13ba7",
   "metadata": {
    "scrolled": true
   },
   "outputs": [],
   "source": [
    "import gensim\n",
    "from gensim import corpora\n",
    "from gensim import similarities\n",
    "from gensim import models\n",
    "from gensim.models import CoherenceModel\n",
    "\n",
    "import preprocess\n",
    "import os\n",
    "import re\n",
    "\n",
    "import nltk\n",
    "from nltk.corpus import stopwords\n",
    "from nltk.tokenize import sent_tokenize\n",
    "from nltk.tokenize import word_tokenize\n",
    "from nltk import pos_tag\n",
    "from nltk.stem import WordNetLemmatizer\n",
    "from nltk.cluster.util import cosine_distance\n",
    "\n",
    "import numpy as np\n",
    "import networkx as nx"
   ]
  },
  {
   "cell_type": "markdown",
   "id": "4be705c2",
   "metadata": {},
   "source": [
    "##  Extract Data"
   ]
  },
  {
   "cell_type": "code",
   "execution_count": 26,
   "id": "ba0f4fef",
   "metadata": {
    "scrolled": true
   },
   "outputs": [],
   "source": [
    "# Define the directory where the books are located\n",
    "# 5827, 31671\n",
    "books_directory = \"Data/Test/Chapters/5827\"\n",
    "\n",
    "# Create a list to store the text data of each book\n",
    "book_texts = []\n",
    "chapters_name = []\n",
    "\n",
    "# Loop through each file in the directory\n",
    "for filename in os.listdir(books_directory):\n",
    "    if filename.endswith('.txt'):\n",
    "        with open(os.path.join(books_directory, filename), \"r\", encoding=\"utf8\", errors='ignore') as file:\n",
    "            book_text = file.read()\n",
    "            book_texts.append(book_text)\n",
    "            chapters_name.append(filename.replace('.txt',''))"
   ]
  },
  {
   "cell_type": "code",
   "execution_count": 27,
   "id": "0c572d1c",
   "metadata": {},
   "outputs": [
    {
     "data": {
      "text/plain": [
       "['CHAPTER_III__THE_NATURE_OF_MATTER',\n",
       " 'CHAPTER_II__THE_EXISTENCE_OF_MATTER',\n",
       " 'CHAPTER_IV__IDEALISM',\n",
       " 'CHAPTER_IX__THE_WORLD_OF_UNIVERSALS',\n",
       " 'CHAPTER_I__APPEARANCE_AND_REALITY',\n",
       " 'CHAPTER_VIII__HOW__A_PRIORI__KNOWLEDGE_IS_POSSIBLE',\n",
       " 'CHAPTER_VII__ON_OUR_KNOWLEDGE_OF_GENERAL_PRINCIPLES',\n",
       " 'CHAPTER_VI__ON_INDUCTION',\n",
       " 'CHAPTER_V__KNOWLEDGE_BY_ACQUAINTANCE_AND_KNOWLEDGE_BY_DESCRIPTION',\n",
       " 'CHAPTER_XIII__KNOWLEDGE,_ERROR,_AND_PROBABLE_OPINION',\n",
       " 'CHAPTER_XII__TRUTH_AND_FALSEHOOD',\n",
       " 'CHAPTER_XIV__THE_LIMITS_OF_PHILOSOPHICAL_KNOWLEDGE',\n",
       " 'CHAPTER_XI__ON_INTUITIVE_KNOWLEDGE',\n",
       " 'CHAPTER_X__ON_OUR_KNOWLEDGE_OF_UNIVERSALS']"
      ]
     },
     "execution_count": 27,
     "metadata": {},
     "output_type": "execute_result"
    }
   ],
   "source": [
    "chapters_name"
   ]
  },
  {
   "cell_type": "code",
   "execution_count": 28,
   "id": "7f86d9ab",
   "metadata": {},
   "outputs": [],
   "source": [
    "selected_chap = 4\n",
    "sentences = nltk.sent_tokenize(book_texts[selected_chap])"
   ]
  },
  {
   "cell_type": "markdown",
   "id": "b74e1ea7",
   "metadata": {},
   "source": [
    "## Model 1 - Using Sentence Similarity"
   ]
  },
  {
   "cell_type": "code",
   "execution_count": 29,
   "id": "70b87284",
   "metadata": {},
   "outputs": [],
   "source": [
    "book_sentences = []\n",
    "for sen in sentences:\n",
    "    cleaned_sen = sen.replace(\"\\n\", \" \")\n",
    "    book_sentences.append(cleaned_sen.split(\" \"))"
   ]
  },
  {
   "cell_type": "code",
   "execution_count": 30,
   "id": "cb82bc3c",
   "metadata": {
    "scrolled": true
   },
   "outputs": [
    {
     "name": "stdout",
     "output_type": "stream",
     "text": [
      "[['CHAPTER', 'I.'], ['APPEARANCE', 'AND', 'REALITY', 'Is', 'there', 'any', 'knowledge', 'in', 'the', 'world', 'which', 'is', 'so', 'certain', 'that', 'no', 'reasonable', 'man', 'could', 'doubt', 'it?'], ['This', 'question,', 'which', 'at', 'first', 'sight', 'might', 'not', 'seem', 'difficult,', 'is', 'really', 'one', 'of', 'the', 'most', 'difficult', 'that', 'can', 'be', 'asked.'], ['When', 'we', 'have', 'realized', 'the', 'obstacles', 'in', 'the', 'way', 'of', 'a', 'straightforward', 'and', 'confident', 'answer,', 'we', 'shall', 'be', 'well', 'launched', 'on', 'the', 'study', 'of', 'philosophy--for', 'philosophy', 'is', 'merely', 'the', 'attempt', 'to', 'answer', 'such', 'ultimate', 'questions,', 'not', 'carelessly', 'and', 'dogmatically,', 'as', 'we', 'do', 'in', 'ordinary', 'life', 'and', 'even', 'in', 'the', 'sciences,', 'but', 'critically,', 'after', 'exploring', 'all', 'that', 'makes', 'such', 'questions', 'puzzling,', 'and', 'after', 'realizing', 'all', 'the', 'vagueness', 'and', 'confusion', 'that', 'underlie', 'our', 'ordinary', 'ideas.'], ['In', 'daily', 'life,', 'we', 'assume', 'as', 'certain', 'many', 'things', 'which,', 'on', 'a', 'closer', 'scrutiny,', 'are', 'found', 'to', 'be', 'so', 'full', 'of', 'apparent', 'contradictions', 'that', 'only', 'a', 'great', 'amount', 'of', 'thought', 'enables', 'us', 'to', 'know', 'what', 'it', 'is', 'that', 'we', 'really', 'may', 'believe.'], ['In', 'the', 'search', 'for', 'certainty,', 'it', 'is', 'natural', 'to', 'begin', 'with', 'our', 'present', 'experiences,', 'and', 'in', 'some', 'sense,', 'no', 'doubt,', 'knowledge', 'is', 'to', 'be', 'derived', 'from', 'them.'], ['But', 'any', 'statement', 'as', 'to', 'what', 'it', 'is', 'that', 'our', 'immediate', 'experiences', 'make', 'us', 'know', 'is', 'very', 'likely', 'to', 'be', 'wrong.'], ['It', 'seems', 'to', 'me', 'that', 'I', 'am', 'now', 'sitting', 'in', 'a', 'chair,', 'at', 'a', 'table', 'of', 'a', 'certain', 'shape,', 'on', 'which', 'I', 'see', 'sheets', 'of', 'paper', 'with', 'writing', 'or', 'print.'], ['By', 'turning', 'my', 'head', 'I', 'see', 'out', 'of', 'the', 'window', 'buildings', 'and', 'clouds', 'and', 'the', 'sun.'], ['I', 'believe', 'that', 'the', 'sun', 'is', 'about', 'ninety-three', 'million', 'miles', 'from', 'the', 'earth;', 'that', 'it', 'is', 'a', 'hot', 'globe', 'many', 'times', 'bigger', 'than', 'the', 'earth;', 'that,', 'owing', 'to', 'the', \"earth's\", 'rotation,', 'it', 'rises', 'every', 'morning,', 'and', 'will', 'continue', 'to', 'do', 'so', 'for', 'an', 'indefinite', 'time', 'in', 'the', 'future.'], ['I', 'believe', 'that,', 'if', 'any', 'other', 'normal', 'person', 'comes', 'into', 'my', 'room,', 'he', 'will', 'see', 'the', 'same', 'chairs', 'and', 'tables', 'and', 'books', 'and', 'papers', 'as', 'I', 'see,', 'and', 'that', 'the', 'table', 'which', 'I', 'see', 'is', 'the', 'same', 'as', 'the', 'table', 'which', 'I', 'feel', 'pressing', 'against', 'my', 'arm.'], ['All', 'this', 'seems', 'to', 'be', 'so', 'evident', 'as', 'to', 'be', 'hardly', 'worth', 'stating,', 'except', 'in', 'answer', 'to', 'a', 'man', 'who', 'doubts', 'whether', 'I', 'know', 'anything.'], ['Yet', 'all', 'this', 'may', 'be', 'reasonably', 'doubted,', 'and', 'all', 'of', 'it', 'requires', 'much', 'careful', 'discussion', 'before', 'we', 'can', 'be', 'sure', 'that', 'we', 'have', 'stated', 'it', 'in', 'a', 'form', 'that', 'is', 'wholly', 'true.'], ['To', 'make', 'our', 'difficulties', 'plain,', 'let', 'us', 'concentrate', 'attention', 'on', 'the', 'table.'], ['To', 'the', 'eye', 'it', 'is', 'oblong,', 'brown', 'and', 'shiny,', 'to', 'the', 'touch', 'it', 'is', 'smooth', 'and', 'cool', 'and', 'hard;', 'when', 'I', 'tap', 'it,', 'it', 'gives', 'out', 'a', 'wooden', 'sound.'], ['Any', 'one', 'else', 'who', 'sees', 'and', 'feels', 'and', 'hears', 'the', 'table', 'will', 'agree', 'with', 'this', 'description,', 'so', 'that', 'it', 'might', 'seem', 'as', 'if', 'no', 'difficulty', 'would', 'arise;', 'but', 'as', 'soon', 'as', 'we', 'try', 'to', 'be', 'more', 'precise', 'our', 'troubles', 'begin.'], ['Although', 'I', 'believe', 'that', 'the', 'table', 'is', \"'really'\", 'of', 'the', 'same', 'colour', 'all', 'over,', 'the', 'parts', 'that', 'reflect', 'the', 'light', 'look', 'much', 'brighter', 'than', 'the', 'other', 'parts,', 'and', 'some', 'parts', 'look', 'white', 'because', 'of', 'reflected', 'light.'], ['I', 'know', 'that,', 'if', 'I', 'move,', 'the', 'parts', 'that', 'reflect', 'the', 'light', 'will', 'be', 'different,', 'so', 'that', 'the', 'apparent', 'distribution', 'of', 'colours', 'on', 'the', 'table', 'will', 'change.'], ['It', 'follows', 'that', 'if', 'several', 'people', 'are', 'looking', 'at', 'the', 'table', 'at', 'the', 'same', 'moment,', 'no', 'two', 'of', 'them', 'will', 'see', 'exactly', 'the', 'same', 'distribution', 'of', 'colours,', 'because', 'no', 'two', 'can', 'see', 'it', 'from', 'exactly', 'the', 'same', 'point', 'of', 'view,', 'and', 'any', 'change', 'in', 'the', 'point', 'of', 'view', 'makes', 'some', 'change', 'in', 'the', 'way', 'the', 'light', 'is', 'reflected.'], ['For', 'most', 'practical', 'purposes', 'these', 'differences', 'are', 'unimportant,', 'but', 'to', 'the', 'painter', 'they', 'are', 'all-important:', 'the', 'painter', 'has', 'to', 'unlearn', 'the', 'habit', 'of', 'thinking', 'that', 'things', 'seem', 'to', 'have', 'the', 'colour', 'which', 'common', 'sense', 'says', 'they', \"'really'\", 'have,', 'and', 'to', 'learn', 'the', 'habit', 'of', 'seeing', 'things', 'as', 'they', 'appear.'], ['Here', 'we', 'have', 'already', 'the', 'beginning', 'of', 'one', 'of', 'the', 'distinctions', 'that', 'cause', 'most', 'trouble', 'in', 'philosophy--the', 'distinction', 'between', \"'appearance'\", 'and', \"'reality',\", 'between', 'what', 'things', 'seem', 'to', 'be', 'and', 'what', 'they', 'are.'], ['The', 'painter', 'wants', 'to', 'know', 'what', 'things', 'seem', 'to', 'be,', 'the', 'practical', 'man', 'and', 'the', 'philosopher', 'want', 'to', 'know', 'what', 'they', 'are;', 'but', 'the', \"philosopher's\", 'wish', 'to', 'know', 'this', 'is', 'stronger', 'than', 'the', 'practical', \"man's,\", 'and', 'is', 'more', 'troubled', 'by', 'knowledge', 'as', 'to', 'the', 'difficulties', 'of', 'answering', 'the', 'question.'], ['To', 'return', 'to', 'the', 'table.'], ['It', 'is', 'evident', 'from', 'what', 'we', 'have', 'found,', 'that', 'there', 'is', 'no', 'colour', 'which', 'pre-eminently', 'appears', 'to', 'be', '_the_', 'colour', 'of', 'the', 'table,', 'or', 'even', 'of', 'any', 'one', 'particular', 'part', 'of', 'the', 'table--it', 'appears', 'to', 'be', 'of', 'different', 'colours', 'from', 'different', 'points', 'of', 'view,', 'and', 'there', 'is', 'no', 'reason', 'for', 'regarding', 'some', 'of', 'these', 'as', 'more', 'really', 'its', 'colour', 'than', 'others.'], ['And', 'we', 'know', 'that', 'even', 'from', 'a', 'given', 'point', 'of', 'view', 'the', 'colour', 'will', 'seem', 'different', 'by', 'artificial', 'light,', 'or', 'to', 'a', 'colour-blind', 'man,', 'or', 'to', 'a', 'man', 'wearing', 'blue', 'spectacles,', 'while', 'in', 'the', 'dark', 'there', 'will', 'be', 'no', 'colour', 'at', 'all,', 'though', 'to', 'touch', 'and', 'hearing', 'the', 'table', 'will', 'be', 'unchanged.'], ['This', 'colour', 'is', 'not', 'something', 'which', 'is', 'inherent', 'in', 'the', 'table,', 'but', 'something', 'depending', 'upon', 'the', 'table', 'and', 'the', 'spectator', 'and', 'the', 'way', 'the', 'light', 'falls', 'on', 'the', 'table.'], ['When,', 'in', 'ordinary', 'life,', 'we', 'speak', 'of', '_the_', 'colour', 'of', 'the', 'table,', 'we', 'only', 'mean', 'the', 'sort', 'of', 'colour', 'which', 'it', 'will', 'seem', 'to', 'have', 'to', 'a', 'normal', 'spectator', 'from', 'an', 'ordinary', 'point', 'of', 'view', 'under', 'usual', 'conditions', 'of', 'light.'], ['But', 'the', 'other', 'colours', 'which', 'appear', 'under', 'other', 'conditions', 'have', 'just', 'as', 'good', 'a', 'right', 'to', 'be', 'considered', 'real;', 'and', 'therefore,', 'to', 'avoid', 'favouritism,', 'we', 'are', 'compelled', 'to', 'deny', 'that,', 'in', 'itself,', 'the', 'table', 'has', 'any', 'one', 'particular', 'colour.'], ['The', 'same', 'thing', 'applies', 'to', 'the', 'texture.'], ['With', 'the', 'naked', 'eye', 'one', 'can', 'see', 'the', 'grain,', 'but', 'otherwise', 'the', 'table', 'looks', 'smooth', 'and', 'even.'], ['If', 'we', 'looked', 'at', 'it', 'through', 'a', 'microscope,', 'we', 'should', 'see', 'roughnesses', 'and', 'hills', 'and', 'valleys,', 'and', 'all', 'sorts', 'of', 'differences', 'that', 'are', 'imperceptible', 'to', 'the', 'naked', 'eye.'], ['Which', 'of', 'these', 'is', 'the', \"'real'\", 'table?'], ['We', 'are', 'naturally', 'tempted', 'to', 'say', 'that', 'what', 'we', 'see', 'through', 'the', 'microscope', 'is', 'more', 'real,', 'but', 'that', 'in', 'turn', 'would', 'be', 'changed', 'by', 'a', 'still', 'more', 'powerful', 'microscope.'], ['If,', 'then,', 'we', 'cannot', 'trust', 'what', 'we', 'see', 'with', 'the', 'naked', 'eye,', 'why', 'should', 'we', 'trust', 'what', 'we', 'see', 'through', 'a', 'microscope?'], ['Thus,', 'again,', 'the', 'confidence', 'in', 'our', 'senses', 'with', 'which', 'we', 'began', 'deserts', 'us.'], ['The', 'shape', 'of', 'the', 'table', 'is', 'no', 'better.'], ['We', 'are', 'all', 'in', 'the', 'habit', 'of', 'judging', 'as', 'to', 'the', \"'real'\", 'shapes', 'of', 'things,', 'and', 'we', 'do', 'this', 'so', 'unreflectingly', 'that', 'we', 'come', 'to', 'think', 'we', 'actually', 'see', 'the', 'real', 'shapes.'], ['But,', 'in', 'fact,', 'as', 'we', 'all', 'have', 'to', 'learn', 'if', 'we', 'try', 'to', 'draw,', 'a', 'given', 'thing', 'looks', 'different', 'in', 'shape', 'from', 'every', 'different', 'point', 'of', 'view.'], ['If', 'our', 'table', 'is', \"'really'\", 'rectangular,', 'it', 'will', 'look,', 'from', 'almost', 'all', 'points', 'of', 'view,', 'as', 'if', 'it', 'had', 'two', 'acute', 'angles', 'and', 'two', 'obtuse', 'angles.'], ['If', 'opposite', 'sides', 'are', 'parallel,', 'they', 'will', 'look', 'as', 'if', 'they', 'converged', 'to', 'a', 'point', 'away', 'from', 'the', 'spectator;', 'if', 'they', 'are', 'of', 'equal', 'length,', 'they', 'will', 'look', 'as', 'if', 'the', 'nearer', 'side', 'were', 'longer.'], ['All', 'these', 'things', 'are', 'not', 'commonly', 'noticed', 'in', 'looking', 'at', 'a', 'table,', 'because', 'experience', 'has', 'taught', 'us', 'to', 'construct', 'the', \"'real'\", 'shape', 'from', 'the', 'apparent', 'shape,', 'and', 'the', \"'real'\", 'shape', 'is', 'what', 'interests', 'us', 'as', 'practical', 'men.'], ['But', 'the', \"'real'\", 'shape', 'is', 'not', 'what', 'we', 'see;', 'it', 'is', 'something', 'inferred', 'from', 'what', 'we', 'see.'], ['And', 'what', 'we', 'see', 'is', 'constantly', 'changing', 'in', 'shape', 'as', 'we', 'move', 'about', 'the', 'room;', 'so', 'that', 'here', 'again', 'the', 'senses', 'seem', 'not', 'to', 'give', 'us', 'the', 'truth', 'about', 'the', 'table', 'itself,', 'but', 'only', 'about', 'the', 'appearance', 'of', 'the', 'table.'], ['Similar', 'difficulties', 'arise', 'when', 'we', 'consider', 'the', 'sense', 'of', 'touch.'], ['It', 'is', 'true', 'that', 'the', 'table', 'always', 'gives', 'us', 'a', 'sensation', 'of', 'hardness,', 'and', 'we', 'feel', 'that', 'it', 'resists', 'pressure.'], ['But', 'the', 'sensation', 'we', 'obtain', 'depends', 'upon', 'how', 'hard', 'we', 'press', 'the', 'table', 'and', 'also', 'upon', 'what', 'part', 'of', 'the', 'body', 'we', 'press', 'with;', 'thus', 'the', 'various', 'sensations', 'due', 'to', 'various', 'pressures', 'or', 'various', 'parts', 'of', 'the', 'body', 'cannot', 'be', 'supposed', 'to', 'reveal', '_directly_', 'any', 'definite', 'property', 'of', 'the', 'table,', 'but', 'at', 'most', 'to', 'be', '_signs_', 'of', 'some', 'property', 'which', 'perhaps', '_causes_', 'all', 'the', 'sensations,', 'but', 'is', 'not', 'actually', 'apparent', 'in', 'any', 'of', 'them.'], ['And', 'the', 'same', 'applies', 'still', 'more', 'obviously', 'to', 'the', 'sounds', 'which', 'can', 'be', 'elicited', 'by', 'rapping', 'the', 'table.'], ['Thus', 'it', 'becomes', 'evident', 'that', 'the', 'real', 'table,', 'if', 'there', 'is', 'one,', 'is', 'not', 'the', 'same', 'as', 'what', 'we', 'immediately', 'experience', 'by', 'sight', 'or', 'touch', 'or', 'hearing.'], ['The', 'real', 'table,', 'if', 'there', 'is', 'one,', 'is', 'not', '_immediately_', 'known', 'to', 'us', 'at', 'all,', 'but', 'must', 'be', 'an', 'inference', 'from', 'what', 'is', 'immediately', 'known.'], ['Hence,', 'two', 'very', 'difficult', 'questions', 'at', 'once', 'arise;', 'namely,', '(1)', 'Is', 'there', 'a', 'real', 'table', 'at', 'all?'], ['(2)', 'If', 'so,', 'what', 'sort', 'of', 'object', 'can', 'it', 'be?'], ['It', 'will', 'help', 'us', 'in', 'considering', 'these', 'questions', 'to', 'have', 'a', 'few', 'simple', 'terms', 'of', 'which', 'the', 'meaning', 'is', 'definite', 'and', 'clear.'], ['Let', 'us', 'give', 'the', 'name', 'of', \"'sense-data'\", 'to', 'the', 'things', 'that', 'are', 'immediately', 'known', 'in', 'sensation:', 'such', 'things', 'as', 'colours,', 'sounds,', 'smells,', 'hardnesses,', 'roughnesses,', 'and', 'so', 'on.'], ['We', 'shall', 'give', 'the', 'name', \"'sensation'\", 'to', 'the', 'experience', 'of', 'being', 'immediately', 'aware', 'of', 'these', 'things.'], ['Thus,', 'whenever', 'we', 'see', 'a', 'colour,', 'we', 'have', 'a', 'sensation', '_of_', 'the', 'colour,', 'but', 'the', 'colour', 'itself', 'is', 'a', 'sense-datum,', 'not', 'a', 'sensation.'], ['The', 'colour', 'is', 'that', '_of_', 'which', 'we', 'are', 'immediately', 'aware,', 'and', 'the', 'awareness', 'itself', 'is', 'the', 'sensation.'], ['It', 'is', 'plain', 'that', 'if', 'we', 'are', 'to', 'know', 'anything', 'about', 'the', 'table,', 'it', 'must', 'be', 'by', 'means', 'of', 'the', 'sense-data--brown', 'colour,', 'oblong', 'shape,', 'smoothness,', 'etc.--which', 'we', 'associate', 'with', 'the', 'table;', 'but,', 'for', 'the', 'reasons', 'which', 'have', 'been', 'given,', 'we', 'cannot', 'say', 'that', 'the', 'table', 'is', 'the', 'sense-data,', 'or', 'even', 'that', 'the', 'sense-data', 'are', 'directly', 'properties', 'of', 'the', 'table.'], ['Thus', 'a', 'problem', 'arises', 'as', 'to', 'the', 'relation', 'of', 'the', 'sense-data', 'to', 'the', 'real', 'table,', 'supposing', 'there', 'is', 'such', 'a', 'thing.'], ['The', 'real', 'table,', 'if', 'it', 'exists,', 'we', 'will', 'call', 'a', \"'physical\", \"object'.\"], ['Thus', 'we', 'have', 'to', 'consider', 'the', 'relation', 'of', 'sense-data', 'to', 'physical', 'objects.'], ['The', 'collection', 'of', 'all', 'physical', 'objects', 'is', 'called', \"'matter'.\"], ['Thus', 'our', 'two', 'questions', 'may', 'be', 're-stated', 'as', 'follows:', '(1)', 'Is', 'there', 'any', 'such', 'thing', 'as', 'matter?'], ['(2)', 'If', 'so,', 'what', 'is', 'its', 'nature?'], ['The', 'philosopher', 'who', 'first', 'brought', 'prominently', 'forward', 'the', 'reasons', 'for', 'regarding', 'the', 'immediate', 'objects', 'of', 'our', 'senses', 'as', 'not', 'existing', 'independently', 'of', 'us', 'was', 'Bishop', 'Berkeley', '(1685-1753).'], ['His', '_Three', 'Dialogues', 'between', 'Hylas', 'and', 'Philonous,', 'in', 'Opposition', 'to', 'Sceptics', 'and', 'Atheists_,', 'undertake', 'to', 'prove', 'that', 'there', 'is', 'no', 'such', 'thing', 'as', 'matter', 'at', 'all,', 'and', 'that', 'the', 'world', 'consists', 'of', 'nothing', 'but', 'minds', 'and', 'their', 'ideas.'], ['Hylas', 'has', 'hitherto', 'believed', 'in', 'matter,', 'but', 'he', 'is', 'no', 'match', 'for', 'Philonous,', 'who', 'mercilessly', 'drives', 'him', 'into', 'contradictions', 'and', 'paradoxes,', 'and', 'makes', 'his', 'own', 'denial', 'of', 'matter', 'seem,', 'in', 'the', 'end,', 'as', 'if', 'it', 'were', 'almost', 'common', 'sense.'], ['The', 'arguments', 'employed', 'are', 'of', 'very', 'different', 'value:', 'some', 'are', 'important', 'and', 'sound,', 'others', 'are', 'confused', 'or', 'quibbling.'], ['But', 'Berkeley', 'retains', 'the', 'merit', 'of', 'having', 'shown', 'that', 'the', 'existence', 'of', 'matter', 'is', 'capable', 'of', 'being', 'denied', 'without', 'absurdity,', 'and', 'that', 'if', 'there', 'are', 'any', 'things', 'that', 'exist', 'independently', 'of', 'us', 'they', 'cannot', 'be', 'the', 'immediate', 'objects', 'of', 'our', 'sensations.'], ['There', 'are', 'two', 'different', 'questions', 'involved', 'when', 'we', 'ask', 'whether', 'matter', 'exists,', 'and', 'it', 'is', 'important', 'to', 'keep', 'them', 'clear.'], ['We', 'commonly', 'mean', 'by', \"'matter'\", 'something', 'which', 'is', 'opposed', 'to', \"'mind',\", 'something', 'which', 'we', 'think', 'of', 'as', 'occupying', 'space', 'and', 'as', 'radically', 'incapable', 'of', 'any', 'sort', 'of', 'thought', 'or', 'consciousness.'], ['It', 'is', 'chiefly', 'in', 'this', 'sense', 'that', 'Berkeley', 'denies', 'matter;', 'that', 'is', 'to', 'say,', 'he', 'does', 'not', 'deny', 'that', 'the', 'sense-data', 'which', 'we', 'commonly', 'take', 'as', 'signs', 'of', 'the', 'existence', 'of', 'the', 'table', 'are', 'really', 'signs', 'of', 'the', 'existence', 'of', '_something_', 'independent', 'of', 'us,', 'but', 'he', 'does', 'deny', 'that', 'this', 'something', 'is', 'non-mental,', 'that', 'it', 'is', 'neither', 'mind', 'nor', 'ideas', 'entertained', 'by', 'some', 'mind.'], ['He', 'admits', 'that', 'there', 'must', 'be', 'something', 'which', 'continues', 'to', 'exist', 'when', 'we', 'go', 'out', 'of', 'the', 'room', 'or', 'shut', 'our', 'eyes,', 'and', 'that', 'what', 'we', 'call', 'seeing', 'the', 'table', 'does', 'really', 'give', 'us', 'reason', 'for', 'believing', 'in', 'something', 'which', 'persists', 'even', 'when', 'we', 'are', 'not', 'seeing', 'it.'], ['But', 'he', 'thinks', 'that', 'this', 'something', 'cannot', 'be', 'radically', 'different', 'in', 'nature', 'from', 'what', 'we', 'see,', 'and', 'cannot', 'be', 'independent', 'of', 'seeing', 'altogether,', 'though', 'it', 'must', 'be', 'independent', 'of', '_our_', 'seeing.'], ['He', 'is', 'thus', 'led', 'to', 'regard', 'the', \"'real'\", 'table', 'as', 'an', 'idea', 'in', 'the', 'mind', 'of', 'God.'], ['Such', 'an', 'idea', 'has', 'the', 'required', 'permanence', 'and', 'independence', 'of', 'ourselves,', 'without', 'being--as', 'matter', 'would', 'otherwise', 'be--something', 'quite', 'unknowable,', 'in', 'the', 'sense', 'that', 'we', 'can', 'only', 'infer', 'it,', 'and', 'can', 'never', 'be', 'directly', 'and', 'immediately', 'aware', 'of', 'it.'], ['Other', 'philosophers', 'since', 'Berkeley', 'have', 'also', 'held', 'that,', 'although', 'the', 'table', 'does', 'not', 'depend', 'for', 'its', 'existence', 'upon', 'being', 'seen', 'by', 'me,', 'it', 'does', 'depend', 'upon', 'being', 'seen', '(or', 'otherwise', 'apprehended', 'in', 'sensation)', 'by', '_some_', 'mind--not', 'necessarily', 'the', 'mind', 'of', 'God,', 'but', 'more', 'often', 'the', 'whole', 'collective', 'mind', 'of', 'the', 'universe.'], ['This', 'they', 'hold,', 'as', 'Berkeley', 'does,', 'chiefly', 'because', 'they', 'think', 'there', 'can', 'be', 'nothing', 'real--or', 'at', 'any', 'rate', 'nothing', 'known', 'to', 'be', 'real', 'except', 'minds', 'and', 'their', 'thoughts', 'and', 'feelings.'], ['We', 'might', 'state', 'the', 'argument', 'by', 'which', 'they', 'support', 'their', 'view', 'in', 'some', 'such', 'way', 'as', 'this:', \"'Whatever\", 'can', 'be', 'thought', 'of', 'is', 'an', 'idea', 'in', 'the', 'mind', 'of', 'the', 'person', 'thinking', 'of', 'it;', 'therefore', 'nothing', 'can', 'be', 'thought', 'of', 'except', 'ideas', 'in', 'minds;', 'therefore', 'anything', 'else', 'is', 'inconceivable,', 'and', 'what', 'is', 'inconceivable', 'cannot', \"exist.'\"], ['Such', 'an', 'argument,', 'in', 'my', 'opinion,', 'is', 'fallacious;', 'and', 'of', 'course', 'those', 'who', 'advance', 'it', 'do', 'not', 'put', 'it', 'so', 'shortly', 'or', 'so', 'crudely.'], ['But', 'whether', 'valid', 'or', 'not,', 'the', 'argument', 'has', 'been', 'very', 'widely', 'advanced', 'in', 'one', 'form', 'or', 'another;', 'and', 'very', 'many', 'philosophers,', 'perhaps', 'a', 'majority,', 'have', 'held', 'that', 'there', 'is', 'nothing', 'real', 'except', 'minds', 'and', 'their', 'ideas.'], ['Such', 'philosophers', 'are', 'called', \"'idealists'.\"], ['When', 'they', 'come', 'to', 'explaining', 'matter,', 'they', 'either', 'say,', 'like', 'Berkeley,', 'that', 'matter', 'is', 'really', 'nothing', 'but', 'a', 'collection', 'of', 'ideas,', 'or', 'they', 'say,', 'like', 'Leibniz', '(1646-1716),', 'that', 'what', 'appears', 'as', 'matter', 'is', 'really', 'a', 'collection', 'of', 'more', 'or', 'less', 'rudimentary', 'minds.'], ['But', 'these', 'philosophers,', 'though', 'they', 'deny', 'matter', 'as', 'opposed', 'to', 'mind,', 'nevertheless,', 'in', 'another', 'sense,', 'admit', 'matter.'], ['It', 'will', 'be', 'remembered', 'that', 'we', 'asked', 'two', 'questions;', 'namely,', '(1)', 'Is', 'there', 'a', 'real', 'table', 'at', 'all?'], ['(2)', 'If', 'so,', 'what', 'sort', 'of', 'object', 'can', 'it', 'be?'], ['Now', 'both', 'Berkeley', 'and', 'Leibniz', 'admit', 'that', 'there', 'is', 'a', 'real', 'table,', 'but', 'Berkeley', 'says', 'it', 'is', 'certain', 'ideas', 'in', 'the', 'mind', 'of', 'God,', 'and', 'Leibniz', 'says', 'it', 'is', 'a', 'colony', 'of', 'souls.'], ['Thus', 'both', 'of', 'them', 'answer', 'our', 'first', 'question', 'in', 'the', 'affirmative,', 'and', 'only', 'diverge', 'from', 'the', 'views', 'of', 'ordinary', 'mortals', 'in', 'their', 'answer', 'to', 'our', 'second', 'question.'], ['In', 'fact,', 'almost', 'all', 'philosophers', 'seem', 'to', 'be', 'agreed', 'that', 'there', 'is', 'a', 'real', 'table:', 'they', 'almost', 'all', 'agree', 'that,', 'however', 'much', 'our', 'sense-data--colour,', 'shape,', 'smoothness,', 'etc.--may', 'depend', 'upon', 'us,', 'yet', 'their', 'occurrence', 'is', 'a', 'sign', 'of', 'something', 'existing', 'independently', 'of', 'us,', 'something', 'differing,', 'perhaps,', 'completely', 'from', 'our', 'sense-data,', 'and', 'yet', 'to', 'be', 'regarded', 'as', 'causing', 'those', 'sense-data', 'whenever', 'we', 'are', 'in', 'a', 'suitable', 'relation', 'to', 'the', 'real', 'table.'], ['Now', 'obviously', 'this', 'point', 'in', 'which', 'the', 'philosophers', 'are', 'agreed--the', 'view', 'that', 'there', '_is_', 'a', 'real', 'table,', 'whatever', 'its', 'nature', 'may', 'be--is', 'vitally', 'important,', 'and', 'it', 'will', 'be', 'worth', 'while', 'to', 'consider', 'what', 'reasons', 'there', 'are', 'for', 'accepting', 'this', 'view', 'before', 'we', 'go', 'on', 'to', 'the', 'further', 'question', 'as', 'to', 'the', 'nature', 'of', 'the', 'real', 'table.'], ['Our', 'next', 'chapter,', 'therefore,', 'will', 'be', 'concerned', 'with', 'the', 'reasons', 'for', 'supposing', 'that', 'there', 'is', 'a', 'real', 'table', 'at', 'all.'], ['Before', 'we', 'go', 'farther', 'it', 'will', 'be', 'well', 'to', 'consider', 'for', 'a', 'moment', 'what', 'it', 'is', 'that', 'we', 'have', 'discovered', 'so', 'far.'], ['It', 'has', 'appeared', 'that,', 'if', 'we', 'take', 'any', 'common', 'object', 'of', 'the', 'sort', 'that', 'is', 'supposed', 'to', 'be', 'known', 'by', 'the', 'senses,', 'what', 'the', 'senses', '_immediately_', 'tell', 'us', 'is', 'not', 'the', 'truth', 'about', 'the', 'object', 'as', 'it', 'is', 'apart', 'from', 'us,', 'but', 'only', 'the', 'truth', 'about', 'certain', 'sense-data', 'which,', 'so', 'far', 'as', 'we', 'can', 'see,', 'depend', 'upon', 'the', 'relations', 'between', 'us', 'and', 'the', 'object.'], ['Thus', 'what', 'we', 'directly', 'see', 'and', 'feel', 'is', 'merely', \"'appearance',\", 'which', 'we', 'believe', 'to', 'be', 'a', 'sign', 'of', 'some', \"'reality'\", 'behind.'], ['But', 'if', 'the', 'reality', 'is', 'not', 'what', 'appears,', 'have', 'we', 'any', 'means', 'of', 'knowing', 'whether', 'there', 'is', 'any', 'reality', 'at', 'all?'], ['And', 'if', 'so,', 'have', 'we', 'any', 'means', 'of', 'finding', 'out', 'what', 'it', 'is', 'like?'], ['Such', 'questions', 'are', 'bewildering,', 'and', 'it', 'is', 'difficult', 'to', 'know', 'that', 'even', 'the', 'strangest', 'hypotheses', 'may', 'not', 'be', 'true.'], ['Thus', 'our', 'familiar', 'table,', 'which', 'has', 'roused', 'but', 'the', 'slightest', 'thoughts', 'in', 'us', 'hitherto,', 'has', 'become', 'a', 'problem', 'full', 'of', 'surprising', 'possibilities.'], ['The', 'one', 'thing', 'we', 'know', 'about', 'it', 'is', 'that', 'it', 'is', 'not', 'what', 'it', 'seems.'], ['Beyond', 'this', 'modest', 'result,', 'so', 'far,', 'we', 'have', 'the', 'most', 'complete', 'liberty', 'of', 'conjecture.'], ['Leibniz', 'tells', 'us', 'it', 'is', 'a', 'community', 'of', 'souls:', 'Berkeley', 'tells', 'us', 'it', 'is', 'an', 'idea', 'in', 'the', 'mind', 'of', 'God;', 'sober', 'science,', 'scarcely', 'less', 'wonderful,', 'tells', 'us', 'it', 'is', 'a', 'vast', 'collection', 'of', 'electric', 'charges', 'in', 'violent', 'motion.'], ['Among', 'these', 'surprising', 'possibilities,', 'doubt', 'suggests', 'that', 'perhaps', 'there', 'is', 'no', 'table', 'at', 'all.'], ['Philosophy,', 'if', 'it', 'cannot', '_answer_', 'so', 'many', 'questions', 'as', 'we', 'could', 'wish,', 'has', 'at', 'least', 'the', 'power', 'of', '_asking_', 'questions', 'which', 'increase', 'the', 'interest', 'of', 'the', 'world,', 'and', 'show', 'the', 'strangeness', 'and', 'wonder', 'lying', 'just', 'below', 'the', 'surface', 'even', 'in', 'the', 'commonest', 'things', 'of', 'daily', 'life.']]\n"
     ]
    }
   ],
   "source": [
    "new_sentences=[]\n",
    "new_sentences = [[x for x in sentence if x] for sentence in book_sentences]\n",
    "print(new_sentences)"
   ]
  },
  {
   "cell_type": "code",
   "execution_count": 31,
   "id": "340541f1",
   "metadata": {
    "scrolled": true
   },
   "outputs": [],
   "source": [
    "def sentence_similarity(sent1, sent2, stopwords=None):\n",
    "    if stopwords is None:\n",
    "        stopwords = []\n",
    " \n",
    "    sent1 = [w.lower() for w in sent1]\n",
    "    sent2 = [w.lower() for w in sent2]\n",
    " \n",
    "    all_words = list(set(sent1 + sent2))\n",
    " \n",
    "    vector1 = [0] * len(all_words)\n",
    "    vector2 = [0] * len(all_words)\n",
    " \n",
    "    # build the vector for the first sentence\n",
    "    for w in sent1:\n",
    "        if w in stopwords:\n",
    "            continue\n",
    "        vector1[all_words.index(w)] += 1\n",
    " \n",
    "    # build the vector for the second sentence\n",
    "    for w in sent2:\n",
    "        if w in stopwords:\n",
    "            continue\n",
    "        vector2[all_words.index(w)] += 1\n",
    "        \n",
    "    if np.isnan(1 - cosine_distance(vector1, vector2)):\n",
    "        return 0\n",
    "    return 1 - cosine_distance(vector1, vector2)"
   ]
  },
  {
   "cell_type": "code",
   "execution_count": 32,
   "id": "b5e900ed",
   "metadata": {
    "scrolled": true
   },
   "outputs": [],
   "source": [
    "def build_similarity_matrix(sentences, stop_words):\n",
    "    # Create an empty similarity matrix\n",
    "    similarity_matrix = np.zeros((len(sentences), len(sentences)))\n",
    " \n",
    "    for idx1 in range(len(sentences)):\n",
    "        for idx2 in range(len(sentences)):\n",
    "            if idx1 == idx2: #ignore if both are same sentences\n",
    "                continue \n",
    "            similarity_matrix[idx1][idx2] = sentence_similarity(sentences[idx1], sentences[idx2], stop_words)\n",
    "    return similarity_matrix"
   ]
  },
  {
   "cell_type": "code",
   "execution_count": 33,
   "id": "f53a0fec",
   "metadata": {
    "scrolled": true
   },
   "outputs": [
    {
     "name": "stdout",
     "output_type": "stream",
     "text": [
      "Indexes of top ranked_sentence order are  [(0.021269226618516497, ['And', 'what', 'we', 'see', 'is', 'constantly', 'changing', 'in', 'shape', 'as', 'we', 'move', 'about', 'the', 'room;', 'so', 'that', 'here', 'again', 'the', 'senses', 'seem', 'not', 'to', 'give', 'us', 'the', 'truth', 'about', 'the', 'table', 'itself,', 'but', 'only', 'about', 'the', 'appearance', 'of', 'the', 'table.']), (0.018794214634999407, ['This', 'colour', 'is', 'not', 'something', 'which', 'is', 'inherent', 'in', 'the', 'table,', 'but', 'something', 'depending', 'upon', 'the', 'table', 'and', 'the', 'spectator', 'and', 'the', 'way', 'the', 'light', 'falls', 'on', 'the', 'table.']), (0.018259934723661053, ['Hence,', 'two', 'very', 'difficult', 'questions', 'at', 'once', 'arise;', 'namely,', '(1)', 'Is', 'there', 'a', 'real', 'table', 'at', 'all?']), (0.01762965941822886, ['I', 'believe', 'that,', 'if', 'any', 'other', 'normal', 'person', 'comes', 'into', 'my', 'room,', 'he', 'will', 'see', 'the', 'same', 'chairs', 'and', 'tables', 'and', 'books', 'and', 'papers', 'as', 'I', 'see,', 'and', 'that', 'the', 'table', 'which', 'I', 'see', 'is', 'the', 'same', 'as', 'the', 'table', 'which', 'I', 'feel', 'pressing', 'against', 'my', 'arm.']), (0.017292033273720166, ['And', 'we', 'know', 'that', 'even', 'from', 'a', 'given', 'point', 'of', 'view', 'the', 'colour', 'will', 'seem', 'different', 'by', 'artificial', 'light,', 'or', 'to', 'a', 'colour-blind', 'man,', 'or', 'to', 'a', 'man', 'wearing', 'blue', 'spectacles,', 'while', 'in', 'the', 'dark', 'there', 'will', 'be', 'no', 'colour', 'at', 'all,', 'though', 'to', 'touch', 'and', 'hearing', 'the', 'table', 'will', 'be', 'unchanged.']), (0.01712908939290625, ['It', 'is', 'plain', 'that', 'if', 'we', 'are', 'to', 'know', 'anything', 'about', 'the', 'table,', 'it', 'must', 'be', 'by', 'means', 'of', 'the', 'sense-data--brown', 'colour,', 'oblong', 'shape,', 'smoothness,', 'etc.--which', 'we', 'associate', 'with', 'the', 'table;', 'but,', 'for', 'the', 'reasons', 'which', 'have', 'been', 'given,', 'we', 'cannot', 'say', 'that', 'the', 'table', 'is', 'the', 'sense-data,', 'or', 'even', 'that', 'the', 'sense-data', 'are', 'directly', 'properties', 'of', 'the', 'table.']), (0.01685363052876287, ['All', 'these', 'things', 'are', 'not', 'commonly', 'noticed', 'in', 'looking', 'at', 'a', 'table,', 'because', 'experience', 'has', 'taught', 'us', 'to', 'construct', 'the', \"'real'\", 'shape', 'from', 'the', 'apparent', 'shape,', 'and', 'the', \"'real'\", 'shape', 'is', 'what', 'interests', 'us', 'as', 'practical', 'men.']), (0.016288433041643822, ['With', 'the', 'naked', 'eye', 'one', 'can', 'see', 'the', 'grain,', 'but', 'otherwise', 'the', 'table', 'looks', 'smooth', 'and', 'even.']), (0.01603086904617975, ['The', 'real', 'table,', 'if', 'there', 'is', 'one,', 'is', 'not', '_immediately_', 'known', 'to', 'us', 'at', 'all,', 'but', 'must', 'be', 'an', 'inference', 'from', 'what', 'is', 'immediately', 'known.']), (0.015827423934664832, ['It', 'will', 'be', 'remembered', 'that', 'we', 'asked', 'two', 'questions;', 'namely,', '(1)', 'Is', 'there', 'a', 'real', 'table', 'at', 'all?']), (0.01562856451517395, ['He', 'is', 'thus', 'led', 'to', 'regard', 'the', \"'real'\", 'table', 'as', 'an', 'idea', 'in', 'the', 'mind', 'of', 'God.']), (0.01561021075997116, ['He', 'admits', 'that', 'there', 'must', 'be', 'something', 'which', 'continues', 'to', 'exist', 'when', 'we', 'go', 'out', 'of', 'the', 'room', 'or', 'shut', 'our', 'eyes,', 'and', 'that', 'what', 'we', 'call', 'seeing', 'the', 'table', 'does', 'really', 'give', 'us', 'reason', 'for', 'believing', 'in', 'something', 'which', 'persists', 'even', 'when', 'we', 'are', 'not', 'seeing', 'it.']), (0.015314784974037331, ['Now', 'obviously', 'this', 'point', 'in', 'which', 'the', 'philosophers', 'are', 'agreed--the', 'view', 'that', 'there', '_is_', 'a', 'real', 'table,', 'whatever', 'its', 'nature', 'may', 'be--is', 'vitally', 'important,', 'and', 'it', 'will', 'be', 'worth', 'while', 'to', 'consider', 'what', 'reasons', 'there', 'are', 'for', 'accepting', 'this', 'view', 'before', 'we', 'go', 'on', 'to', 'the', 'further', 'question', 'as', 'to', 'the', 'nature', 'of', 'the', 'real', 'table.']), (0.01502272108332561, ['It', 'follows', 'that', 'if', 'several', 'people', 'are', 'looking', 'at', 'the', 'table', 'at', 'the', 'same', 'moment,', 'no', 'two', 'of', 'them', 'will', 'see', 'exactly', 'the', 'same', 'distribution', 'of', 'colours,', 'because', 'no', 'two', 'can', 'see', 'it', 'from', 'exactly', 'the', 'same', 'point', 'of', 'view,', 'and', 'any', 'change', 'in', 'the', 'point', 'of', 'view', 'makes', 'some', 'change', 'in', 'the', 'way', 'the', 'light', 'is', 'reflected.']), (0.015020168514210334, ['The', 'shape', 'of', 'the', 'table', 'is', 'no', 'better.']), (0.014915308884142843, ['In', 'fact,', 'almost', 'all', 'philosophers', 'seem', 'to', 'be', 'agreed', 'that', 'there', 'is', 'a', 'real', 'table:', 'they', 'almost', 'all', 'agree', 'that,', 'however', 'much', 'our', 'sense-data--colour,', 'shape,', 'smoothness,', 'etc.--may', 'depend', 'upon', 'us,', 'yet', 'their', 'occurrence', 'is', 'a', 'sign', 'of', 'something', 'existing', 'independently', 'of', 'us,', 'something', 'differing,', 'perhaps,', 'completely', 'from', 'our', 'sense-data,', 'and', 'yet', 'to', 'be', 'regarded', 'as', 'causing', 'those', 'sense-data', 'whenever', 'we', 'are', 'in', 'a', 'suitable', 'relation', 'to', 'the', 'real', 'table.']), (0.01441045742075239, ['Thus', 'it', 'becomes', 'evident', 'that', 'the', 'real', 'table,', 'if', 'there', 'is', 'one,', 'is', 'not', 'the', 'same', 'as', 'what', 'we', 'immediately', 'experience', 'by', 'sight', 'or', 'touch', 'or', 'hearing.']), (0.014106189629801886, ['It', 'has', 'appeared', 'that,', 'if', 'we', 'take', 'any', 'common', 'object', 'of', 'the', 'sort', 'that', 'is', 'supposed', 'to', 'be', 'known', 'by', 'the', 'senses,', 'what', 'the', 'senses', '_immediately_', 'tell', 'us', 'is', 'not', 'the', 'truth', 'about', 'the', 'object', 'as', 'it', 'is', 'apart', 'from', 'us,', 'but', 'only', 'the', 'truth', 'about', 'certain', 'sense-data', 'which,', 'so', 'far', 'as', 'we', 'can', 'see,', 'depend', 'upon', 'the', 'relations', 'between', 'us', 'and', 'the', 'object.']), (0.013777010385865885, ['Thus', 'a', 'problem', 'arises', 'as', 'to', 'the', 'relation', 'of', 'the', 'sense-data', 'to', 'the', 'real', 'table,', 'supposing', 'there', 'is', 'such', 'a', 'thing.']), (0.013708408480689554, ['It', 'is', 'true', 'that', 'the', 'table', 'always', 'gives', 'us', 'a', 'sensation', 'of', 'hardness,', 'and', 'we', 'feel', 'that', 'it', 'resists', 'pressure.']), (0.013681514051638291, ['Our', 'next', 'chapter,', 'therefore,', 'will', 'be', 'concerned', 'with', 'the', 'reasons', 'for', 'supposing', 'that', 'there', 'is', 'a', 'real', 'table', 'at', 'all.']), (0.013601999433636386, ['It', 'is', 'evident', 'from', 'what', 'we', 'have', 'found,', 'that', 'there', 'is', 'no', 'colour', 'which', 'pre-eminently', 'appears', 'to', 'be', '_the_', 'colour', 'of', 'the', 'table,', 'or', 'even', 'of', 'any', 'one', 'particular', 'part', 'of', 'the', 'table--it', 'appears', 'to', 'be', 'of', 'different', 'colours', 'from', 'different', 'points', 'of', 'view,', 'and', 'there', 'is', 'no', 'reason', 'for', 'regarding', 'some', 'of', 'these', 'as', 'more', 'really', 'its', 'colour', 'than', 'others.']), (0.013415273624161615, ['I', 'know', 'that,', 'if', 'I', 'move,', 'the', 'parts', 'that', 'reflect', 'the', 'light', 'will', 'be', 'different,', 'so', 'that', 'the', 'apparent', 'distribution', 'of', 'colours', 'on', 'the', 'table', 'will', 'change.']), (0.013206635156813784, ['It', 'seems', 'to', 'me', 'that', 'I', 'am', 'now', 'sitting', 'in', 'a', 'chair,', 'at', 'a', 'table', 'of', 'a', 'certain', 'shape,', 'on', 'which', 'I', 'see', 'sheets', 'of', 'paper', 'with', 'writing', 'or', 'print.']), (0.012847046879422183, ['In', 'daily', 'life,', 'we', 'assume', 'as', 'certain', 'many', 'things', 'which,', 'on', 'a', 'closer', 'scrutiny,', 'are', 'found', 'to', 'be', 'so', 'full', 'of', 'apparent', 'contradictions', 'that', 'only', 'a', 'great', 'amount', 'of', 'thought', 'enables', 'us', 'to', 'know', 'what', 'it', 'is', 'that', 'we', 'really', 'may', 'believe.']), (0.012822361015038574, ['It', 'is', 'chiefly', 'in', 'this', 'sense', 'that', 'Berkeley', 'denies', 'matter;', 'that', 'is', 'to', 'say,', 'he', 'does', 'not', 'deny', 'that', 'the', 'sense-data', 'which', 'we', 'commonly', 'take', 'as', 'signs', 'of', 'the', 'existence', 'of', 'the', 'table', 'are', 'really', 'signs', 'of', 'the', 'existence', 'of', '_something_', 'independent', 'of', 'us,', 'but', 'he', 'does', 'deny', 'that', 'this', 'something', 'is', 'non-mental,', 'that', 'it', 'is', 'neither', 'mind', 'nor', 'ideas', 'entertained', 'by', 'some', 'mind.']), (0.012695424976069295, ['When,', 'in', 'ordinary', 'life,', 'we', 'speak', 'of', '_the_', 'colour', 'of', 'the', 'table,', 'we', 'only', 'mean', 'the', 'sort', 'of', 'colour', 'which', 'it', 'will', 'seem', 'to', 'have', 'to', 'a', 'normal', 'spectator', 'from', 'an', 'ordinary', 'point', 'of', 'view', 'under', 'usual', 'conditions', 'of', 'light.']), (0.012630072243101725, ['But', 'Berkeley', 'retains', 'the', 'merit', 'of', 'having', 'shown', 'that', 'the', 'existence', 'of', 'matter', 'is', 'capable', 'of', 'being', 'denied', 'without', 'absurdity,', 'and', 'that', 'if', 'there', 'are', 'any', 'things', 'that', 'exist', 'independently', 'of', 'us', 'they', 'cannot', 'be', 'the', 'immediate', 'objects', 'of', 'our', 'sensations.']), (0.012350796247058407, ['Thus', 'our', 'two', 'questions', 'may', 'be', 're-stated', 'as', 'follows:', '(1)', 'Is', 'there', 'any', 'such', 'thing', 'as', 'matter?']), (0.011703753976760375, ['We', 'are', 'all', 'in', 'the', 'habit', 'of', 'judging', 'as', 'to', 'the', \"'real'\", 'shapes', 'of', 'things,', 'and', 'we', 'do', 'this', 'so', 'unreflectingly', 'that', 'we', 'come', 'to', 'think', 'we', 'actually', 'see', 'the', 'real', 'shapes.']), (0.011503659614866978, ['Although', 'I', 'believe', 'that', 'the', 'table', 'is', \"'really'\", 'of', 'the', 'same', 'colour', 'all', 'over,', 'the', 'parts', 'that', 'reflect', 'the', 'light', 'look', 'much', 'brighter', 'than', 'the', 'other', 'parts,', 'and', 'some', 'parts', 'look', 'white', 'because', 'of', 'reflected', 'light.']), (0.011451880983688392, ['The', 'one', 'thing', 'we', 'know', 'about', 'it', 'is', 'that', 'it', 'is', 'not', 'what', 'it', 'seems.']), (0.01139242359262689, ['Thus', 'our', 'familiar', 'table,', 'which', 'has', 'roused', 'but', 'the', 'slightest', 'thoughts', 'in', 'us', 'hitherto,', 'has', 'become', 'a', 'problem', 'full', 'of', 'surprising', 'possibilities.']), (0.01133266901412998, ['There', 'are', 'two', 'different', 'questions', 'involved', 'when', 'we', 'ask', 'whether', 'matter', 'exists,', 'and', 'it', 'is', 'important', 'to', 'keep', 'them', 'clear.']), (0.011250790324854624, ['Leibniz', 'tells', 'us', 'it', 'is', 'a', 'community', 'of', 'souls:', 'Berkeley', 'tells', 'us', 'it', 'is', 'an', 'idea', 'in', 'the', 'mind', 'of', 'God;', 'sober', 'science,', 'scarcely', 'less', 'wonderful,', 'tells', 'us', 'it', 'is', 'a', 'vast', 'collection', 'of', 'electric', 'charges', 'in', 'violent', 'motion.']), (0.011213817875482444, ['Now', 'both', 'Berkeley', 'and', 'Leibniz', 'admit', 'that', 'there', 'is', 'a', 'real', 'table,', 'but', 'Berkeley', 'says', 'it', 'is', 'certain', 'ideas', 'in', 'the', 'mind', 'of', 'God,', 'and', 'Leibniz', 'says', 'it', 'is', 'a', 'colony', 'of', 'souls.']), (0.011027313341244053, ['The', 'painter', 'wants', 'to', 'know', 'what', 'things', 'seem', 'to', 'be,', 'the', 'practical', 'man', 'and', 'the', 'philosopher', 'want', 'to', 'know', 'what', 'they', 'are;', 'but', 'the', \"philosopher's\", 'wish', 'to', 'know', 'this', 'is', 'stronger', 'than', 'the', 'practical', \"man's,\", 'and', 'is', 'more', 'troubled', 'by', 'knowledge', 'as', 'to', 'the', 'difficulties', 'of', 'answering', 'the', 'question.']), (0.010927026286291436, ['Let', 'us', 'give', 'the', 'name', 'of', \"'sense-data'\", 'to', 'the', 'things', 'that', 'are', 'immediately', 'known', 'in', 'sensation:', 'such', 'things', 'as', 'colours,', 'sounds,', 'smells,', 'hardnesses,', 'roughnesses,', 'and', 'so', 'on.']), (0.010885180829399327, ['Any', 'one', 'else', 'who', 'sees', 'and', 'feels', 'and', 'hears', 'the', 'table', 'will', 'agree', 'with', 'this', 'description,', 'so', 'that', 'it', 'might', 'seem', 'as', 'if', 'no', 'difficulty', 'would', 'arise;', 'but', 'as', 'soon', 'as', 'we', 'try', 'to', 'be', 'more', 'precise', 'our', 'troubles', 'begin.']), (0.010848183475735082, ['But', 'whether', 'valid', 'or', 'not,', 'the', 'argument', 'has', 'been', 'very', 'widely', 'advanced', 'in', 'one', 'form', 'or', 'another;', 'and', 'very', 'many', 'philosophers,', 'perhaps', 'a', 'majority,', 'have', 'held', 'that', 'there', 'is', 'nothing', 'real', 'except', 'minds', 'and', 'their', 'ideas.']), (0.010736237418013248, ['To', 'make', 'our', 'difficulties', 'plain,', 'let', 'us', 'concentrate', 'attention', 'on', 'the', 'table.']), (0.010704240279518962, ['(2)', 'If', 'so,', 'what', 'sort', 'of', 'object', 'can', 'it', 'be?']), (0.01070424027951896, ['(2)', 'If', 'so,', 'what', 'sort', 'of', 'object', 'can', 'it', 'be?']), (0.010690025013343716, ['If', 'our', 'table', 'is', \"'really'\", 'rectangular,', 'it', 'will', 'look,', 'from', 'almost', 'all', 'points', 'of', 'view,', 'as', 'if', 'it', 'had', 'two', 'acute', 'angles', 'and', 'two', 'obtuse', 'angles.']), (0.010580393680968074, ['But', 'the', 'sensation', 'we', 'obtain', 'depends', 'upon', 'how', 'hard', 'we', 'press', 'the', 'table', 'and', 'also', 'upon', 'what', 'part', 'of', 'the', 'body', 'we', 'press', 'with;', 'thus', 'the', 'various', 'sensations', 'due', 'to', 'various', 'pressures', 'or', 'various', 'parts', 'of', 'the', 'body', 'cannot', 'be', 'supposed', 'to', 'reveal', '_directly_', 'any', 'definite', 'property', 'of', 'the', 'table,', 'but', 'at', 'most', 'to', 'be', '_signs_', 'of', 'some', 'property', 'which', 'perhaps', '_causes_', 'all', 'the', 'sensations,', 'but', 'is', 'not', 'actually', 'apparent', 'in', 'any', 'of', 'them.']), (0.010531472915915756, ['But', 'any', 'statement', 'as', 'to', 'what', 'it', 'is', 'that', 'our', 'immediate', 'experiences', 'make', 'us', 'know', 'is', 'very', 'likely', 'to', 'be', 'wrong.']), (0.01052444135590458, ['But', 'the', 'other', 'colours', 'which', 'appear', 'under', 'other', 'conditions', 'have', 'just', 'as', 'good', 'a', 'right', 'to', 'be', 'considered', 'real;', 'and', 'therefore,', 'to', 'avoid', 'favouritism,', 'we', 'are', 'compelled', 'to', 'deny', 'that,', 'in', 'itself,', 'the', 'table', 'has', 'any', 'one', 'particular', 'colour.']), (0.01052430438570377, ['The', 'real', 'table,', 'if', 'it', 'exists,', 'we', 'will', 'call', 'a', \"'physical\", \"object'.\"]), (0.010507513600865308, ['Other', 'philosophers', 'since', 'Berkeley', 'have', 'also', 'held', 'that,', 'although', 'the', 'table', 'does', 'not', 'depend', 'for', 'its', 'existence', 'upon', 'being', 'seen', 'by', 'me,', 'it', 'does', 'depend', 'upon', 'being', 'seen', '(or', 'otherwise', 'apprehended', 'in', 'sensation)', 'by', '_some_', 'mind--not', 'necessarily', 'the', 'mind', 'of', 'God,', 'but', 'more', 'often', 'the', 'whole', 'collective', 'mind', 'of', 'the', 'universe.']), (0.010286107917071829, ['Such', 'questions', 'are', 'bewildering,', 'and', 'it', 'is', 'difficult', 'to', 'know', 'that', 'even', 'the', 'strangest', 'hypotheses', 'may', 'not', 'be', 'true.']), (0.0102843108801493, ['The', 'philosopher', 'who', 'first', 'brought', 'prominently', 'forward', 'the', 'reasons', 'for', 'regarding', 'the', 'immediate', 'objects', 'of', 'our', 'senses', 'as', 'not', 'existing', 'independently', 'of', 'us', 'was', 'Bishop', 'Berkeley', '(1685-1753).']), (0.010207381772954412, ['Thus', 'what', 'we', 'directly', 'see', 'and', 'feel', 'is', 'merely', \"'appearance',\", 'which', 'we', 'believe', 'to', 'be', 'a', 'sign', 'of', 'some', \"'reality'\", 'behind.']), (0.010075321989594264, ['Among', 'these', 'surprising', 'possibilities,', 'doubt', 'suggests', 'that', 'perhaps', 'there', 'is', 'no', 'table', 'at', 'all.']), (0.00994958779111112, ['Thus,', 'whenever', 'we', 'see', 'a', 'colour,', 'we', 'have', 'a', 'sensation', '_of_', 'the', 'colour,', 'but', 'the', 'colour', 'itself', 'is', 'a', 'sense-datum,', 'not', 'a', 'sensation.']), (0.009795388685181866, ['For', 'most', 'practical', 'purposes', 'these', 'differences', 'are', 'unimportant,', 'but', 'to', 'the', 'painter', 'they', 'are', 'all-important:', 'the', 'painter', 'has', 'to', 'unlearn', 'the', 'habit', 'of', 'thinking', 'that', 'things', 'seem', 'to', 'have', 'the', 'colour', 'which', 'common', 'sense', 'says', 'they', \"'really'\", 'have,', 'and', 'to', 'learn', 'the', 'habit', 'of', 'seeing', 'things', 'as', 'they', 'appear.']), (0.009735107059671781, ['If,', 'then,', 'we', 'cannot', 'trust', 'what', 'we', 'see', 'with', 'the', 'naked', 'eye,', 'why', 'should', 'we', 'trust', 'what', 'we', 'see', 'through', 'a', 'microscope?']), (0.0094914332992574, ['This', 'they', 'hold,', 'as', 'Berkeley', 'does,', 'chiefly', 'because', 'they', 'think', 'there', 'can', 'be', 'nothing', 'real--or', 'at', 'any', 'rate', 'nothing', 'known', 'to', 'be', 'real', 'except', 'minds', 'and', 'their', 'thoughts', 'and', 'feelings.']), (0.00947485682418911, ['Thus', 'we', 'have', 'to', 'consider', 'the', 'relation', 'of', 'sense-data', 'to', 'physical', 'objects.']), (0.009468897546990356, ['But,', 'in', 'fact,', 'as', 'we', 'all', 'have', 'to', 'learn', 'if', 'we', 'try', 'to', 'draw,', 'a', 'given', 'thing', 'looks', 'different', 'in', 'shape', 'from', 'every', 'different', 'point', 'of', 'view.']), (0.008841281905239733, ['But', 'he', 'thinks', 'that', 'this', 'something', 'cannot', 'be', 'radically', 'different', 'in', 'nature', 'from', 'what', 'we', 'see,', 'and', 'cannot', 'be', 'independent', 'of', 'seeing', 'altogether,', 'though', 'it', 'must', 'be', 'independent', 'of', '_our_', 'seeing.']), (0.0088145567065195, ['It', 'will', 'help', 'us', 'in', 'considering', 'these', 'questions', 'to', 'have', 'a', 'few', 'simple', 'terms', 'of', 'which', 'the', 'meaning', 'is', 'definite', 'and', 'clear.']), (0.008749661446101427, ['But', 'the', \"'real'\", 'shape', 'is', 'not', 'what', 'we', 'see;', 'it', 'is', 'something', 'inferred', 'from', 'what', 'we', 'see.']), (0.008674767651497947, ['This', 'question,', 'which', 'at', 'first', 'sight', 'might', 'not', 'seem', 'difficult,', 'is', 'really', 'one', 'of', 'the', 'most', 'difficult', 'that', 'can', 'be', 'asked.']), (0.008204313727087747, ['All', 'this', 'seems', 'to', 'be', 'so', 'evident', 'as', 'to', 'be', 'hardly', 'worth', 'stating,', 'except', 'in', 'answer', 'to', 'a', 'man', 'who', 'doubts', 'whether', 'I', 'know', 'anything.']), (0.007994670571598776, ['Philosophy,', 'if', 'it', 'cannot', '_answer_', 'so', 'many', 'questions', 'as', 'we', 'could', 'wish,', 'has', 'at', 'least', 'the', 'power', 'of', '_asking_', 'questions', 'which', 'increase', 'the', 'interest', 'of', 'the', 'world,', 'and', 'show', 'the', 'strangeness', 'and', 'wonder', 'lying', 'just', 'below', 'the', 'surface', 'even', 'in', 'the', 'commonest', 'things', 'of', 'daily', 'life.']), (0.007830730277009371, ['When', 'they', 'come', 'to', 'explaining', 'matter,', 'they', 'either', 'say,', 'like', 'Berkeley,', 'that', 'matter', 'is', 'really', 'nothing', 'but', 'a', 'collection', 'of', 'ideas,', 'or', 'they', 'say,', 'like', 'Leibniz', '(1646-1716),', 'that', 'what', 'appears', 'as', 'matter', 'is', 'really', 'a', 'collection', 'of', 'more', 'or', 'less', 'rudimentary', 'minds.']), (0.007797545446339125, ['We', 'commonly', 'mean', 'by', \"'matter'\", 'something', 'which', 'is', 'opposed', 'to', \"'mind',\", 'something', 'which', 'we', 'think', 'of', 'as', 'occupying', 'space', 'and', 'as', 'radically', 'incapable', 'of', 'any', 'sort', 'of', 'thought', 'or', 'consciousness.']), (0.0076120725838229476, ['His', '_Three', 'Dialogues', 'between', 'Hylas', 'and', 'Philonous,', 'in', 'Opposition', 'to', 'Sceptics', 'and', 'Atheists_,', 'undertake', 'to', 'prove', 'that', 'there', 'is', 'no', 'such', 'thing', 'as', 'matter', 'at', 'all,', 'and', 'that', 'the', 'world', 'consists', 'of', 'nothing', 'but', 'minds', 'and', 'their', 'ideas.']), (0.0075294091679379595, ['We', 'might', 'state', 'the', 'argument', 'by', 'which', 'they', 'support', 'their', 'view', 'in', 'some', 'such', 'way', 'as', 'this:', \"'Whatever\", 'can', 'be', 'thought', 'of', 'is', 'an', 'idea', 'in', 'the', 'mind', 'of', 'the', 'person', 'thinking', 'of', 'it;', 'therefore', 'nothing', 'can', 'be', 'thought', 'of', 'except', 'ideas', 'in', 'minds;', 'therefore', 'anything', 'else', 'is', 'inconceivable,', 'and', 'what', 'is', 'inconceivable', 'cannot', \"exist.'\"]), (0.0074890077205811215, ['Such', 'an', 'idea', 'has', 'the', 'required', 'permanence', 'and', 'independence', 'of', 'ourselves,', 'without', 'being--as', 'matter', 'would', 'otherwise', 'be--something', 'quite', 'unknowable,', 'in', 'the', 'sense', 'that', 'we', 'can', 'only', 'infer', 'it,', 'and', 'can', 'never', 'be', 'directly', 'and', 'immediately', 'aware', 'of', 'it.']), (0.007449214710607283, ['The', 'colour', 'is', 'that', '_of_', 'which', 'we', 'are', 'immediately', 'aware,', 'and', 'the', 'awareness', 'itself', 'is', 'the', 'sensation.']), (0.007269825073332927, ['(2)', 'If', 'so,', 'what', 'is', 'its', 'nature?']), (0.006755099517045477, ['Here', 'we', 'have', 'already', 'the', 'beginning', 'of', 'one', 'of', 'the', 'distinctions', 'that', 'cause', 'most', 'trouble', 'in', 'philosophy--the', 'distinction', 'between', \"'appearance'\", 'and', \"'reality',\", 'between', 'what', 'things', 'seem', 'to', 'be', 'and', 'what', 'they', 'are.']), (0.0064016644298857525, ['When', 'we', 'have', 'realized', 'the', 'obstacles', 'in', 'the', 'way', 'of', 'a', 'straightforward', 'and', 'confident', 'answer,', 'we', 'shall', 'be', 'well', 'launched', 'on', 'the', 'study', 'of', 'philosophy--for', 'philosophy', 'is', 'merely', 'the', 'attempt', 'to', 'answer', 'such', 'ultimate', 'questions,', 'not', 'carelessly', 'and', 'dogmatically,', 'as', 'we', 'do', 'in', 'ordinary', 'life', 'and', 'even', 'in', 'the', 'sciences,', 'but', 'critically,', 'after', 'exploring', 'all', 'that', 'makes', 'such', 'questions', 'puzzling,', 'and', 'after', 'realizing', 'all', 'the', 'vagueness', 'and', 'confusion', 'that', 'underlie', 'our', 'ordinary', 'ideas.']), (0.0062979579019404085, ['APPEARANCE', 'AND', 'REALITY', 'Is', 'there', 'any', 'knowledge', 'in', 'the', 'world', 'which', 'is', 'so', 'certain', 'that', 'no', 'reasonable', 'man', 'could', 'doubt', 'it?']), (0.006260867644415871, ['We', 'are', 'naturally', 'tempted', 'to', 'say', 'that', 'what', 'we', 'see', 'through', 'the', 'microscope', 'is', 'more', 'real,', 'but', 'that', 'in', 'turn', 'would', 'be', 'changed', 'by', 'a', 'still', 'more', 'powerful', 'microscope.']), (0.006246323674858187, ['Thus', 'both', 'of', 'them', 'answer', 'our', 'first', 'question', 'in', 'the', 'affirmative,', 'and', 'only', 'diverge', 'from', 'the', 'views', 'of', 'ordinary', 'mortals', 'in', 'their', 'answer', 'to', 'our', 'second', 'question.']), (0.006155680585897482, ['By', 'turning', 'my', 'head', 'I', 'see', 'out', 'of', 'the', 'window', 'buildings', 'and', 'clouds', 'and', 'the', 'sun.']), (0.006076958096455959, ['If', 'we', 'looked', 'at', 'it', 'through', 'a', 'microscope,', 'we', 'should', 'see', 'roughnesses', 'and', 'hills', 'and', 'valleys,', 'and', 'all', 'sorts', 'of', 'differences', 'that', 'are', 'imperceptible', 'to', 'the', 'naked', 'eye.']), (0.005901702284130702, ['And', 'the', 'same', 'applies', 'still', 'more', 'obviously', 'to', 'the', 'sounds', 'which', 'can', 'be', 'elicited', 'by', 'rapping', 'the', 'table.']), (0.005856914911111231, ['But', 'these', 'philosophers,', 'though', 'they', 'deny', 'matter', 'as', 'opposed', 'to', 'mind,', 'nevertheless,', 'in', 'another', 'sense,', 'admit', 'matter.']), (0.005826313613925953, ['And', 'if', 'so,', 'have', 'we', 'any', 'means', 'of', 'finding', 'out', 'what', 'it', 'is', 'like?']), (0.005823483775482667, ['To', 'return', 'to', 'the', 'table.']), (0.005477759429108996, ['We', 'shall', 'give', 'the', 'name', \"'sensation'\", 'to', 'the', 'experience', 'of', 'being', 'immediately', 'aware', 'of', 'these', 'things.']), (0.005350945912581028, ['The', 'collection', 'of', 'all', 'physical', 'objects', 'is', 'called', \"'matter'.\"]), (0.005190977954669954, ['The', 'same', 'thing', 'applies', 'to', 'the', 'texture.']), (0.005136476025458883, ['But', 'if', 'the', 'reality', 'is', 'not', 'what', 'appears,', 'have', 'we', 'any', 'means', 'of', 'knowing', 'whether', 'there', 'is', 'any', 'reality', 'at', 'all?']), (0.004848293071395359, ['Similar', 'difficulties', 'arise', 'when', 'we', 'consider', 'the', 'sense', 'of', 'touch.']), (0.004839331260551792, ['Hylas', 'has', 'hitherto', 'believed', 'in', 'matter,', 'but', 'he', 'is', 'no', 'match', 'for', 'Philonous,', 'who', 'mercilessly', 'drives', 'him', 'into', 'contradictions', 'and', 'paradoxes,', 'and', 'makes', 'his', 'own', 'denial', 'of', 'matter', 'seem,', 'in', 'the', 'end,', 'as', 'if', 'it', 'were', 'almost', 'common', 'sense.']), (0.004836420575334618, ['Which', 'of', 'these', 'is', 'the', \"'real'\", 'table?']), (0.0037932638655301595, ['Before', 'we', 'go', 'farther', 'it', 'will', 'be', 'well', 'to', 'consider', 'for', 'a', 'moment', 'what', 'it', 'is', 'that', 'we', 'have', 'discovered', 'so', 'far.']), (0.0037644042472511846, ['Such', 'philosophers', 'are', 'called', \"'idealists'.\"]), (0.003701481591010658, ['The', 'arguments', 'employed', 'are', 'of', 'very', 'different', 'value:', 'some', 'are', 'important', 'and', 'sound,', 'others', 'are', 'confused', 'or', 'quibbling.']), (0.0036493010256805057, ['Yet', 'all', 'this', 'may', 'be', 'reasonably', 'doubted,', 'and', 'all', 'of', 'it', 'requires', 'much', 'careful', 'discussion', 'before', 'we', 'can', 'be', 'sure', 'that', 'we', 'have', 'stated', 'it', 'in', 'a', 'form', 'that', 'is', 'wholly', 'true.']), (0.0034111153602867698, ['I', 'believe', 'that', 'the', 'sun', 'is', 'about', 'ninety-three', 'million', 'miles', 'from', 'the', 'earth;', 'that', 'it', 'is', 'a', 'hot', 'globe', 'many', 'times', 'bigger', 'than', 'the', 'earth;', 'that,', 'owing', 'to', 'the', \"earth's\", 'rotation,', 'it', 'rises', 'every', 'morning,', 'and', 'will', 'continue', 'to', 'do', 'so', 'for', 'an', 'indefinite', 'time', 'in', 'the', 'future.']), (0.0032096854988006387, ['If', 'opposite', 'sides', 'are', 'parallel,', 'they', 'will', 'look', 'as', 'if', 'they', 'converged', 'to', 'a', 'point', 'away', 'from', 'the', 'spectator;', 'if', 'they', 'are', 'of', 'equal', 'length,', 'they', 'will', 'look', 'as', 'if', 'the', 'nearer', 'side', 'were', 'longer.']), (0.0030274281623042763, ['To', 'the', 'eye', 'it', 'is', 'oblong,', 'brown', 'and', 'shiny,', 'to', 'the', 'touch', 'it', 'is', 'smooth', 'and', 'cool', 'and', 'hard;', 'when', 'I', 'tap', 'it,', 'it', 'gives', 'out', 'a', 'wooden', 'sound.']), (0.002743285602116004, ['Thus,', 'again,', 'the', 'confidence', 'in', 'our', 'senses', 'with', 'which', 'we', 'began', 'deserts', 'us.']), (0.0026874952180673435, ['In', 'the', 'search', 'for', 'certainty,', 'it', 'is', 'natural', 'to', 'begin', 'with', 'our', 'present', 'experiences,', 'and', 'in', 'some', 'sense,', 'no', 'doubt,', 'knowledge', 'is', 'to', 'be', 'derived', 'from', 'them.']), (0.001508295625942685, ['Such', 'an', 'argument,', 'in', 'my', 'opinion,', 'is', 'fallacious;', 'and', 'of', 'course', 'those', 'who', 'advance', 'it', 'do', 'not', 'put', 'it', 'so', 'shortly', 'or', 'so', 'crudely.']), (0.001508295625942685, ['CHAPTER', 'I.']), (0.001508295625942685, ['Beyond', 'this', 'modest', 'result,', 'so', 'far,', 'we', 'have', 'the', 'most', 'complete', 'liberty', 'of', 'conjecture.'])]\n"
     ]
    }
   ],
   "source": [
    "stop_words = stopwords.words('english')\n",
    "# print(stop_words)\n",
    "summarize_text = []\n",
    "# new_sentences = doc_lemmed\n",
    "        \n",
    "# Step 2 - Generate Similarity Matrix across sentences\n",
    "sentence_similarity_matrix = build_similarity_matrix(new_sentences, stop_words)\n",
    "\n",
    "# Step 3 - Rank sentences in similarity matrix\n",
    "sentence_similarity_graph = nx.from_numpy_array(sentence_similarity_matrix)\n",
    "scores = nx.pagerank(sentence_similarity_graph)\n",
    "# print(sentence_similarity_graph)\n",
    "# print(scores)\n",
    "\n",
    "# for i,s in enumerate(sentences):\n",
    "#     print(scores[i],s)\n",
    "\n",
    "# Step 4 - Sort the rank and pick top sentences\n",
    "ranked_sentence = sorted(((scores[i],s) for i,s in enumerate(new_sentences)), reverse=True)    \n",
    "print(\"Indexes of top ranked_sentence order are \", ranked_sentence)\n"
   ]
  },
  {
   "cell_type": "code",
   "execution_count": 34,
   "id": "4487d674",
   "metadata": {
    "scrolled": true
   },
   "outputs": [
    {
     "name": "stdout",
     "output_type": "stream",
     "text": [
      "Summarize Text: \n",
      " And what we see is constantly changing in shape as we move about the room; so that here again the senses seem not to give us the truth about the table itself, but only about the appearance of the table. This colour is not something which is inherent in the table, but something depending upon the table and the spectator and the way the light falls on the table. Hence, two very difficult questions at once arise; namely, (1) Is there a real table at all?\n"
     ]
    }
   ],
   "source": [
    "# number of sentences to combine\n",
    "summarize_text=[]\n",
    "for i in range(3):\n",
    "    summarize_text.append(\" \".join(ranked_sentence[i][1]))\n",
    "    # Step 5 - Offcourse, output the summarize text\n",
    "print(\"Summarize Text: \\n\", \". \".join(summarize_text).replace('..', '.'))"
   ]
  },
  {
   "cell_type": "markdown",
   "id": "6ae7a12b",
   "metadata": {},
   "source": [
    "## Model 2 - Using LDA Model Topic Distribution"
   ]
  },
  {
   "cell_type": "code",
   "execution_count": 35,
   "id": "f062404a",
   "metadata": {
    "scrolled": true
   },
   "outputs": [],
   "source": [
    "wnl = WordNetLemmatizer()\n",
    "lower = [[w.lower() for w in nltk.word_tokenize(sen)] for sen in sentences]\n",
    "punc = [[w for w in sen if re.search('^[a-z]+$', w)] for sen in lower]\n",
    "doc_lemmed = [[wnl.lemmatize(word, tag[0].lower()) for word, tag in pos_tag(sen, tagset='universal') if tag[0].lower() in ['a', 'r', 'n', 'v']] for sen in punc]"
   ]
  },
  {
   "cell_type": "code",
   "execution_count": 36,
   "id": "5d60058c",
   "metadata": {},
   "outputs": [
    {
     "name": "stdout",
     "output_type": "stream",
     "text": [
      "Number of sentences:  102\n"
     ]
    }
   ],
   "source": [
    "id2word = corpora.Dictionary.load('Model/finalmodel_Dictionary')\n",
    "# vectorise the words \n",
    "chapter = doc_lemmed\n",
    "# new_dict = gensim.corpora.Dictionary(chapter)\n",
    "new_vecs = [id2word.doc2bow(sen) for sen in chapter]\n",
    "print(\"Number of sentences: \",len(new_vecs))"
   ]
  },
  {
   "cell_type": "code",
   "execution_count": 37,
   "id": "b8e70f96",
   "metadata": {},
   "outputs": [],
   "source": [
    "#Find most dominant topic for each of the sentences\n",
    "\n",
    "import numpy as np\n",
    "import pandas as pd\n",
    "import warnings\n",
    "warnings.filterwarnings('ignore')\n",
    "\n",
    "lda_disk = gensim.models.ldamodel.LdaModel.load(\"Model/finalmodel_5Topics\")\n",
    "\n",
    "def format_topics_sentences(ldamodel, corpus, data):\n",
    "    # Init output\n",
    "    sent_topics_df = pd.DataFrame()\n",
    "\n",
    "    # Get main topic in each document\n",
    "    for i, row in enumerate(ldamodel[corpus]):\n",
    "        row = sorted(row, key=lambda x: (x[1]), reverse=True)\n",
    "        # Get the Dominant topic, Perc Contribution and Keywords for each document\n",
    "        for j, (topic_num, prop_topic) in enumerate(row):\n",
    "            if j == 0:  # => dominant topic\n",
    "                wp = ldamodel.show_topic(topic_num)\n",
    "                topic_keywords = \", \".join([word for word, prop in wp])\n",
    "                sent_topics_df = sent_topics_df.append(pd.Series([int(topic_num), round(prop_topic,4), topic_keywords]), ignore_index=True)\n",
    "            else:\n",
    "                break\n",
    "    sent_topics_df.columns = ['Dominant_Topic', 'Perc_Contribution', 'Topic_Keywords']\n",
    "\n",
    "    # Add original text to the end of the output\n",
    "    contents = pd.Series(data)\n",
    "    sent_topics_df = pd.concat([sent_topics_df, contents], axis=1)\n",
    "    return(sent_topics_df)\n",
    "\n",
    "#I choose model_list[2] where the number of topics is 6\n",
    "\n",
    "df_topic_sents_keywords = format_topics_sentences(ldamodel=lda_disk, corpus=new_vecs, data=chapter)\n",
    "\n",
    "# Format\n",
    "df_dominant_topic = df_topic_sents_keywords.reset_index()\n",
    "df_dominant_topic.columns = ['Sentence_No', 'Dominant_Topic', 'Topic_Perc_Contrib', 'Keywords', 'Text']\n",
    "sorted_df = df_dominant_topic.sort_values(by=\"Topic_Perc_Contrib\", ascending = False)"
   ]
  },
  {
   "cell_type": "code",
   "execution_count": 38,
   "id": "8a293292",
   "metadata": {},
   "outputs": [],
   "source": [
    "# selected = sorted_df.head(int(sorted_df.shape[0]*0.1))\n",
    "# selected.head()"
   ]
  },
  {
   "cell_type": "code",
   "execution_count": 39,
   "id": "0b575403",
   "metadata": {},
   "outputs": [],
   "source": [
    "# sen_list = sorted(selected['Sentence_No'].to_list())\n",
    "# sen_list"
   ]
  },
  {
   "cell_type": "code",
   "execution_count": 40,
   "id": "ab07c900",
   "metadata": {},
   "outputs": [
    {
     "name": "stdout",
     "output_type": "stream",
     "text": [
      "Summarize Text: \n",
      "It has appeared that, if we take any common object of the sort that is supposed to be known by the senses, what the senses _immediately_ tell us is not the truth about the object as it is apart from us, but only the truth about certain sense-data which, so far as we can see, depend upon the relations between us and the object. But the sensation we obtain depends upon how hard we press the table and also upon what part of the body we press with; thus the various sensations due to various pressures or various parts of the body cannot be supposed to reveal _directly_ any definite property of the table, but at most to be _signs_ of some property which perhaps _causes_ all the sensations, but is not actually apparent in any of them. In fact, almost all philosophers seem to be agreed that there is a real table: they almost all agree that, however much our sense-data--colour, shape, smoothness, etc.--may depend upon us, yet their occurrence is a sign of something existing independently of us, something differing, perhaps, completely from our sense-data, and yet to be regarded as causing those sense-data whenever we are in a suitable relation to the real table. But Berkeley retains the merit of having shown that the existence of matter is capable of being denied without absurdity, and that if there are any things that exist independently of us they cannot be the immediate objects of our sensations.\n"
     ]
    }
   ],
   "source": [
    "sen_list = sorted_df['Sentence_No'].to_list()\n",
    "result_list = []\n",
    "for i in sen_list[0:4]:\n",
    "    sentence = sentences[i].replace('\\n', ' ')\n",
    "    result_list.append(sentence)\n",
    "\n",
    "summary = ' '\n",
    "summary.join(result_list)\n",
    "print(\"Summarize Text: \\n\" + summary.join(result_list))"
   ]
  }
 ],
 "metadata": {
  "kernelspec": {
   "display_name": "Python 3",
   "language": "python",
   "name": "python3"
  },
  "language_info": {
   "codemirror_mode": {
    "name": "ipython",
    "version": 3
   },
   "file_extension": ".py",
   "mimetype": "text/x-python",
   "name": "python",
   "nbconvert_exporter": "python",
   "pygments_lexer": "ipython3",
   "version": "3.7.6"
  }
 },
 "nbformat": 4,
 "nbformat_minor": 5
}
